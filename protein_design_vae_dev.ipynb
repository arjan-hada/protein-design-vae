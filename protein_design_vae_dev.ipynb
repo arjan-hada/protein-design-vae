{
  "nbformat": 4,
  "nbformat_minor": 0,
  "metadata": {
    "colab": {
      "provenance": [],
      "machine_shape": "hm",
      "authorship_tag": "ABX9TyOh5dFoZtPzvex5A+CGmxQq",
      "include_colab_link": true
    },
    "kernelspec": {
      "name": "python3",
      "display_name": "Python 3"
    },
    "language_info": {
      "name": "python"
    }
  },
  "cells": [
    {
      "cell_type": "markdown",
      "metadata": {
        "id": "view-in-github",
        "colab_type": "text"
      },
      "source": [
        "<a href=\"https://colab.research.google.com/github/arjan-hada/protein-design-vae/blob/main/protein_design_vae_dev.ipynb\" target=\"_parent\"><img src=\"https://colab.research.google.com/assets/colab-badge.svg\" alt=\"Open In Colab\"/></a>"
      ]
    },
    {
      "cell_type": "code",
      "execution_count": 1,
      "metadata": {
        "colab": {
          "base_uri": "https://localhost:8080/"
        },
        "id": "uB799OY_xB60",
        "outputId": "b7061822-1a1c-4187-a32e-33b1c6d61d16"
      },
      "outputs": [
        {
          "output_type": "stream",
          "name": "stdout",
          "text": [
            "\u001b[2K     \u001b[90m━━━━━━━━━━━━━━━━━━━━━━━━━━━━━━━━━━━━━━━━\u001b[0m \u001b[32m378.3/378.3 kB\u001b[0m \u001b[31m6.9 MB/s\u001b[0m eta \u001b[36m0:00:00\u001b[0m\n",
            "\u001b[2K     \u001b[90m━━━━━━━━━━━━━━━━━━━━━━━━━━━━━━━━━━━━━━━━\u001b[0m \u001b[32m3.1/3.1 MB\u001b[0m \u001b[31m56.3 MB/s\u001b[0m eta \u001b[36m0:00:00\u001b[0m\n",
            "\u001b[2K     \u001b[90m━━━━━━━━━━━━━━━━━━━━━━━━━━━━━━━━━━━━━━━━\u001b[0m \u001b[32m179.2/179.2 kB\u001b[0m \u001b[31m25.8 MB/s\u001b[0m eta \u001b[36m0:00:00\u001b[0m\n",
            "\u001b[2K     \u001b[90m━━━━━━━━━━━━━━━━━━━━━━━━━━━━━━━━━━━━━━━━\u001b[0m \u001b[32m510.5/510.5 kB\u001b[0m \u001b[31m44.8 MB/s\u001b[0m eta \u001b[36m0:00:00\u001b[0m\n",
            "\u001b[2K     \u001b[90m━━━━━━━━━━━━━━━━━━━━━━━━━━━━━━━━━━━━━━━━\u001b[0m \u001b[32m571.7/571.7 kB\u001b[0m \u001b[31m51.8 MB/s\u001b[0m eta \u001b[36m0:00:00\u001b[0m\n",
            "\u001b[2K     \u001b[90m━━━━━━━━━━━━━━━━━━━━━━━━━━━━━━━━━━━━━━━━\u001b[0m \u001b[32m44.6/44.6 kB\u001b[0m \u001b[31m6.1 MB/s\u001b[0m eta \u001b[36m0:00:00\u001b[0m\n",
            "\u001b[2K     \u001b[90m━━━━━━━━━━━━━━━━━━━━━━━━━━━━━━━━━━━━━━━━\u001b[0m \u001b[32m280.0/280.0 kB\u001b[0m \u001b[31m36.8 MB/s\u001b[0m eta \u001b[36m0:00:00\u001b[0m\n",
            "\u001b[2K     \u001b[90m━━━━━━━━━━━━━━━━━━━━━━━━━━━━━━━━━━━━━━━━\u001b[0m \u001b[32m116.3/116.3 kB\u001b[0m \u001b[31m18.0 MB/s\u001b[0m eta \u001b[36m0:00:00\u001b[0m\n",
            "\u001b[2K     \u001b[90m━━━━━━━━━━━━━━━━━━━━━━━━━━━━━━━━━━━━━━━━\u001b[0m \u001b[32m134.8/134.8 kB\u001b[0m \u001b[31m21.5 MB/s\u001b[0m eta \u001b[36m0:00:00\u001b[0m\n",
            "\u001b[?25h"
          ]
        }
      ],
      "source": [
        "!pip install seqlike biopython torcheval -q miniminiai datasets"
      ]
    },
    {
      "cell_type": "markdown",
      "source": [
        "# Filling the gaps in protein evolution using Variational Autoencoders\n",
        "Generative, unsupervised latent variable model for protein sequences"
      ],
      "metadata": {
        "id": "H8GIKhnD8NsM"
      }
    },
    {
      "cell_type": "markdown",
      "source": [
        "Imagine this: you're at the forefront of computational biology, wielding variational autoencoders (VAEs) to not just decipher but innovate the language of proteins. Each amino acid, a letter; each sequence, a life-defining sentence. Here’s the essence:\n",
        "\n",
        "1. **Protein Encoder**: Like a diligent scholar, VAE learns from aligned protein sequences, and distills them into multidimensional latent space. This latent space captures the essential information about the protein sequence.\n",
        "\n",
        "2. **Latent Space**: Within this latent realm, the VAE, akin to an explorer, identifies the underlying biological patterns in existing protein sequences.\n",
        "\n",
        "3. **Decoder**: Given a point in the latent space identified as potentially interesting (e.g., representing a stable protein), the decoder translates this point back into a new protein sequence. This creates novel sequences with a higher likelihood of possessing the desired properties.\n",
        "\n",
        "VAE marries the predictive power of machine learning with the creative potential of synthetic biology. It has the potential to accelerate the discovery of therapeutic proteins and enzymes with enhanced catalytic properties."
      ],
      "metadata": {
        "id": "RFY5fbI88T9e"
      }
    },
    {
      "cell_type": "markdown",
      "source": [
        "## The data: Multiple Sequence Alignment"
      ],
      "metadata": {
        "id": "UdW-ACNd8XQp"
      }
    },
    {
      "cell_type": "code",
      "source": [
        "# Import libraries\n",
        "from seqlike import aaSeqLike\n",
        "from seqlike.alphabets import AA\n",
        "from Bio import SeqIO\n",
        "import pandas as pd\n",
        "import multiprocessing as mp\n",
        "import numpy as np\n",
        "\n",
        "import torch\n",
        "from torch.utils.data import Dataset, DataLoader, random_split\n",
        "import torch.nn as nn\n",
        "import torch.nn.functional as F\n",
        "from torch.nn import init\n",
        "from torcheval.metrics import MulticlassAccuracy,Mean,Metric\n",
        "import torch.optim as optim\n",
        "from torch.optim import lr_scheduler\n",
        "from miniminiai import *\n",
        "from fastai.callback.training import GradientClip\n",
        "from functools import partial"
      ],
      "metadata": {
        "colab": {
          "base_uri": "https://localhost:8080/"
        },
        "id": "rAudDIfsxL2V",
        "outputId": "fe8f7278-b98e-419c-bb56-4e3f550fbc70"
      },
      "execution_count": 2,
      "outputs": [
        {
          "output_type": "stream",
          "name": "stderr",
          "text": [
            "/usr/local/lib/python3.10/dist-packages/Bio/Application/__init__.py:40: BiopythonDeprecationWarning: The Bio.Application modules and modules relying on it have been deprecated.\n",
            "\n",
            "Due to the on going maintenance burden of keeping command line application\n",
            "wrappers up to date, we have decided to deprecate and eventually remove these\n",
            "modules.\n",
            "\n",
            "We instead now recommend building your command line and invoking it directly\n",
            "with the subprocess module.\n",
            "  warnings.warn(\n"
          ]
        }
      ]
    },
    {
      "cell_type": "code",
      "source": [
        "!mkdir -p data"
      ],
      "metadata": {
        "id": "X3gy0EvLxNw6"
      },
      "execution_count": 3,
      "outputs": []
    },
    {
      "cell_type": "code",
      "source": [
        "!wget -O data/tr-B5LY47-B5LY47-ECOLX_blast_nr_5000_aligned.fasta https://raw.githubusercontent.com/modernatx/therapeutic_enzyme_engineering_with_generative_neural_networks/main/data/tr-B5LY47-B5LY47-ECOLX_blast_nr_5000_aligned.fasta"
      ],
      "metadata": {
        "colab": {
          "base_uri": "https://localhost:8080/"
        },
        "id": "okYDp31KxQI7",
        "outputId": "2518fc8f-6d2a-4bfe-d941-a0ab79031127"
      },
      "execution_count": 4,
      "outputs": [
        {
          "output_type": "stream",
          "name": "stdout",
          "text": [
            "--2024-03-06 21:16:00--  https://raw.githubusercontent.com/modernatx/therapeutic_enzyme_engineering_with_generative_neural_networks/main/data/tr-B5LY47-B5LY47-ECOLX_blast_nr_5000_aligned.fasta\n",
            "Resolving raw.githubusercontent.com (raw.githubusercontent.com)... 185.199.111.133, 185.199.110.133, 185.199.108.133, ...\n",
            "Connecting to raw.githubusercontent.com (raw.githubusercontent.com)|185.199.111.133|:443... connected.\n",
            "HTTP request sent, awaiting response... 200 OK\n",
            "Length: 2486624 (2.4M) [text/plain]\n",
            "Saving to: ‘data/tr-B5LY47-B5LY47-ECOLX_blast_nr_5000_aligned.fasta’\n",
            "\n",
            "data/tr-B5LY47-B5LY 100%[===================>]   2.37M  11.0MB/s    in 0.2s    \n",
            "\n",
            "2024-03-06 21:16:01 (11.0 MB/s) - ‘data/tr-B5LY47-B5LY47-ECOLX_blast_nr_5000_aligned.fasta’ saved [2486624/2486624]\n",
            "\n"
          ]
        }
      ]
    },
    {
      "cell_type": "code",
      "source": [
        "!head data/tr-B5LY47-B5LY47-ECOLX_blast_nr_5000_aligned.fasta"
      ],
      "metadata": {
        "colab": {
          "base_uri": "https://localhost:8080/"
        },
        "id": "GTrzqb8JxUkS",
        "outputId": "c2c73df8-172f-4d9e-c6e0-d5caf6734cb5"
      },
      "execution_count": 5,
      "outputs": [
        {
          "output_type": "stream",
          "name": "stdout",
          "text": [
            ">tr|B5LY47|B5LY47_ECOLX Beta-lactamase (Fragment) OS=Escherichia coli OX=562 PE=1 SV=1\n",
            "-------AACI-PLLLGSAPLYA---QT------SA------VQ-Q------KLAALEKS\n",
            "SGGRLGVALIDTADNTQVLYRGDERFPMC-STSKVMAAAAVLKQSETQKQLLNQPVEIKP\n",
            "ADL--VNYNPIAEKHVNGTMTLAELSAAALQYSDNTAMNKLIAQLGGPGGVTAFARAIGD\n",
            "ETFRLDRTEPTLNTAIPG-DPRDTTTPRAMAQTLRQLTLGHA-LGETQRAQLVTWLKGNT\n",
            "TGAASIRAGLPTSWTVGDKTGSGGYGTTNDIAVIW-PQGRAPLVLVTYF----TQ-----\n",
            "-PQQNAESRRDVLASAARIIAEGL\n",
            ">gb|QGJ84174.1| CTX-M family beta-lactamase, partial [Escherichia coli] >gb|QGJ84176.1| CTX-M family beta-lactamase, partial [Escherichia coli] >gb|QGJ84177.1| CTX-M family beta-lactamase, partial [Escherichia coli] 1 seqs\n",
            "-------AACI-PLLLGSAPLYA---QT------SA------VQ-Q------KLAALEKS\n",
            "SGGRLGVALIDTADNTQVLYRGDERFPMC-STSKVMAAAAVLKQSETQKQLLNQPVEIKP\n"
          ]
        }
      ]
    },
    {
      "cell_type": "code",
      "source": [
        "input_file = \"data/tr-B5LY47-B5LY47-ECOLX_blast_nr_5000_aligned.fasta\""
      ],
      "metadata": {
        "id": "vZhSnk6exUhm"
      },
      "execution_count": 6,
      "outputs": []
    },
    {
      "cell_type": "code",
      "source": [
        "seqs = pd.Series([aaSeqLike(s, alphabet=AA)\n",
        "for s in SeqIO.parse(input_file, \"fasta\")])\n",
        "seqs = pd.Series([x for x in seqs if \"B\" not in x and \"X\" not in x])"
      ],
      "metadata": {
        "id": "t6K5HrwtxUfE"
      },
      "execution_count": 7,
      "outputs": []
    },
    {
      "cell_type": "code",
      "source": [
        "seqs.sample(10).seq.plot()"
      ],
      "metadata": {
        "colab": {
          "base_uri": "https://localhost:8080/",
          "height": 314
        },
        "id": "I6aqgPP3xUbu",
        "outputId": "a36abf85-d4fe-4363-a88e-4f3578f5ba51"
      },
      "execution_count": 8,
      "outputs": [
        {
          "output_type": "display_data",
          "data": {
            "application/javascript": [
              "(function(root) {\n",
              "  function now() {\n",
              "    return new Date();\n",
              "  }\n",
              "\n",
              "  const force = true;\n",
              "\n",
              "  if (typeof root._bokeh_onload_callbacks === \"undefined\" || force === true) {\n",
              "    root._bokeh_onload_callbacks = [];\n",
              "    root._bokeh_is_loading = undefined;\n",
              "  }\n",
              "\n",
              "const JS_MIME_TYPE = 'application/javascript';\n",
              "  const HTML_MIME_TYPE = 'text/html';\n",
              "  const EXEC_MIME_TYPE = 'application/vnd.bokehjs_exec.v0+json';\n",
              "  const CLASS_NAME = 'output_bokeh rendered_html';\n",
              "\n",
              "  /**\n",
              "   * Render data to the DOM node\n",
              "   */\n",
              "  function render(props, node) {\n",
              "    const script = document.createElement(\"script\");\n",
              "    node.appendChild(script);\n",
              "  }\n",
              "\n",
              "  /**\n",
              "   * Handle when an output is cleared or removed\n",
              "   */\n",
              "  function handleClearOutput(event, handle) {\n",
              "    function drop(id) {\n",
              "      const view = Bokeh.index.get_by_id(id)\n",
              "      if (view != null) {\n",
              "        view.model.document.clear()\n",
              "        Bokeh.index.delete(view)\n",
              "      }\n",
              "    }\n",
              "\n",
              "    const cell = handle.cell;\n",
              "\n",
              "    const id = cell.output_area._bokeh_element_id;\n",
              "    const server_id = cell.output_area._bokeh_server_id;\n",
              "\n",
              "    // Clean up Bokeh references\n",
              "    if (id != null) {\n",
              "      drop(id)\n",
              "    }\n",
              "\n",
              "    if (server_id !== undefined) {\n",
              "      // Clean up Bokeh references\n",
              "      const cmd_clean = \"from bokeh.io.state import curstate; print(curstate().uuid_to_server['\" + server_id + \"'].get_sessions()[0].document.roots[0]._id)\";\n",
              "      cell.notebook.kernel.execute(cmd_clean, {\n",
              "        iopub: {\n",
              "          output: function(msg) {\n",
              "            const id = msg.content.text.trim()\n",
              "            drop(id)\n",
              "          }\n",
              "        }\n",
              "      });\n",
              "      // Destroy server and session\n",
              "      const cmd_destroy = \"import bokeh.io.notebook as ion; ion.destroy_server('\" + server_id + \"')\";\n",
              "      cell.notebook.kernel.execute(cmd_destroy);\n",
              "    }\n",
              "  }\n",
              "\n",
              "  /**\n",
              "   * Handle when a new output is added\n",
              "   */\n",
              "  function handleAddOutput(event, handle) {\n",
              "    const output_area = handle.output_area;\n",
              "    const output = handle.output;\n",
              "\n",
              "    // limit handleAddOutput to display_data with EXEC_MIME_TYPE content only\n",
              "    if ((output.output_type != \"display_data\") || (!Object.prototype.hasOwnProperty.call(output.data, EXEC_MIME_TYPE))) {\n",
              "      return\n",
              "    }\n",
              "\n",
              "    const toinsert = output_area.element.find(\".\" + CLASS_NAME.split(' ')[0]);\n",
              "\n",
              "    if (output.metadata[EXEC_MIME_TYPE][\"id\"] !== undefined) {\n",
              "      toinsert[toinsert.length - 1].firstChild.textContent = output.data[JS_MIME_TYPE];\n",
              "      // store reference to embed id on output_area\n",
              "      output_area._bokeh_element_id = output.metadata[EXEC_MIME_TYPE][\"id\"];\n",
              "    }\n",
              "    if (output.metadata[EXEC_MIME_TYPE][\"server_id\"] !== undefined) {\n",
              "      const bk_div = document.createElement(\"div\");\n",
              "      bk_div.innerHTML = output.data[HTML_MIME_TYPE];\n",
              "      const script_attrs = bk_div.children[0].attributes;\n",
              "      for (let i = 0; i < script_attrs.length; i++) {\n",
              "        toinsert[toinsert.length - 1].firstChild.setAttribute(script_attrs[i].name, script_attrs[i].value);\n",
              "        toinsert[toinsert.length - 1].firstChild.textContent = bk_div.children[0].textContent\n",
              "      }\n",
              "      // store reference to server id on output_area\n",
              "      output_area._bokeh_server_id = output.metadata[EXEC_MIME_TYPE][\"server_id\"];\n",
              "    }\n",
              "  }\n",
              "\n",
              "  function register_renderer(events, OutputArea) {\n",
              "\n",
              "    function append_mime(data, metadata, element) {\n",
              "      // create a DOM node to render to\n",
              "      const toinsert = this.create_output_subarea(\n",
              "        metadata,\n",
              "        CLASS_NAME,\n",
              "        EXEC_MIME_TYPE\n",
              "      );\n",
              "      this.keyboard_manager.register_events(toinsert);\n",
              "      // Render to node\n",
              "      const props = {data: data, metadata: metadata[EXEC_MIME_TYPE]};\n",
              "      render(props, toinsert[toinsert.length - 1]);\n",
              "      element.append(toinsert);\n",
              "      return toinsert\n",
              "    }\n",
              "\n",
              "    /* Handle when an output is cleared or removed */\n",
              "    events.on('clear_output.CodeCell', handleClearOutput);\n",
              "    events.on('delete.Cell', handleClearOutput);\n",
              "\n",
              "    /* Handle when a new output is added */\n",
              "    events.on('output_added.OutputArea', handleAddOutput);\n",
              "\n",
              "    /**\n",
              "     * Register the mime type and append_mime function with output_area\n",
              "     */\n",
              "    OutputArea.prototype.register_mime_type(EXEC_MIME_TYPE, append_mime, {\n",
              "      /* Is output safe? */\n",
              "      safe: true,\n",
              "      /* Index of renderer in `output_area.display_order` */\n",
              "      index: 0\n",
              "    });\n",
              "  }\n",
              "\n",
              "  // register the mime type if in Jupyter Notebook environment and previously unregistered\n",
              "  if (root.Jupyter !== undefined) {\n",
              "    const events = require('base/js/events');\n",
              "    const OutputArea = require('notebook/js/outputarea').OutputArea;\n",
              "\n",
              "    if (OutputArea.prototype.mime_types().indexOf(EXEC_MIME_TYPE) == -1) {\n",
              "      register_renderer(events, OutputArea);\n",
              "    }\n",
              "  }\n",
              "  if (typeof (root._bokeh_timeout) === \"undefined\" || force === true) {\n",
              "    root._bokeh_timeout = Date.now() + 5000;\n",
              "    root._bokeh_failed_load = false;\n",
              "  }\n",
              "\n",
              "  const NB_LOAD_WARNING = {'data': {'text/html':\n",
              "     \"<div style='background-color: #fdd'>\\n\"+\n",
              "     \"<p>\\n\"+\n",
              "     \"BokehJS does not appear to have successfully loaded. If loading BokehJS from CDN, this \\n\"+\n",
              "     \"may be due to a slow or bad network connection. Possible fixes:\\n\"+\n",
              "     \"</p>\\n\"+\n",
              "     \"<ul>\\n\"+\n",
              "     \"<li>re-rerun `output_notebook()` to attempt to load from CDN again, or</li>\\n\"+\n",
              "     \"<li>use INLINE resources instead, as so:</li>\\n\"+\n",
              "     \"</ul>\\n\"+\n",
              "     \"<code>\\n\"+\n",
              "     \"from bokeh.resources import INLINE\\n\"+\n",
              "     \"output_notebook(resources=INLINE)\\n\"+\n",
              "     \"</code>\\n\"+\n",
              "     \"</div>\"}};\n",
              "\n",
              "  function display_loaded() {\n",
              "    const el = document.getElementById(null);\n",
              "    if (el != null) {\n",
              "      el.textContent = \"BokehJS is loading...\";\n",
              "    }\n",
              "    if (root.Bokeh !== undefined) {\n",
              "      if (el != null) {\n",
              "        el.textContent = \"BokehJS \" + root.Bokeh.version + \" successfully loaded.\";\n",
              "      }\n",
              "    } else if (Date.now() < root._bokeh_timeout) {\n",
              "      setTimeout(display_loaded, 100)\n",
              "    }\n",
              "  }\n",
              "\n",
              "  function run_callbacks() {\n",
              "    try {\n",
              "      root._bokeh_onload_callbacks.forEach(function(callback) {\n",
              "        if (callback != null)\n",
              "          callback();\n",
              "      });\n",
              "    } finally {\n",
              "      delete root._bokeh_onload_callbacks\n",
              "    }\n",
              "    console.debug(\"Bokeh: all callbacks have finished\");\n",
              "  }\n",
              "\n",
              "  function load_libs(css_urls, js_urls, callback) {\n",
              "    if (css_urls == null) css_urls = [];\n",
              "    if (js_urls == null) js_urls = [];\n",
              "\n",
              "    root._bokeh_onload_callbacks.push(callback);\n",
              "    if (root._bokeh_is_loading > 0) {\n",
              "      console.debug(\"Bokeh: BokehJS is being loaded, scheduling callback at\", now());\n",
              "      return null;\n",
              "    }\n",
              "    if (js_urls == null || js_urls.length === 0) {\n",
              "      run_callbacks();\n",
              "      return null;\n",
              "    }\n",
              "    console.debug(\"Bokeh: BokehJS not loaded, scheduling load and callback at\", now());\n",
              "    root._bokeh_is_loading = css_urls.length + js_urls.length;\n",
              "\n",
              "    function on_load() {\n",
              "      root._bokeh_is_loading--;\n",
              "      if (root._bokeh_is_loading === 0) {\n",
              "        console.debug(\"Bokeh: all BokehJS libraries/stylesheets loaded\");\n",
              "        run_callbacks()\n",
              "      }\n",
              "    }\n",
              "\n",
              "    function on_error(url) {\n",
              "      console.error(\"failed to load \" + url);\n",
              "    }\n",
              "\n",
              "    for (let i = 0; i < css_urls.length; i++) {\n",
              "      const url = css_urls[i];\n",
              "      const element = document.createElement(\"link\");\n",
              "      element.onload = on_load;\n",
              "      element.onerror = on_error.bind(null, url);\n",
              "      element.rel = \"stylesheet\";\n",
              "      element.type = \"text/css\";\n",
              "      element.href = url;\n",
              "      console.debug(\"Bokeh: injecting link tag for BokehJS stylesheet: \", url);\n",
              "      document.body.appendChild(element);\n",
              "    }\n",
              "\n",
              "    for (let i = 0; i < js_urls.length; i++) {\n",
              "      const url = js_urls[i];\n",
              "      const element = document.createElement('script');\n",
              "      element.onload = on_load;\n",
              "      element.onerror = on_error.bind(null, url);\n",
              "      element.async = false;\n",
              "      element.src = url;\n",
              "      console.debug(\"Bokeh: injecting script tag for BokehJS library: \", url);\n",
              "      document.head.appendChild(element);\n",
              "    }\n",
              "  };\n",
              "\n",
              "  function inject_raw_css(css) {\n",
              "    const element = document.createElement(\"style\");\n",
              "    element.appendChild(document.createTextNode(css));\n",
              "    document.body.appendChild(element);\n",
              "  }\n",
              "\n",
              "  const js_urls = [\"https://cdn.bokeh.org/bokeh/release/bokeh-3.3.4.min.js\", \"https://cdn.bokeh.org/bokeh/release/bokeh-gl-3.3.4.min.js\", \"https://cdn.bokeh.org/bokeh/release/bokeh-widgets-3.3.4.min.js\", \"https://cdn.bokeh.org/bokeh/release/bokeh-tables-3.3.4.min.js\", \"https://cdn.bokeh.org/bokeh/release/bokeh-mathjax-3.3.4.min.js\"];\n",
              "  const css_urls = [];\n",
              "\n",
              "  const inline_js = [    function(Bokeh) {\n",
              "      Bokeh.set_log_level(\"info\");\n",
              "    },\n",
              "function(Bokeh) {\n",
              "    }\n",
              "  ];\n",
              "\n",
              "  function run_inline_js() {\n",
              "    if (root.Bokeh !== undefined || force === true) {\n",
              "          for (let i = 0; i < inline_js.length; i++) {\n",
              "      inline_js[i].call(root, root.Bokeh);\n",
              "    }\n",
              "} else if (Date.now() < root._bokeh_timeout) {\n",
              "      setTimeout(run_inline_js, 100);\n",
              "    } else if (!root._bokeh_failed_load) {\n",
              "      console.log(\"Bokeh: BokehJS failed to load within specified timeout.\");\n",
              "      root._bokeh_failed_load = true;\n",
              "    } else if (force !== true) {\n",
              "      const cell = $(document.getElementById(null)).parents('.cell').data().cell;\n",
              "      cell.output_area.append_execute_result(NB_LOAD_WARNING)\n",
              "    }\n",
              "  }\n",
              "\n",
              "  if (root._bokeh_is_loading === 0) {\n",
              "    console.debug(\"Bokeh: BokehJS loaded, going straight to plotting\");\n",
              "    run_inline_js();\n",
              "  } else {\n",
              "    load_libs(css_urls, js_urls, function() {\n",
              "      console.debug(\"Bokeh: BokehJS plotting callback run at\", now());\n",
              "      run_inline_js();\n",
              "    });\n",
              "  }\n",
              "}(window));"
            ],
            "application/vnd.bokehjs_load.v0+json": "(function(root) {\n  function now() {\n    return new Date();\n  }\n\n  const force = true;\n\n  if (typeof root._bokeh_onload_callbacks === \"undefined\" || force === true) {\n    root._bokeh_onload_callbacks = [];\n    root._bokeh_is_loading = undefined;\n  }\n\n\n  if (typeof (root._bokeh_timeout) === \"undefined\" || force === true) {\n    root._bokeh_timeout = Date.now() + 5000;\n    root._bokeh_failed_load = false;\n  }\n\n  const NB_LOAD_WARNING = {'data': {'text/html':\n     \"<div style='background-color: #fdd'>\\n\"+\n     \"<p>\\n\"+\n     \"BokehJS does not appear to have successfully loaded. If loading BokehJS from CDN, this \\n\"+\n     \"may be due to a slow or bad network connection. Possible fixes:\\n\"+\n     \"</p>\\n\"+\n     \"<ul>\\n\"+\n     \"<li>re-rerun `output_notebook()` to attempt to load from CDN again, or</li>\\n\"+\n     \"<li>use INLINE resources instead, as so:</li>\\n\"+\n     \"</ul>\\n\"+\n     \"<code>\\n\"+\n     \"from bokeh.resources import INLINE\\n\"+\n     \"output_notebook(resources=INLINE)\\n\"+\n     \"</code>\\n\"+\n     \"</div>\"}};\n\n  function display_loaded() {\n    const el = document.getElementById(null);\n    if (el != null) {\n      el.textContent = \"BokehJS is loading...\";\n    }\n    if (root.Bokeh !== undefined) {\n      if (el != null) {\n        el.textContent = \"BokehJS \" + root.Bokeh.version + \" successfully loaded.\";\n      }\n    } else if (Date.now() < root._bokeh_timeout) {\n      setTimeout(display_loaded, 100)\n    }\n  }\n\n  function run_callbacks() {\n    try {\n      root._bokeh_onload_callbacks.forEach(function(callback) {\n        if (callback != null)\n          callback();\n      });\n    } finally {\n      delete root._bokeh_onload_callbacks\n    }\n    console.debug(\"Bokeh: all callbacks have finished\");\n  }\n\n  function load_libs(css_urls, js_urls, callback) {\n    if (css_urls == null) css_urls = [];\n    if (js_urls == null) js_urls = [];\n\n    root._bokeh_onload_callbacks.push(callback);\n    if (root._bokeh_is_loading > 0) {\n      console.debug(\"Bokeh: BokehJS is being loaded, scheduling callback at\", now());\n      return null;\n    }\n    if (js_urls == null || js_urls.length === 0) {\n      run_callbacks();\n      return null;\n    }\n    console.debug(\"Bokeh: BokehJS not loaded, scheduling load and callback at\", now());\n    root._bokeh_is_loading = css_urls.length + js_urls.length;\n\n    function on_load() {\n      root._bokeh_is_loading--;\n      if (root._bokeh_is_loading === 0) {\n        console.debug(\"Bokeh: all BokehJS libraries/stylesheets loaded\");\n        run_callbacks()\n      }\n    }\n\n    function on_error(url) {\n      console.error(\"failed to load \" + url);\n    }\n\n    for (let i = 0; i < css_urls.length; i++) {\n      const url = css_urls[i];\n      const element = document.createElement(\"link\");\n      element.onload = on_load;\n      element.onerror = on_error.bind(null, url);\n      element.rel = \"stylesheet\";\n      element.type = \"text/css\";\n      element.href = url;\n      console.debug(\"Bokeh: injecting link tag for BokehJS stylesheet: \", url);\n      document.body.appendChild(element);\n    }\n\n    for (let i = 0; i < js_urls.length; i++) {\n      const url = js_urls[i];\n      const element = document.createElement('script');\n      element.onload = on_load;\n      element.onerror = on_error.bind(null, url);\n      element.async = false;\n      element.src = url;\n      console.debug(\"Bokeh: injecting script tag for BokehJS library: \", url);\n      document.head.appendChild(element);\n    }\n  };\n\n  function inject_raw_css(css) {\n    const element = document.createElement(\"style\");\n    element.appendChild(document.createTextNode(css));\n    document.body.appendChild(element);\n  }\n\n  const js_urls = [\"https://cdn.bokeh.org/bokeh/release/bokeh-3.3.4.min.js\", \"https://cdn.bokeh.org/bokeh/release/bokeh-gl-3.3.4.min.js\", \"https://cdn.bokeh.org/bokeh/release/bokeh-widgets-3.3.4.min.js\", \"https://cdn.bokeh.org/bokeh/release/bokeh-tables-3.3.4.min.js\", \"https://cdn.bokeh.org/bokeh/release/bokeh-mathjax-3.3.4.min.js\"];\n  const css_urls = [];\n\n  const inline_js = [    function(Bokeh) {\n      Bokeh.set_log_level(\"info\");\n    },\nfunction(Bokeh) {\n    }\n  ];\n\n  function run_inline_js() {\n    if (root.Bokeh !== undefined || force === true) {\n          for (let i = 0; i < inline_js.length; i++) {\n      inline_js[i].call(root, root.Bokeh);\n    }\n} else if (Date.now() < root._bokeh_timeout) {\n      setTimeout(run_inline_js, 100);\n    } else if (!root._bokeh_failed_load) {\n      console.log(\"Bokeh: BokehJS failed to load within specified timeout.\");\n      root._bokeh_failed_load = true;\n    } else if (force !== true) {\n      const cell = $(document.getElementById(null)).parents('.cell').data().cell;\n      cell.output_area.append_execute_result(NB_LOAD_WARNING)\n    }\n  }\n\n  if (root._bokeh_is_loading === 0) {\n    console.debug(\"Bokeh: BokehJS loaded, going straight to plotting\");\n    run_inline_js();\n  } else {\n    load_libs(css_urls, js_urls, function() {\n      console.debug(\"Bokeh: BokehJS plotting callback run at\", now());\n      run_inline_js();\n    });\n  }\n}(window));"
          },
          "metadata": {}
        },
        {
          "output_type": "display_data",
          "data": {
            "text/html": [
              "\n",
              "  <div id=\"e7d4aac3-7ca1-4b8d-b497-967271559777\" data-root-id=\"p1073\" style=\"display: contents;\"></div>\n"
            ]
          },
          "metadata": {}
        },
        {
          "output_type": "display_data",
          "data": {
            "application/javascript": [
              "(function(root) {\n",
              "  function embed_document(root) {\n",
              "  const docs_json = {\"87736545-3284-4c45-861a-9be1d39d43eb\":{\"version\":\"3.3.4\",\"title\":\"Bokeh Application\",\"roots\":[{\"type\":\"object\",\"name\":\"GridPlot\",\"id\":\"p1073\",\"attributes\":{\"rows\":null,\"cols\":null,\"toolbar\":{\"type\":\"object\",\"name\":\"Toolbar\",\"id\":\"p1072\",\"attributes\":{\"tools\":[{\"type\":\"object\",\"name\":\"ToolProxy\",\"id\":\"p1069\",\"attributes\":{\"tools\":[{\"type\":\"object\",\"name\":\"PanTool\",\"id\":\"p1027\",\"attributes\":{\"dimensions\":\"width\"}},{\"type\":\"object\",\"name\":\"PanTool\",\"id\":\"p1058\",\"attributes\":{\"dimensions\":\"width\"}}]}},{\"type\":\"object\",\"name\":\"WheelZoomTool\",\"id\":\"p1028\",\"attributes\":{\"dimensions\":\"width\",\"renderers\":\"auto\"}},{\"type\":\"object\",\"name\":\"ToolProxy\",\"id\":\"p1070\",\"attributes\":{\"tools\":[{\"type\":\"object\",\"name\":\"ResetTool\",\"id\":\"p1029\"},{\"type\":\"object\",\"name\":\"ResetTool\",\"id\":\"p1059\"}]}},{\"type\":\"object\",\"name\":\"SaveTool\",\"id\":\"p1071\"}]}},\"toolbar_location\":\"below\",\"children\":[[{\"type\":\"object\",\"name\":\"Figure\",\"id\":\"p1005\",\"attributes\":{\"width\":1055,\"height\":50,\"x_range\":{\"type\":\"object\",\"name\":\"Range1d\",\"id\":\"p1004\",\"attributes\":{\"end\":325,\"bounds\":\"auto\"}},\"y_range\":{\"type\":\"object\",\"name\":\"Range1d\",\"id\":\"p1014\",\"attributes\":{\"end\":10}},\"x_scale\":{\"type\":\"object\",\"name\":\"LinearScale\",\"id\":\"p1015\"},\"y_scale\":{\"type\":\"object\",\"name\":\"LinearScale\",\"id\":\"p1016\"},\"title\":null,\"renderers\":[{\"type\":\"object\",\"name\":\"GlyphRenderer\",\"id\":\"p1032\",\"attributes\":{\"data_source\":{\"type\":\"object\",\"name\":\"ColumnDataSource\",\"id\":\"p1001\",\"attributes\":{\"selected\":{\"type\":\"object\",\"name\":\"Selection\",\"id\":\"p1002\",\"attributes\":{\"indices\":[],\"line_indices\":[]}},\"selection_policy\":{\"type\":\"object\",\"name\":\"UnionRenderers\",\"id\":\"p1003\"},\"data\":{\"type\":\"map\",\"entries\":[[\"x\",{\"type\":\"ndarray\",\"array\":{\"type\":\"bytes\",\"data\":\"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\"},\"shape\":[3240],\"dtype\":\"int32\",\"order\":\"little\"}],[\"y\",{\"type\":\"ndarray\",\"array\":{\"type\":\"bytes\",\"data\":\"CQAAAAkAAAAJAAAACQAAAAkAAAAJAAAACQAAAAkAAAAJAAAACQAAAAkAAAAJAAAACQAAAAkAAAAJAAAACQAAAAkAAAAJAAAACQAAAAkAAAAJAAAACQAAAAkAAAAJAAAACQAAAAkAAAAJAAAACQAAAAkAAAAJAAAACQAAAAkAAAAJAAAACQAAAAkAAAAJAAAACQAAAAkAAAAJAAAACQAAAAkAAAAJAAAACQAAAAkAAAAJAAAACQAAAAkAAAAJAAAACQAAAAkAAAAJAAAACQAAAAkAAAAJAAAACQAAAAkAAAAJAAAACQAAAAkAAAAJAAAACQAAAAkAAAAJAAAACQAAAAkAAAAJAAAACQAAAAkAAAAJAAAACQAAAAkAAAAJAAAACQAAAAkAAAAJAAAACQAAAAkAAAAJAAAACQAAAAkAAAAJAAAACQAAAAkAAAAJAAAACQAAAAkAAAAJAAAACQAAAAkAAAAJAAAACQAAAAkAAAAJAAAACQAAAAkAAAAJAAAACQAAAAkAAAAJAAAACQAAAAkAAAAJAAAACQAAAAkAAAAJAAAACQAAAAkAAAAJAAAACQAAAAkAAAAJAAAACQAAAAkAAAAJAAAACQAAAAkAAAAJAAAACQAAAAkAAAAJAAAACQAAAAkAAAAJAAAACQAAAAkAAAAJAAAACQAAAAkAAAAJAAAACQAAAAkAAAAJAAAACQAAAAkAAAAJAAAACQAAAAkAAAAJAAAACQAAAAkAAAAJAAAACQAAAAkAAAAJAAAACQAAAAkAAAAJAAAACQAAAAkAAAAJAAAACQAAAAkAAAAJAAAACQAAAAkAAAAJAAAACQAAAAkAAAAJAAAACQAAAAkAAAAJAAAACQAAAAkAAAAJAAAACQAAAAkAAAAJAAAACQAAAAkAAAAJAAAACQAAAAkAAAAJAAAACQAAAAkAAAAJAAAACQAAAAkAAAAJAAAACQAAAAkAAAAJAAAACQAAAAkAAAAJAAAACQAAAAkAAAAJAAAACQAAAAkAAAAJAAAACQAAAAkAAAAJAAAACQAAAAkAAAAJAAAACQAAAAkAAAAJAAAACQAAAAkAAAAJAAAACQAAAAkAAAAJAAAACQAAAAkAAAAJAAAACQAAAAkAAAAJAAAACQAAAAkAAAAJAAAACQAAAAkAAAAJAAAACQAAAAkAAAAJAAAACQAAAAkAAAAJAAAACQAAAAkAAAAJAAAACQAAAAkAAAAJAAAACQAAAAkAAAAJAAAACQAAAAkAAAAJAAAACQAAAAkAAAAJAAAACQAAAAkAAAAJAAAACQAAAAkAAAAJAAAACQAAAAkAAAAJAAAACQAAAAkAAAAJAAAACQAAAAkAAAAJAAAACQAAAAkAAAAJAAAACQAAAAkAAAAJAAAACQAAAAkAAAAJAAAACQAAAAkAAAAJAAAACQAAAAkAAAAJAAAACQAAAAkAAAAJAAAACQAAAAkAAAAJAAAACQAAAAkAAAAJAAAACQAAAAkAAAAJAAAACQAAAAkAAAAJAAAACQAAAAkAAAAJAAAACQAAAAkAAAAJAAAACQAAAAkAAAAJAAAACQAAAAkAAAAJAAAACQAAAAkAAAAJAAAACQAAAAkAAAAJAAAACQAAAAkAAAAJAAAACQAAAAkAAAAJAAAACQAAAAkAAAAJAAAACQAAAAkAAAAJAAAACQAAAAkAAAAJAAAACQAAAAkAAAAJAAAACQAAAAkAAAAJAAAACAAAAAgAAAAIAAAACAAAAAgAAAAIAAAACAAAAAgAAAAIAAAACAAAAAgAAAAIAAAACAAAAAgAAAAIAAAACAAAAAgAAAAIAAAACAAAAAgAAAAIAAAACAAAAAgAAAAIAAAACAAAAAgAAAAIAAAACAAAAAgAAAAIAAAACAAAAAgAAAAIAAAACAAAAAgAAAAIAAAACAAAAAgAAAAIAAAACAAAAAgAAAAIAAAACAAAAAgAAAAIAAAACAAAAAgAAAAIAAAACAAAAAgAAAAIAAAACAAAAAgAAAAIAAAACAAAAAgAAAAIAAAACAAAAAgAAAAIAAAACAAAAAgAAAAIAAAACAAAAAgAAAAIAAAACAAAAAgAAAAIAAAACAAAAAgAAAAIAAAACAAAAAgAAAAIAAAACAAAAAgAAAAIAAAACAAAAAgAAAAIAAAACAAAAAgAAAAIAAAACAAAAAgAAAAIAAAACAAAAAgAAAAIAAAACAAAAAgAAAAIAAAACAAAAAgAAAAIAAAACAAAAAgAAAAIAAAACAAAAAgAAAAIAAAACAAAAAgAAAAIAAAACAAAAAgAAAAIAAAACAAAAAgAAAAIAAAACAAAAAgAAAAIAAAACAAAAAgAAAAIAAAACAAAAAgAAAAIAAAACAAAAAgAAAAIAAAACAAAAAgAAAAIAAAACAAAAAgAAAAIAAAACAAAAAgAAAAIAAAACAAAAAgAAAAIAAAACAAAAAgAAAAIAAAACAAAAAgAAAAIAAAACAAAAAgAAAAIAAAACAAAAAgAAAAIAAAACAAAAAgAAAAIAAAACAAAAAgAAAAIAAAACAAAAAgAAAAIAAAACAAAAAgAAAAIAAAACAAAAAgAAAAIAAAACAAAAAgAAAAIAAAACAAAAAgAAAAIAAAACAAAAAgAAAAIAAAACAAAAAgAAAAIAAAACAAAAAgAAAAIAAAACAAAAAgAAAAIAAAACAAAAAgAAAAIAAAACAAAAAgAAAAIAAAACAAAAAgAAAAIAAAACAAAAAgAAAAIAAAACAAAAAgAAAAIAAAACAAAAAgAAAAIAAAACAAAAAgAAAAIAAAACAAAAAgAAAAIAAAACAAAAAgAAAAIAAAACAAAAAgAAAAIAAAACAAAAAgAAAAIAAAACAAAAAgAAAAIAAAACAAAAAgAAAAIAAAACAAAAAgAAAAIAAAACAAAAAgAAAAIAAAACAAAAAgAAAAIAAAACAAAAAgAAAAIAAAACAAAAAgAAAAIAAAACAAAAAgAAAAIAAAACAAAAAgAAAAIAAAACAAAAAgAAAAIAAAACAAAAAgAAAAIAAAACAAAAAgAAAAIAAAACAAAAAgAAAAIAAAACAAAAAgAAAAIAAAACAAAAAgAAAAIAAAACAAAAAgAAAAIAAAACAAAAAgAAAAIAAAACAAAAAgAAAAIAAAACAAAAAgAAAAIAAAACAAAAAgAAAAIAAAACAAAAAgAAAAIAAAACAAAAAgAAAAIAAAACAAAAAgAAAAIAAAACAAAAAgAAAAIAAAACAAAAAgAAAAIAAAACAAAAAgAAAAIAAAACAAAAAgAAAAIAAAACAAAAAgAAAAIAAAACAAAAAgAAAAIAAAACAAAAAgAAAAIAAAACAAAAAgAAAAIAAAACAAAAAgAAAAIAAAACAAAAAgAAAAIAAAACAAAAAgAAAAIAAAACAAAAAgAAAAIAAAACAAAAAgAAAAIAAAACAAAAAgAAAAIAAAABwAAAAcAAAAHAAAABwAAAAcAAAAHAAAABwAAAAcAAAAHAAAABwAAAAcAAAAHAAAABwAAAAcAAAAHAAAABwAAAAcAAAAHAAAABwAAAAcAAAAHAAAABwAAAAcAAAAHAAAABwAAAAcAAAAHAAAABwAAAAcAAAAHAAAABwAAAAcAAAAHAAAABwAAAAcAAAAHAAAABwAAAAcAAAAHAAAABwAAAAcAAAAHAAAABwAAAAcAAAAHAAAABwAAAAcAAAAHAAAABwAAAAcAAAAHAAAABwAAAAcAAAAHAAAABwAAAAcAAAAHAAAABwAAAAcAAAAHAAAABwAAAAcAAAAHAAAABwAAAAcAAAAHAAAABwAAAAcAAAAHAAAABwAAAAcAAAAHAAAABwAAAAcAAAAHAAAABwAAAAcAAAAHAAAABwAAAAcAAAAHAAAABwAAAAcAAAAHAAAABwAAAAcAAAAHAAAABwAAAAcAAAAHAAAABwAAAAcAAAAHAAAABwAAAAcAAAAHAAAABwAAAAcAAAAHAAAABwAAAAcAAAAHAAAABwAAAAcAAAAHAAAABwAAAAcAAAAHAAAABwAAAAcAAAAHAAAABwAAAAcAAAAHAAAABwAAAAcAAAAHAAAABwAAAAcAAAAHAAAABwAAAAcAAAAHAAAABwAAAAcAAAAHAAAABwAAAAcAAAAHAAAABwAAAAcAAAAHAAAABwAAAAcAAAAHAAAABwAAAAcAAAAHAAAABwAAAAcAAAAHAAAABwAAAAcAAAAHAAAABwAAAAcAAAAHAAAABwAAAAcAAAAHAAAABwAAAAcAAAAHAAAABwAAAAcAAAAHAAAABwAAAAcAAAAHAAAABwAAAAcAAAAHAAAABwAAAAcAAAAHAAAABwAAAAcAAAAHAAAABwAAAAcAAAAHAAAABwAAAAcAAAAHAAAABwAAAAcAAAAHAAAABwAAAAcAAAAHAAAABwAAAAcAAAAHAAAABwAAAAcAAAAHAAAABwAAAAcAAAAHAAAABwAAAAcAAAAHAAAABwAAAAcAAAAHAAAABwAAAAcAAAAHAAAABwAAAAcAAAAHAAAABwAAAAcAAAAHAAAABwAAAAcAAAAHAAAABwAAAAcAAAAHAAAABwAAAAcAAAAHAAAABwAAAAcAAAAHAAAABwAAAAcAAAAHAAAABwAAAAcAAAAHAAAABwAAAAcAAAAHAAAABwAAAAcAAAAHAAAABwAAAAcAAAAHAAAABwAAAAcAAAAHAAAABwAAAAcAAAAHAAAABwAAAAcAAAAHAAAABwAAAAcAAAAHAAAABwAAAAcAAAAHAAAABwAAAAcAAAAHAAAABwAAAAcAAAAHAAAABwAAAAcAAAAHAAAABwAAAAcAAAAHAAAABwAAAAcAAAAHAAAABwAAAAcAAAAHAAAABwAAAAcAAAAHAAAABwAAAAcAAAAHAAAABwAAAAcAAAAHAAAABwAAAAcAAAAHAAAABwAAAAcAAAAHAAAABwAAAAcAAAAHAAAABwAAAAcAAAAHAAAABwAAAAcAAAAHAAAABwAAAAcAAAAHAAAABwAAAAcAAAAHAAAABwAAAAcAAAAHAAAABwAAAAcAAAAHAAAABwAAAAcAAAAHAAAABwAAAAcAAAAHAAAABwAAAAcAAAAHAAAABwAAAAcAAAAHAAAABwAAAAcAAAAHAAAABwAAAAcAAAAHAAAABwAAAAcAAAAHAAAABwAAAAcAAAAHAAAABgAAAAYAAAAGAAAABgAAAAYAAAAGAAAABgAAAAYAAAAGAAAABgAAAAYAAAAGAAAABgAAAAYAAAAGAAAABgAAAAYAAAAGAAAABgAAAAYAAAAGAAAABgAAAAYAAAAGAAAABgAAAAYAAAAGAAAABgAAAAYAAAAGAAAABgAAAAYAAAAGAAAABgAAAAYAAAAGAAAABgAAAAYAAAAGAAAABgAAAAYAAAAGAAAABgAAAAYAAAAGAAAABgAAAAYAAAAGAAAABgAAAAYAAAAGAAAABgAAAAYAAAAGAAAABgAAAAYAAAAGAAAABgAAAAYAAAAGAAAABgAAAAYAAAAGAAAABgAAAAYAAAAGAAAABgAAAAYAAAAGAAAABgAAAAYAAAAGAAAABgAAAAYAAAAGAAAABgAAAAYAAAAGAAAABgAAAAYAAAAGAAAABgAAAAYAAAAGAAAABgAAAAYAAAAGAAAABgAAAAYAAAAGAAAABgAAAAYAAAAGAAAABgAAAAYAAAAGAAAABgAAAAYAAAAGAAAABgAAAAYAAAAGAAAABgAAAAYAAAAGAAAABgAAAAYAAAAGAAAABgAAAAYAAAAGAAAABgAAAAYAAAAGAAAABgAAAAYAAAAGAAAABgAAAAYAAAAGAAAABgAAAAYAAAAGAAAABgAAAAYAAAAGAAAABgAAAAYAAAAGAAAABgAAAAYAAAAGAAAABgAAAAYAAAAGAAAABgAAAAYAAAAGAAAABgAAAAYAAAAGAAAABgAAAAYAAAAGAAAABgAAAAYAAAAGAAAABgAAAAYAAAAGAAAABgAAAAYAAAAGAAAABgAAAAYAAAAGAAAABgAAAAYAAAAGAAAABgAAAAYAAAAGAAAABgAAAAYAAAAGAAAABgAAAAYAAAAGAAAABgAAAAYAAAAGAAAABgAAAAYAAAAGAAAABgAAAAYAAAAGAAAABgAAAAYAAAAGAAAABgAAAAYAAAAGAAAABgAAAAYAAAAGAAAABgAAAAYAAAAGAAAABgAAAAYAAAAGAAAABgAAAAYAAAAGAAAABgAAAAYAAAAGAAAABgAAAAYAAAAGAAAABgAAAAYAAAAGAAAABgAAAAYAAAAGAAAABgAAAAYAAAAGAAAABgAAAAYAAAAGAAAABgAAAAYAAAAGAAAABgAAAAYAAAAGAAAABgAAAAYAAAAGAAAABgAAAAYAAAAGAAAABgAAAAYAAAAGAAAABgAAAAYAAAAGAAAABgAAAAYAAAAGAAAABgAAAAYAAAAGAAAABgAAAAYAAAAGAAAABgAAAAYAAAAGAAAABgAAAAYAAAAGAAAABgAAAAYAAAAGAAAABgAAAAYAAAAGAAAABgAAAAYAAAAGAAAABgAAAAYAAAAGAAAABgAAAAYAAAAGAAAABgAAAAYAAAAGAAAABgAAAAYAAAAGAAAABgAAAAYAAAAGAAAABgAAAAYAAAAGAAAABgAAAAYAAAAGAAAABgAAAAYAAAAGAAAABgAAAAYAAAAGAAAABgAAAAYAAAAGAAAABgAAAAYAAAAGAAAABgAAAAYAAAAGAAAABgAAAAYAAAAGAAAABgAAAAYAAAAGAAAABgAAAAYAAAAGAAAABgAAAAYAAAAGAAAABgAAAAYAAAAGAAAABgAAAAYAAAAGAAAABgAAAAYAAAAGAAAABgAAAAYAAAAGAAAABgAAAAYAAAAGAAAABgAAAAYAAAAGAAAABgAAAAYAAAAGAAAABQAAAAUAAAAFAAAABQAAAAUAAAAFAAAABQAAAAUAAAAFAAAABQAAAAUAAAAFAAAABQAAAAUAAAAFAAAABQAAAAUAAAAFAAAABQAAAAUAAAAFAAAABQAAAAUAAAAFAAAABQAAAAUAAAAFAAAABQAAAAUAAAAFAAAABQAAAAUAAAAFAAAABQAAAAUAAAAFAAAABQAAAAUAAAAFAAAABQAAAAUAAAAFAAAABQAAAAUAAAAFAAAABQAAAAUAAAAFAAAABQAAAAUAAAAFAAAABQAAAAUAAAAFAAAABQAAAAUAAAAFAAAABQAAAAUAAAAFAAAABQAAAAUAAAAFAAAABQAAAAUAAAAFAAAABQAAAAUAAAAFAAAABQAAAAUAAAAFAAAABQAAAAUAAAAFAAAABQAAAAUAAAAFAAAABQAAAAUAAAAFAAAABQAAAAUAAAAFAAAABQAAAAUAAAAFAAAABQAAAAUAAAAFAAAABQAAAAUAAAAFAAAABQAAAAUAAAAFAAAABQAAAAUAAAAFAAAABQAAAAUAAAAFAAAABQAAAAUAAAAFAAAABQAAAAUAAAAFAAAABQAAAAUAAAAFAAAABQAAAAUAAAAFAAAABQAAAAUAAAAFAAAABQAAAAUAAAAFAAAABQAAAAUAAAAFAAAABQAAAAUAAAAFAAAABQAAAAUAAAAFAAAABQAAAAUAAAAFAAAABQAAAAUAAAAFAAAABQAAAAUAAAAFAAAABQAAAAUAAAAFAAAABQAAAAUAAAAFAAAABQAAAAUAAAAFAAAABQAAAAUAAAAFAAAABQAAAAUAAAAFAAAABQAAAAUAAAAFAAAABQAAAAUAAAAFAAAABQAAAAUAAAAFAAAABQAAAAUAAAAFAAAABQAAAAUAAAAFAAAABQAAAAUAAAAFAAAABQAAAAUAAAAFAAAABQAAAAUAAAAFAAAABQAAAAUAAAAFAAAABQAAAAUAAAAFAAAABQAAAAUAAAAFAAAABQAAAAUAAAAFAAAABQAAAAUAAAAFAAAABQAAAAUAAAAFAAAABQAAAAUAAAAFAAAABQAAAAUAAAAFAAAABQAAAAUAAAAFAAAABQAAAAUAAAAFAAAABQAAAAUAAAAFAAAABQAAAAUAAAAFAAAABQAAAAUAAAAFAAAABQAAAAUAAAAFAAAABQAAAAUAAAAFAAAABQAAAAUAAAAFAAAABQAAAAUAAAAFAAAABQAAAAUAAAAFAAAABQAAAAUAAAAFAAAABQAAAAUAAAAFAAAABQAAAAUAAAAFAAAABQAAAAUAAAAFAAAABQAAAAUAAAAFAAAABQAAAAUAAAAFAAAABQAAAAUAAAAFAAAABQAAAAUAAAAFAAAABQAAAAUAAAAFAAAABQAAAAUAAAAFAAAABQAAAAUAAAAFAAAABQAAAAUAAAAFAAAABQAAAAUAAAAFAAAABQAAAAUAAAAFAAAABQAAAAUAAAAFAAAABQAAAAUAAAAFAAAABQAAAAUAAAAFAAAABQAAAAUAAAAFAAAABQAAAAUAAAAFAAAABQAAAAUAAAAFAAAABQAAAAUAAAAFAAAABQAAAAUAAAAFAAAABQAAAAUAAAAFAAAABQAAAAUAAAAFAAAABQAAAAUAAAAFAAAABQAAAAUAAAAFAAAABQAAAAUAAAAFAAAABQAAAAUAAAAFAAAABQAAAAUAAAAFAAAABQAAAAUAAAAFAAAABQAAAAUAAAAFAAAABAAAAAQAAAAEAAAABAAAAAQAAAAEAAAABAAAAAQAAAAEAAAABAAAAAQAAAAEAAAABAAAAAQAAAAEAAAABAAAAAQAAAAEAAAABAAAAAQAAAAEAAAABAAAAAQAAAAEAAAABAAAAAQAAAAEAAAABAAAAAQAAAAEAAAABAAAAAQAAAAEAAAABAAAAAQAAAAEAAAABAAAAAQAAAAEAAAABAAAAAQAAAAEAAAABAAAAAQAAAAEAAAABAAAAAQAAAAEAAAABAAAAAQAAAAEAAAABAAAAAQAAAAEAAAABAAAAAQAAAAEAAAABAAAAAQAAAAEAAAABAAAAAQAAAAEAAAABAAAAAQAAAAEAAAABAAAAAQAAAAEAAAABAAAAAQAAAAEAAAABAAAAAQAAAAEAAAABAAAAAQAAAAEAAAABAAAAAQAAAAEAAAABAAAAAQAAAAEAAAABAAAAAQAAAAEAAAABAAAAAQAAAAEAAAABAAAAAQAAAAEAAAABAAAAAQAAAAEAAAABAAAAAQAAAAEAAAABAAAAAQAAAAEAAAABAAAAAQAAAAEAAAABAAAAAQAAAAEAAAABAAAAAQAAAAEAAAABAAAAAQAAAAEAAAABAAAAAQAAAAEAAAABAAAAAQAAAAEAAAABAAAAAQAAAAEAAAABAAAAAQAAAAEAAAABAAAAAQAAAAEAAAABAAAAAQAAAAEAAAABAAAAAQAAAAEAAAABAAAAAQAAAAEAAAABAAAAAQAAAAEAAAABAAAAAQAAAAEAAAABAAAAAQAAAAEAAAABAAAAAQAAAAEAAAABAAAAAQAAAAEAAAABAAAAAQAAAAEAAAABAAAAAQAAAAEAAAABAAAAAQAAAAEAAAABAAAAAQAAAAEAAAABAAAAAQAAAAEAAAABAAAAAQAAAAEAAAABAAAAAQAAAAEAAAABAAAAAQAAAAEAAAABAAAAAQAAAAEAAAABAAAAAQAAAAEAAAABAAAAAQAAAAEAAAABAAAAAQAAAAEAAAABAAAAAQAAAAEAAAABAAAAAQAAAAEAAAABAAAAAQAAAAEAAAABAAAAAQAAAAEAAAABAAAAAQAAAAEAAAABAAAAAQAAAAEAAAABAAAAAQAAAAEAAAABAAAAAQAAAAEAAAABAAAAAQAAAAEAAAABAAAAAQAAAAEAAAABAAAAAQAAAAEAAAABAAAAAQAAAAEAAAABAAAAAQAAAAEAAAABAAAAAQAAAAEAAAABAAAAAQAAAAEAAAABAAAAAQAAAAEAAAABAAAAAQAAAAEAAAABAAAAAQAAAAEAAAABAAAAAQAAAAEAAAABAAAAAQAAAAEAAAABAAAAAQAAAAEAAAABAAAAAQAAAAEAAAABAAAAAQAAAAEAAAABAAAAAQAAAAEAAAABAAAAAQAAAAEAAAABAAAAAQAAAAEAAAABAAAAAQAAAAEAAAABAAAAAQAAAAEAAAABAAAAAQAAAAEAAAABAAAAAQAAAAEAAAABAAAAAQAAAAEAAAABAAAAAQAAAAEAAAABAAAAAQAAAAEAAAABAAAAAQAAAAEAAAABAAAAAQAAAAEAAAABAAAAAQAAAAEAAAABAAAAAQAAAAEAAAABAAAAAQAAAAEAAAABAAAAAQAAAAEAAAABAAAAAQAAAAEAAAABAAAAAQAAAAEAAAABAAAAAQAAAAEAAAABAAAAAQAAAAEAAAABAAAAAQAAAAEAAAABAAAAAQAAAAEAAAAAwAAAAMAAAADAAAAAwAAAAMAAAADAAAAAwAAAAMAAAADAAAAAwAAAAMAAAADAAAAAwAAAAMAAAADAAAAAwAAAAMAAAADAAAAAwAAAAMAAAADAAAAAwAAAAMAAAADAAAAAwAAAAMAAAADAAAAAwAAAAMAAAADAAAAAwAAAAMAAAADAAAAAwAAAAMAAAADAAAAAwAAAAMAAAADAAAAAwAAAAMAAAADAAAAAwAAAAMAAAADAAAAAwAAAAMAAAADAAAAAwAAAAMAAAADAAAAAwAAAAMAAAADAAAAAwAAAAMAAAADAAAAAwAAAAMAAAADAAAAAwAAAAMAAAADAAAAAwAAAAMAAAADAAAAAwAAAAMAAAADAAAAAwAAAAMAAAADAAAAAwAAAAMAAAADAAAAAwAAAAMAAAADAAAAAwAAAAMAAAADAAAAAwAAAAMAAAADAAAAAwAAAAMAAAADAAAAAwAAAAMAAAADAAAAAwAAAAMAAAADAAAAAwAAAAMAAAADAAAAAwAAAAMAAAADAAAAAwAAAAMAAAADAAAAAwAAAAMAAAADAAAAAwAAAAMAAAADAAAAAwAAAAMAAAADAAAAAwAAAAMAAAADAAAAAwAAAAMAAAADAAAAAwAAAAMAAAADAAAAAwAAAAMAAAADAAAAAwAAAAMAAAADAAAAAwAAAAMAAAADAAAAAwAAAAMAAAADAAAAAwAAAAMAAAADAAAAAwAAAAMAAAADAAAAAwAAAAMAAAADAAAAAwAAAAMAAAADAAAAAwAAAAMAAAADAAAAAwAAAAMAAAADAAAAAwAAAAMAAAADAAAAAwAAAAMAAAADAAAAAwAAAAMAAAADAAAAAwAAAAMAAAADAAAAAwAAAAMAAAADAAAAAwAAAAMAAAADAAAAAwAAAAMAAAADAAAAAwAAAAMAAAADAAAAAwAAAAMAAAADAAAAAwAAAAMAAAADAAAAAwAAAAMAAAADAAAAAwAAAAMAAAADAAAAAwAAAAMAAAADAAAAAwAAAAMAAAADAAAAAwAAAAMAAAADAAAAAwAAAAMAAAADAAAAAwAAAAMAAAADAAAAAwAAAAMAAAADAAAAAwAAAAMAAAADAAAAAwAAAAMAAAADAAAAAwAAAAMAAAADAAAAAwAAAAMAAAADAAAAAwAAAAMAAAADAAAAAwAAAAMAAAADAAAAAwAAAAMAAAADAAAAAwAAAAMAAAADAAAAAwAAAAMAAAADAAAAAwAAAAMAAAADAAAAAwAAAAMAAAADAAAAAwAAAAMAAAADAAAAAwAAAAMAAAADAAAAAwAAAAMAAAADAAAAAwAAAAMAAAADAAAAAwAAAAMAAAADAAAAAwAAAAMAAAADAAAAAwAAAAMAAAADAAAAAwAAAAMAAAADAAAAAwAAAAMAAAADAAAAAwAAAAMAAAADAAAAAwAAAAMAAAADAAAAAwAAAAMAAAADAAAAAwAAAAMAAAADAAAAAwAAAAMAAAADAAAAAwAAAAMAAAADAAAAAwAAAAMAAAADAAAAAwAAAAMAAAADAAAAAwAAAAMAAAADAAAAAwAAAAMAAAADAAAAAwAAAAMAAAADAAAAAwAAAAMAAAADAAAAAwAAAAMAAAADAAAAAwAAAAMAAAADAAAAAwAAAAMAAAADAAAAAwAAAAMAAAADAAAAAwAAAAMAAAADAAAAAwAAAAMAAAADAAAAAwAAAAMAAAADAAAAAwAAAAMAAAADAAAAAgAAAAIAAAACAAAAAgAAAAIAAAACAAAAAgAAAAIAAAACAAAAAgAAAAIAAAACAAAAAgAAAAIAAAACAAAAAgAAAAIAAAACAAAAAgAAAAIAAAACAAAAAgAAAAIAAAACAAAAAgAAAAIAAAACAAAAAgAAAAIAAAACAAAAAgAAAAIAAAACAAAAAgAAAAIAAAACAAAAAgAAAAIAAAACAAAAAgAAAAIAAAACAAAAAgAAAAIAAAACAAAAAgAAAAIAAAACAAAAAgAAAAIAAAACAAAAAgAAAAIAAAACAAAAAgAAAAIAAAACAAAAAgAAAAIAAAACAAAAAgAAAAIAAAACAAAAAgAAAAIAAAACAAAAAgAAAAIAAAACAAAAAgAAAAIAAAACAAAAAgAAAAIAAAACAAAAAgAAAAIAAAACAAAAAgAAAAIAAAACAAAAAgAAAAIAAAACAAAAAgAAAAIAAAACAAAAAgAAAAIAAAACAAAAAgAAAAIAAAACAAAAAgAAAAIAAAACAAAAAgAAAAIAAAACAAAAAgAAAAIAAAACAAAAAgAAAAIAAAACAAAAAgAAAAIAAAACAAAAAgAAAAIAAAACAAAAAgAAAAIAAAACAAAAAgAAAAIAAAACAAAAAgAAAAIAAAACAAAAAgAAAAIAAAACAAAAAgAAAAIAAAACAAAAAgAAAAIAAAACAAAAAgAAAAIAAAACAAAAAgAAAAIAAAACAAAAAgAAAAIAAAACAAAAAgAAAAIAAAACAAAAAgAAAAIAAAACAAAAAgAAAAIAAAACAAAAAgAAAAIAAAACAAAAAgAAAAIAAAACAAAAAgAAAAIAAAACAAAAAgAAAAIAAAACAAAAAgAAAAIAAAACAAAAAgAAAAIAAAACAAAAAgAAAAIAAAACAAAAAgAAAAIAAAACAAAAAgAAAAIAAAACAAAAAgAAAAIAAAACAAAAAgAAAAIAAAACAAAAAgAAAAIAAAACAAAAAgAAAAIAAAACAAAAAgAAAAIAAAACAAAAAgAAAAIAAAACAAAAAgAAAAIAAAACAAAAAgAAAAIAAAACAAAAAgAAAAIAAAACAAAAAgAAAAIAAAACAAAAAgAAAAIAAAACAAAAAgAAAAIAAAACAAAAAgAAAAIAAAACAAAAAgAAAAIAAAACAAAAAgAAAAIAAAACAAAAAgAAAAIAAAACAAAAAgAAAAIAAAACAAAAAgAAAAIAAAACAAAAAgAAAAIAAAACAAAAAgAAAAIAAAACAAAAAgAAAAIAAAACAAAAAgAAAAIAAAACAAAAAgAAAAIAAAACAAAAAgAAAAIAAAACAAAAAgAAAAIAAAACAAAAAgAAAAIAAAACAAAAAgAAAAIAAAACAAAAAgAAAAIAAAACAAAAAgAAAAIAAAACAAAAAgAAAAIAAAACAAAAAgAAAAIAAAACAAAAAgAAAAIAAAACAAAAAgAAAAIAAAACAAAAAgAAAAIAAAACAAAAAgAAAAIAAAACAAAAAgAAAAIAAAACAAAAAgAAAAIAAAACAAAAAgAAAAIAAAACAAAAAgAAAAIAAAACAAAAAgAAAAIAAAACAAAAAgAAAAIAAAACAAAAAgAAAAIAAAACAAAAAgAAAAIAAAACAAAAAgAAAAIAAAACAAAAAgAAAAIAAAACAAAAAgAAAAIAAAACAAAAAgAAAAIAAAACAAAAAgAAAAIAAAACAAAAAgAAAAIAAAACAAAAAgAAAAIAAAACAAAAAQAAAAEAAAABAAAAAQAAAAEAAAABAAAAAQAAAAEAAAABAAAAAQAAAAEAAAABAAAAAQAAAAEAAAABAAAAAQAAAAEAAAABAAAAAQAAAAEAAAABAAAAAQAAAAEAAAABAAAAAQAAAAEAAAABAAAAAQAAAAEAAAABAAAAAQAAAAEAAAABAAAAAQAAAAEAAAABAAAAAQAAAAEAAAABAAAAAQAAAAEAAAABAAAAAQAAAAEAAAABAAAAAQAAAAEAAAABAAAAAQAAAAEAAAABAAAAAQAAAAEAAAABAAAAAQAAAAEAAAABAAAAAQAAAAEAAAABAAAAAQAAAAEAAAABAAAAAQAAAAEAAAABAAAAAQAAAAEAAAABAAAAAQAAAAEAAAABAAAAAQAAAAEAAAABAAAAAQAAAAEAAAABAAAAAQAAAAEAAAABAAAAAQAAAAEAAAABAAAAAQAAAAEAAAABAAAAAQAAAAEAAAABAAAAAQAAAAEAAAABAAAAAQAAAAEAAAABAAAAAQAAAAEAAAABAAAAAQAAAAEAAAABAAAAAQAAAAEAAAABAAAAAQAAAAEAAAABAAAAAQAAAAEAAAABAAAAAQAAAAEAAAABAAAAAQAAAAEAAAABAAAAAQAAAAEAAAABAAAAAQAAAAEAAAABAAAAAQAAAAEAAAABAAAAAQAAAAEAAAABAAAAAQAAAAEAAAABAAAAAQAAAAEAAAABAAAAAQAAAAEAAAABAAAAAQAAAAEAAAABAAAAAQAAAAEAAAABAAAAAQAAAAEAAAABAAAAAQAAAAEAAAABAAAAAQAAAAEAAAABAAAAAQAAAAEAAAABAAAAAQAAAAEAAAABAAAAAQAAAAEAAAABAAAAAQAAAAEAAAABAAAAAQAAAAEAAAABAAAAAQAAAAEAAAABAAAAAQAAAAEAAAABAAAAAQAAAAEAAAABAAAAAQAAAAEAAAABAAAAAQAAAAEAAAABAAAAAQAAAAEAAAABAAAAAQAAAAEAAAABAAAAAQAAAAEAAAABAAAAAQAAAAEAAAABAAAAAQAAAAEAAAABAAAAAQAAAAEAAAABAAAAAQAAAAEAAAABAAAAAQAAAAEAAAABAAAAAQAAAAEAAAABAAAAAQAAAAEAAAABAAAAAQAAAAEAAAABAAAAAQAAAAEAAAABAAAAAQAAAAEAAAABAAAAAQAAAAEAAAABAAAAAQAAAAEAAAABAAAAAQAAAAEAAAABAAAAAQAAAAEAAAABAAAAAQAAAAEAAAABAAAAAQAAAAEAAAABAAAAAQAAAAEAAAABAAAAAQAAAAEAAAABAAAAAQAAAAEAAAABAAAAAQAAAAEAAAABAAAAAQAAAAEAAAABAAAAAQAAAAEAAAABAAAAAQAAAAEAAAABAAAAAQAAAAEAAAABAAAAAQAAAAEAAAABAAAAAQAAAAEAAAABAAAAAQAAAAEAAAABAAAAAQAAAAEAAAABAAAAAQAAAAEAAAABAAAAAQAAAAEAAAABAAAAAQAAAAEAAAABAAAAAQAAAAEAAAABAAAAAQAAAAEAAAABAAAAAQAAAAEAAAABAAAAAQAAAAEAAAABAAAAAQAAAAEAAAABAAAAAQAAAAEAAAABAAAAAQAAAAEAAAABAAAAAQAAAAEAAAABAAAAAQAAAAEAAAABAAAAAQAAAAEAAAABAAAAAQAAAAEAAAABAAAAAQAAAAEAAAABAAAAAQAAAAEAAAABAAAAAAAAAAAAAAAAAAAAAAAAAAAAAAAAAAAAAAAAAAAAAAAAAAAAAAAAAAAAAAAAAAAAAAAAAAAAAAAAAAAAAAAAAAAAAAAAAAAAAAAAAAAAAAAAAAAAAAAAAAAAAAAAAAAAAAAAAAAAAAAAAAAAAAAAAAAAAAAAAAAAAAAAAAAAAAAAAAAAAAAAAAAAAAAAAAAAAAAAAAAAAAAAAAAAAAAAAAAAAAAAAAAAAAAAAAAAAAAAAAAAAAAAAAAAAAAAAAAAAAAAAAAAAAAAAAAAAAAAAAAAAAAAAAAAAAAAAAAAAAAAAAAAAAAAAAAAAAAAAAAAAAAAAAAAAAAAAAAAAAAAAAAAAAAAAAAAAAAAAAAAAAAAAAAAAAAAAAAAAAAAAAAAAAAAAAAAAAAAAAAAAAAAAAAAAAAAAAAAAAAAAAAAAAAAAAAAAAAAAAAAAAAAAAAAAAAAAAAAAAAAAAAAAAAAAAAAAAAAAAAAAAAAAAAAAAAAAAAAAAAAAAAAAAAAAAAAAAAAAAAAAAAAAAAAAAAAAAAAAAAAAAAAAAAAAAAAAAAAAAAAAAAAAAAAAAAAAAAAAAAAAAAAAAAAAAAAAAAAAAAAAAAAAAAAAAAAAAAAAAAAAAAAAAAAAAAAAAAAAAAAAAAAAAAAAAAAAAAAAAAAAAAAAAAAAAAAAAAAAAAAAAAAAAAAAAAAAAAAAAAAAAAAAAAAAAAAAAAAAAAAAAAAAAAAAAAAAAAAAAAAAAAAAAAAAAAAAAAAAAAAAAAAAAAAAAAAAAAAAAAAAAAAAAAAAAAAAAAAAAAAAAAAAAAAAAAAAAAAAAAAAAAAAAAAAAAAAAAAAAAAAAAAAAAAAAAAAAAAAAAAAAAAAAAAAAAAAAAAAAAAAAAAAAAAAAAAAAAAAAAAAAAAAAAAAAAAAAAAAAAAAAAAAAAAAAAAAAAAAAAAAAAAAAAAAAAAAAAAAAAAAAAAAAAAAAAAAAAAAAAAAAAAAAAAAAAAAAAAAAAAAAAAAAAAAAAAAAAAAAAAAAAAAAAAAAAAAAAAAAAAAAAAAAAAAAAAAAAAAAAAAAAAAAAAAAAAAAAAAAAAAAAAAAAAAAAAAAAAAAAAAAAAAAAAAAAAAAAAAAAAAAAAAAAAAAAAAAAAAAAAAAAAAAAAAAAAAAAAAAAAAAAAAAAAAAAAAAAAAAAAAAAAAAAAAAAAAAAAAAAAAAAAAAAAAAAAAAAAAAAAAAAAAAAAAAAAAAAAAAAAAAAAAAAAAAAAAAAAAAAAAAAAAAAAAAAAAAAAAAAAAAAAAAAAAAAAAAAAAAAAAAAAAAAAAAAAAAAAAAAAAAAAAAAAAAAAAAAAAAAAAAAAAAAAAAAAAAAAAAAAAAAAAAAAAAAAAAAAAAAAAAAAAAAAAAAAAAAAAAAAAAAAAAAAAAAAAAAAAAAAAAAAAAAAAAAAAAAAAAAAAAAAAAAAAAAAAAAAAAAAAAAAAAAAAAAAAAAAAAAAAAAAAAAAAAAAAAAAAAAAAAAAAAAAAAAAAAAAAAAAAAAAAAAAAAAAAAAAAAAAAAAAAAAAAAAAAAAAAAAAAAAAAAAAAAAAAAAAAAAAAAAAAAAAAAAAAAAAAAAAAAAAAAAAAAAAAAAAAAAAAAAAAAAAAAAAAAAAAAAAAAAAAAAAAAAAAAAAAAAAAAAAAAAAAAAAAAAAAAAAAAAAAAAAAAAAAAAAAAAAAAAAAAAAAAAAAAAAAAAAAAAAAAAA\"},\"shape\":[3240],\"dtype\":\"int32\",\"order\":\"little\"}],[\"recty\",{\"type\":\"ndarray\",\"array\":{\"type\":\"bytes\",\"data\":\"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\"},\"shape\":[3240],\"dtype\":\"float64\",\"order\":\"little\"}],[\"text\",[\"-\",\"-\",\"-\",\"-\",\"-\",\"-\",\"-\",\"-\",\"A\",\"T\",\"V\",\"-\",\"T\",\"L\",\"L\",\"L\",\"G\",\"S\",\"V\",\"P\",\"L\",\"Y\",\"A\",\"-\",\"-\",\"-\",\"Q\",\"T\",\"-\",\"-\",\"-\",\"-\",\"-\",\"-\",\"A\",\"D\",\"-\",\"-\",\"-\",\"-\",\"-\",\"-\",\"V\",\"Q\",\"-\",\"Q\",\"-\",\"-\",\"-\",\"-\",\"-\",\"-\",\"K\",\"L\",\"A\",\"E\",\"L\",\"E\",\"R\",\"Q\",\"S\",\"G\",\"G\",\"R\",\"L\",\"G\",\"V\",\"A\",\"L\",\"I\",\"N\",\"T\",\"A\",\"D\",\"N\",\"S\",\"Q\",\"I\",\"L\",\"Y\",\"R\",\"A\",\"D\",\"E\",\"R\",\"F\",\"A\",\"M\",\"C\",\"-\",\"S\",\"T\",\"S\",\"K\",\"V\",\"M\",\"A\",\"V\",\"A\",\"A\",\"V\",\"L\",\"K\",\"K\",\"S\",\"E\",\"S\",\"E\",\"P\",\"N\",\"L\",\"L\",\"N\",\"Q\",\"R\",\"V\",\"E\",\"I\",\"K\",\"K\",\"S\",\"D\",\"L\",\"-\",\"-\",\"V\",\"N\",\"Y\",\"N\",\"P\",\"I\",\"A\",\"E\",\"K\",\"H\",\"V\",\"D\",\"G\",\"T\",\"M\",\"S\",\"L\",\"A\",\"D\",\"L\",\"S\",\"A\",\"A\",\"A\",\"L\",\"Q\",\"Y\",\"S\",\"D\",\"N\",\"V\",\"A\",\"M\",\"N\",\"K\",\"L\",\"I\",\"S\",\"H\",\"V\",\"G\",\"G\",\"P\",\"A\",\"S\",\"V\",\"T\",\"A\",\"F\",\"A\",\"R\",\"Q\",\"L\",\"G\",\"D\",\"E\",\"T\",\"F\",\"R\",\"L\",\"D\",\"R\",\"T\",\"E\",\"P\",\"T\",\"L\",\"N\",\"T\",\"A\",\"I\",\"P\",\"G\",\"-\",\"D\",\"P\",\"R\",\"D\",\"T\",\"T\",\"S\",\"P\",\"R\",\"A\",\"M\",\"A\",\"Q\",\"T\",\"L\",\"R\",\"N\",\"L\",\"T\",\"L\",\"G\",\"K\",\"A\",\"-\",\"L\",\"G\",\"D\",\"S\",\"Q\",\"R\",\"A\",\"Q\",\"L\",\"V\",\"T\",\"W\",\"M\",\"K\",\"G\",\"N\",\"T\",\"T\",\"G\",\"A\",\"A\",\"S\",\"I\",\"Q\",\"A\",\"G\",\"L\",\"P\",\"A\",\"S\",\"W\",\"V\",\"V\",\"G\",\"D\",\"K\",\"T\",\"G\",\"S\",\"G\",\"D\",\"Y\",\"G\",\"T\",\"T\",\"N\",\"D\",\"I\",\"A\",\"V\",\"I\",\"W\",\"-\",\"P\",\"K\",\"D\",\"R\",\"A\",\"P\",\"L\",\"I\",\"L\",\"V\",\"T\",\"Y\",\"F\",\"-\",\"-\",\"-\",\"-\",\"T\",\"Q\",\"-\",\"-\",\"-\",\"-\",\"-\",\"-\",\"P\",\"Q\",\"P\",\"K\",\"A\",\"E\",\"S\",\"R\",\"R\",\"D\",\"V\",\"L\",\"A\",\"S\",\"A\",\"A\",\"K\",\"I\",\"V\",\"T\",\"N\",\"G\",\"L\",\"-\",\"-\",\"-\",\"-\",\"-\",\"-\",\"-\",\"-\",\"-\",\"-\",\"-\",\"-\",\"-\",\"-\",\"-\",\"-\",\"-\",\"-\",\"-\",\"-\",\"-\",\"-\",\"A\",\"-\",\"-\",\"-\",\"R\",\"T\",\"-\",\"-\",\"-\",\"-\",\"-\",\"-\",\"R\",\"D\",\"-\",\"-\",\"-\",\"-\",\"-\",\"-\",\"A\",\"A\",\"-\",\"R\",\"-\",\"-\",\"-\",\"-\",\"-\",\"-\",\"Q\",\"I\",\"A\",\"A\",\"L\",\"E\",\"S\",\"G\",\"F\",\"G\",\"G\",\"R\",\"I\",\"G\",\"V\",\"S\",\"A\",\"I\",\"D\",\"T\",\"G\",\"S\",\"G\",\"R\",\"R\",\"I\",\"L\",\"H\",\"R\",\"A\",\"D\",\"E\",\"R\",\"F\",\"A\",\"L\",\"C\",\"-\",\"S\",\"T\",\"F\",\"K\",\"V\",\"V\",\"L\",\"V\",\"S\",\"A\",\"V\",\"L\",\"A\",\"R\",\"A\",\"A\",\"G\",\"D\",\"A\",\"R\",\"L\",\"L\",\"S\",\"S\",\"V\",\"I\",\"R\",\"Y\",\"T\",\"R\",\"H\",\"D\",\"L\",\"-\",\"-\",\"V\",\"S\",\"Y\",\"S\",\"P\",\"V\",\"T\",\"E\",\"K\",\"N\",\"L\",\"A\",\"T\",\"G\",\"M\",\"T\",\"V\",\"A\",\"A\",\"L\",\"C\",\"A\",\"A\",\"A\",\"I\",\"Q\",\"Y\",\"S\",\"D\",\"N\",\"T\",\"A\",\"A\",\"N\",\"L\",\"L\",\"I\",\"R\",\"L\",\"I\",\"G\",\"D\",\"P\",\"A\",\"A\",\"V\",\"T\",\"A\",\"Y\",\"A\",\"R\",\"S\",\"I\",\"G\",\"D\",\"A\",\"S\",\"F\",\"R\",\"L\",\"D\",\"R\",\"L\",\"E\",\"T\",\"E\",\"L\",\"N\",\"E\",\"A\",\"V\",\"P\",\"G\",\"-\",\"D\",\"E\",\"R\",\"D\",\"T\",\"T\",\"T\",\"P\",\"A\",\"A\",\"M\",\"T\",\"D\",\"T\",\"L\",\"R\",\"R\",\"V\",\"T\",\"L\",\"G\",\"D\",\"G\",\"-\",\"L\",\"D\",\"P\",\"S\",\"G\",\"R\",\"A\",\"Q\",\"L\",\"V\",\"T\",\"W\",\"M\",\"L\",\"G\",\"N\",\"T\",\"T\",\"G\",\"E\",\"T\",\"R\",\"I\",\"R\",\"A\",\"G\",\"V\",\"P\",\"A\",\"G\",\"W\",\"R\",\"V\",\"A\",\"D\",\"K\",\"T\",\"G\",\"S\",\"G\",\"D\",\"Y\",\"G\",\"T\",\"A\",\"N\",\"D\",\"V\",\"A\",\"V\",\"L\",\"Y\",\"-\",\"S\",\"P\",\"S\",\"R\",\"Q\",\"P\",\"V\",\"V\",\"L\",\"T\",\"V\",\"Y\",\"T\",\"-\",\"-\",\"-\",\"-\",\"T\",\"R\",\"-\",\"-\",\"-\",\"-\",\"-\",\"-\",\"P\",\"G\",\"K\",\"D\",\"A\",\"K\",\"Y\",\"D\",\"N\",\"A\",\"T\",\"L\",\"A\",\"A\",\"V\",\"A\",\"R\",\"I\",\"V\",\"-\",\"-\",\"-\",\"-\",\"-\",\"-\",\"-\",\"-\",\"-\",\"-\",\"-\",\"-\",\"-\",\"-\",\"-\",\"-\",\"-\",\"-\",\"-\",\"-\",\"-\",\"-\",\"-\",\"-\",\"-\",\"-\",\"-\",\"-\",\"-\",\"-\",\"N\",\"V\",\"-\",\"-\",\"-\",\"-\",\"-\",\"-\",\"A\",\"A\",\"-\",\"-\",\"-\",\"-\",\"-\",\"-\",\"A\",\"E\",\"-\",\"R\",\"-\",\"-\",\"-\",\"-\",\"-\",\"-\",\"Q\",\"L\",\"R\",\"E\",\"L\",\"E\",\"S\",\"T\",\"F\",\"D\",\"G\",\"R\",\"L\",\"G\",\"F\",\"V\",\"A\",\"L\",\"D\",\"T\",\"A\",\"T\",\"G\",\"A\",\"R\",\"I\",\"A\",\"H\",\"R\",\"G\",\"D\",\"E\",\"R\",\"F\",\"P\",\"F\",\"C\",\"-\",\"S\",\"T\",\"S\",\"K\",\"M\",\"M\",\"L\",\"C\",\"A\",\"A\",\"V\",\"L\",\"A\",\"R\",\"S\",\"A\",\"G\",\"E\",\"P\",\"A\",\"L\",\"L\",\"Q\",\"R\",\"R\",\"I\",\"A\",\"Y\",\"A\",\"K\",\"G\",\"D\",\"L\",\"-\",\"-\",\"I\",\"R\",\"Y\",\"S\",\"P\",\"I\",\"T\",\"E\",\"Q\",\"H\",\"V\",\"G\",\"A\",\"G\",\"M\",\"S\",\"V\",\"A\",\"E\",\"L\",\"C\",\"A\",\"A\",\"T\",\"L\",\"Q\",\"Y\",\"S\",\"D\",\"N\",\"T\",\"A\",\"A\",\"N\",\"L\",\"L\",\"I\",\"A\",\"L\",\"L\",\"G\",\"G\",\"P\",\"Q\",\"T\",\"V\",\"T\",\"A\",\"Y\",\"A\",\"R\",\"S\",\"I\",\"G\",\"D\",\"A\",\"T\",\"F\",\"R\",\"L\",\"D\",\"R\",\"R\",\"E\",\"P\",\"E\",\"L\",\"N\",\"T\",\"A\",\"L\",\"P\",\"G\",\"-\",\"D\",\"E\",\"R\",\"D\",\"T\",\"T\",\"T\",\"P\",\"A\",\"A\",\"M\",\"A\",\"A\",\"S\",\"V\",\"H\",\"R\",\"L\",\"L\",\"V\",\"G\",\"D\",\"A\",\"-\",\"L\",\"G\",\"A\",\"A\",\"Q\",\"R\",\"A\",\"Q\",\"L\",\"N\",\"A\",\"W\",\"M\",\"L\",\"G\",\"N\",\"K\",\"T\",\"G\",\"D\",\"A\",\"R\",\"I\",\"R\",\"A\",\"G\",\"V\",\"P\",\"A\",\"D\",\"W\",\"R\",\"V\",\"A\",\"D\",\"K\",\"T\",\"G\",\"T\",\"G\",\"D\",\"Y\",\"G\",\"T\",\"A\",\"N\",\"D\",\"I\",\"G\",\"V\",\"A\",\"Y\",\"-\",\"P\",\"P\",\"N\",\"R\",\"A\",\"P\",\"I\",\"V\",\"F\",\"I\",\"V\",\"Y\",\"T\",\"-\",\"-\",\"-\",\"-\",\"T\",\"M\",\"-\",\"-\",\"-\",\"-\",\"-\",\"-\",\"R\",\"N\",\"P\",\"N\",\"A\",\"Q\",\"A\",\"R\",\"D\",\"D\",\"V\",\"I\",\"A\",\"S\",\"A\",\"T\",\"R\",\"I\",\"A\",\"A\",\"R\",\"A\",\"F\",\"-\",\"-\",\"-\",\"-\",\"-\",\"-\",\"-\",\"-\",\"-\",\"-\",\"-\",\"-\",\"-\",\"-\",\"-\",\"-\",\"-\",\"-\",\"-\",\"-\",\"-\",\"-\",\"-\",\"-\",\"-\",\"-\",\"-\",\"-\",\"-\",\"-\",\"-\",\"-\",\"-\",\"-\",\"-\",\"-\",\"-\",\"-\",\"-\",\"-\",\"-\",\"-\",\"-\",\"-\",\"-\",\"-\",\"-\",\"-\",\"-\",\"-\",\"-\",\"-\",\"-\",\"-\",\"-\",\"-\",\"-\",\"-\",\"-\",\"-\",\"-\",\"-\",\"-\",\"-\",\"-\",\"-\",\"-\",\"-\",\"-\",\"-\",\"-\",\"-\",\"-\",\"-\",\"-\",\"-\",\"-\",\"-\",\"L\",\"Y\",\"R\",\"A\",\"D\",\"E\",\"R\",\"F\",\"A\",\"M\",\"C\",\"-\",\"S\",\"T\",\"S\",\"K\",\"V\",\"M\",\"A\",\"A\",\"A\",\"A\",\"V\",\"L\",\"K\",\"Q\",\"S\",\"E\",\"T\",\"Q\",\"K\",\"K\",\"V\",\"L\",\"S\",\"Q\",\"K\",\"V\",\"E\",\"I\",\"K\",\"S\",\"S\",\"D\",\"L\",\"-\",\"-\",\"I\",\"N\",\"Y\",\"N\",\"P\",\"I\",\"T\",\"E\",\"K\",\"H\",\"V\",\"N\",\"G\",\"T\",\"M\",\"T\",\"L\",\"A\",\"E\",\"L\",\"S\",\"A\",\"A\",\"A\",\"L\",\"Q\",\"Y\",\"S\",\"D\",\"N\",\"T\",\"A\",\"M\",\"N\",\"K\",\"L\",\"I\",\"A\",\"H\",\"L\",\"G\",\"G\",\"P\",\"D\",\"K\",\"V\",\"T\",\"A\",\"F\",\"A\",\"R\",\"A\",\"I\",\"G\",\"D\",\"N\",\"T\",\"F\",\"R\",\"L\",\"D\",\"R\",\"T\",\"E\",\"P\",\"T\",\"L\",\"N\",\"T\",\"A\",\"I\",\"P\",\"G\",\"-\",\"D\",\"P\",\"R\",\"D\",\"T\",\"T\",\"T\",\"P\",\"L\",\"A\",\"M\",\"A\",\"Q\",\"T\",\"L\",\"R\",\"N\",\"L\",\"T\",\"L\",\"G\",\"S\",\"A\",\"-\",\"L\",\"G\",\"E\",\"T\",\"Q\",\"R\",\"A\",\"Q\",\"L\",\"V\",\"T\",\"W\",\"L\",\"K\",\"G\",\"N\",\"T\",\"T\",\"G\",\"A\",\"A\",\"S\",\"I\",\"Q\",\"A\",\"G\",\"L\",\"P\",\"T\",\"S\",\"W\",\"V\",\"V\",\"G\",\"D\",\"K\",\"T\",\"G\",\"S\",\"G\",\"D\",\"Y\",\"G\",\"T\",\"T\",\"N\",\"D\",\"I\",\"A\",\"V\",\"I\",\"W\",\"-\",\"P\",\"E\",\"G\",\"R\",\"A\",\"P\",\"L\",\"I\",\"L\",\"V\",\"T\",\"Y\",\"F\",\"-\",\"-\",\"-\",\"-\",\"T\",\"Q\",\"-\",\"-\",\"-\",\"-\",\"-\",\"-\",\"P\",\"E\",\"Q\",\"K\",\"A\",\"E\",\"S\",\"R\",\"R\",\"D\",\"V\",\"L\",\"A\",\"A\",\"A\",\"A\",\"K\",\"I\",\"V\",\"T\",\"D\",\"G\",\"-\",\"-\",\"-\",\"-\",\"-\",\"-\",\"-\",\"-\",\"-\",\"-\",\"-\",\"-\",\"-\",\"-\",\"-\",\"-\",\"-\",\"-\",\"-\",\"-\",\"-\",\"-\",\"-\",\"-\",\"-\",\"-\",\"-\",\"-\",\"-\",\"-\",\"-\",\"-\",\"-\",\"-\",\"-\",\"-\",\"-\",\"-\",\"-\",\"-\",\"-\",\"-\",\"-\",\"-\",\"-\",\"-\",\"-\",\"-\",\"-\",\"-\",\"-\",\"-\",\"-\",\"-\",\"L\",\"A\",\"E\",\"L\",\"E\",\"R\",\"S\",\"A\",\"G\",\"G\",\"R\",\"L\",\"G\",\"V\",\"C\",\"A\",\"I\",\"D\",\"I\",\"A\",\"S\",\"G\",\"R\",\"R\",\"V\",\"E\",\"H\",\"R\",\"Q\",\"N\",\"E\",\"R\",\"F\",\"P\",\"F\",\"C\",\"-\",\"S\",\"T\",\"F\",\"K\",\"A\",\"M\",\"L\",\"S\",\"A\",\"A\",\"V\",\"L\",\"A\",\"Q\",\"S\",\"V\",\"D\",\"R\",\"P\",\"A\",\"L\",\"L\",\"Q\",\"K\",\"R\",\"V\",\"R\",\"Y\",\"T\",\"K\",\"A\",\"D\",\"L\",\"-\",\"-\",\"V\",\"N\",\"Y\",\"S\",\"P\",\"V\",\"S\",\"G\",\"K\",\"H\",\"V\",\"D\",\"D\",\"G\",\"M\",\"T\",\"V\",\"A\",\"A\",\"L\",\"C\",\"E\",\"A\",\"T\",\"I\",\"Q\",\"Y\",\"S\",\"D\",\"N\",\"S\",\"A\",\"A\",\"N\",\"L\",\"L\",\"M\",\"K\",\"L\",\"L\",\"G\",\"G\",\"P\",\"S\",\"A\",\"V\",\"T\",\"A\",\"Y\",\"A\",\"R\",\"S\",\"I\",\"G\",\"D\",\"D\",\"T\",\"F\",\"R\",\"L\",\"D\",\"R\",\"W\",\"E\",\"T\",\"E\",\"L\",\"N\",\"T\",\"A\",\"L\",\"P\",\"G\",\"-\",\"D\",\"P\",\"R\",\"D\",\"T\",\"T\",\"T\",\"P\",\"A\",\"A\",\"M\",\"A\",\"A\",\"S\",\"M\",\"R\",\"V\",\"L\",\"M\",\"V\",\"G\",\"E\",\"A\",\"-\",\"L\",\"P\",\"A\",\"A\",\"Q\",\"R\",\"A\",\"Q\",\"L\",\"V\",\"A\",\"W\",\"M\",\"R\",\"G\",\"N\",\"K\",\"V\",\"G\",\"D\",\"K\",\"R\",\"L\",\"R\",\"A\",\"G\",\"V\",\"P\",\"A\",\"G\",\"W\",\"T\",\"V\",\"G\",\"D\",\"K\",\"T\",\"G\",\"T\",\"G\",\"D\",\"Y\",\"G\",\"T\",\"T\",\"N\",\"D\",\"A\",\"G\",\"V\",\"M\",\"W\",\"-\",\"S\",\"P\",\"S\",\"G\",\"A\",\"P\",\"V\",\"A\",\"L\",\"A\",\"V\",\"Y\",\"Y\",\"-\",\"-\",\"-\",\"-\",\"T\",\"Q\",\"-\",\"-\",\"-\",\"-\",\"-\",\"-\",\"A\",\"R\",\"A\",\"D\",\"A\",\"R\",\"A\",\"K\",\"D\",\"D\",\"V\",\"I\",\"A\",\"S\",\"V\",\"A\",\"R\",\"I\",\"V\",\"V\",\"R\",\"A\",\"F\",\"-\",\"-\",\"-\",\"-\",\"-\",\"-\",\"-\",\"-\",\"-\",\"-\",\"-\",\"-\",\"-\",\"-\",\"-\",\"-\",\"-\",\"-\",\"-\",\"-\",\"-\",\"-\",\"-\",\"-\",\"-\",\"-\",\"-\",\"-\",\"-\",\"-\",\"-\",\"-\",\"-\",\"-\",\"-\",\"-\",\"-\",\"-\",\"-\",\"-\",\"-\",\"-\",\"-\",\"-\",\"-\",\"-\",\"-\",\"-\",\"-\",\"-\",\"-\",\"-\",\"-\",\"-\",\"-\",\"-\",\"-\",\"-\",\"-\",\"-\",\"-\",\"-\",\"-\",\"-\",\"-\",\"-\",\"-\",\"-\",\"-\",\"-\",\"-\",\"-\",\"-\",\"-\",\"-\",\"-\",\"-\",\"-\",\"-\",\"-\",\"-\",\"-\",\"-\",\"-\",\"-\",\"-\",\"-\",\"-\",\"-\",\"-\",\"-\",\"-\",\"-\",\"-\",\"-\",\"-\",\"-\",\"-\",\"-\",\"A\",\"V\",\"L\",\"K\",\"R\",\"S\",\"E\",\"S\",\"E\",\"P\",\"N\",\"L\",\"L\",\"N\",\"Q\",\"R\",\"V\",\"E\",\"I\",\"K\",\"K\",\"S\",\"D\",\"L\",\"-\",\"-\",\"V\",\"N\",\"Y\",\"N\",\"P\",\"I\",\"A\",\"E\",\"K\",\"H\",\"V\",\"N\",\"G\",\"T\",\"M\",\"S\",\"L\",\"A\",\"E\",\"L\",\"S\",\"A\",\"A\",\"A\",\"L\",\"Q\",\"Y\",\"S\",\"D\",\"N\",\"V\",\"A\",\"M\",\"N\",\"K\",\"L\",\"I\",\"A\",\"H\",\"V\",\"G\",\"G\",\"P\",\"A\",\"S\",\"V\",\"T\",\"A\",\"F\",\"A\",\"R\",\"Q\",\"L\",\"G\",\"D\",\"D\",\"T\",\"F\",\"R\",\"L\",\"D\",\"R\",\"T\",\"E\",\"P\",\"T\",\"L\",\"N\",\"T\",\"A\",\"I\",\"P\",\"G\",\"-\",\"D\",\"P\",\"R\",\"D\",\"T\",\"T\",\"S\",\"P\",\"R\",\"A\",\"M\",\"A\",\"Q\",\"T\",\"L\",\"R\",\"N\",\"L\",\"T\",\"L\",\"G\",\"K\",\"A\",\"-\",\"L\",\"G\",\"D\",\"S\",\"Q\",\"R\",\"A\",\"Q\",\"L\",\"V\",\"T\",\"W\",\"M\",\"K\",\"G\",\"N\",\"T\",\"T\",\"G\",\"A\",\"A\",\"S\",\"I\",\"Q\",\"A\",\"G\",\"L\",\"P\",\"A\",\"S\",\"W\",\"V\",\"V\",\"G\",\"D\",\"K\",\"T\",\"G\",\"S\",\"G\",\"G\",\"Y\",\"G\",\"T\",\"T\",\"N\",\"D\",\"I\",\"A\",\"V\",\"I\",\"W\",\"-\",\"P\",\"K\",\"D\",\"R\",\"A\",\"P\",\"L\",\"I\",\"L\",\"V\",\"T\",\"Y\",\"F\",\"-\",\"-\",\"-\",\"-\",\"T\",\"Q\",\"-\",\"-\",\"-\",\"-\",\"-\",\"-\",\"P\",\"Q\",\"P\",\"K\",\"A\",\"E\",\"S\",\"R\",\"R\",\"D\",\"V\",\"L\",\"A\",\"S\",\"A\",\"A\",\"K\",\"I\",\"V\",\"T\",\"D\",\"G\",\"L\",\"-\",\"-\",\"-\",\"-\",\"-\",\"-\",\"-\",\"-\",\"-\",\"S\",\"S\",\"-\",\"P\",\"A\",\"A\",\"-\",\"-\",\"-\",\"-\",\"-\",\"-\",\"-\",\"G\",\"-\",\"-\",\"-\",\"Q\",\"D\",\"-\",\"-\",\"-\",\"-\",\"-\",\"-\",\"V\",\"S\",\"-\",\"-\",\"-\",\"-\",\"-\",\"-\",\"S\",\"A\",\"-\",\"T\",\"-\",\"-\",\"-\",\"-\",\"-\",\"-\",\"S\",\"F\",\"A\",\"A\",\"L\",\"E\",\"H\",\"A\",\"A\",\"G\",\"G\",\"R\",\"L\",\"G\",\"V\",\"C\",\"A\",\"I\",\"D\",\"T\",\"A\",\"S\",\"G\",\"R\",\"R\",\"A\",\"Q\",\"H\",\"R\",\"A\",\"D\",\"E\",\"R\",\"F\",\"P\",\"F\",\"C\",\"-\",\"S\",\"T\",\"F\",\"K\",\"A\",\"M\",\"L\",\"G\",\"A\",\"A\",\"V\",\"L\",\"A\",\"H\",\"S\",\"V\",\"D\",\"R\",\"P\",\"G\",\"L\",\"L\",\"Q\",\"Q\",\"R\",\"V\",\"T\",\"Y\",\"G\",\"P\",\"A\",\"D\",\"L\",\"-\",\"-\",\"V\",\"N\",\"Y\",\"S\",\"P\",\"V\",\"S\",\"G\",\"K\",\"H\",\"V\",\"G\",\"T\",\"G\",\"M\",\"T\",\"V\",\"A\",\"E\",\"L\",\"C\",\"E\",\"A\",\"A\",\"I\",\"Q\",\"Y\",\"S\",\"D\",\"N\",\"S\",\"A\",\"A\",\"N\",\"L\",\"A\",\"M\",\"K\",\"L\",\"I\",\"G\",\"G\",\"P\",\"S\",\"A\",\"V\",\"T\",\"A\",\"Y\",\"A\",\"R\",\"S\",\"I\",\"G\",\"D\",\"D\",\"A\",\"F\",\"R\",\"L\",\"D\",\"R\",\"W\",\"E\",\"T\",\"E\",\"L\",\"N\",\"T\",\"A\",\"L\",\"P\",\"G\",\"-\",\"D\",\"P\",\"R\",\"D\",\"T\",\"T\",\"T\",\"P\",\"A\",\"A\",\"M\",\"A\",\"A\",\"S\",\"M\",\"R\",\"V\",\"L\",\"M\",\"L\",\"G\",\"D\",\"A\",\"-\",\"L\",\"P\",\"P\",\"A\",\"Q\",\"R\",\"A\",\"Q\",\"L\",\"V\",\"A\",\"W\",\"L\",\"R\",\"G\",\"N\",\"K\",\"V\",\"G\",\"D\",\"K\",\"R\",\"I\",\"R\",\"A\",\"G\",\"V\",\"P\",\"A\",\"G\",\"S\",\"Q\",\"V\",\"G\",\"D\",\"K\",\"T\",\"G\",\"T\",\"G\",\"D\",\"Y\",\"G\",\"T\",\"T\",\"N\",\"D\",\"A\",\"G\",\"V\",\"I\",\"W\",\"-\",\"L\",\"P\",\"S\",\"R\",\"A\",\"P\",\"I\",\"V\",\"L\",\"A\",\"V\",\"Y\",\"Y\",\"-\",\"-\",\"-\",\"-\",\"T\",\"Q\",\"-\",\"-\",\"-\",\"-\",\"-\",\"-\",\"A\",\"R\",\"A\",\"D\",\"A\",\"K\",\"P\",\"K\",\"D\",\"D\",\"-\",\"-\",\"-\",\"-\",\"-\",\"-\",\"-\",\"-\",\"-\",\"-\",\"-\",\"-\",\"-\",\"-\",\"-\",\"-\",\"-\",\"-\",\"-\",\"-\",\"-\",\"-\",\"-\",\"-\",\"-\",\"-\",\"-\",\"-\",\"-\",\"-\",\"S\",\"A\",\"P\",\"L\",\"Y\",\"A\",\"-\",\"-\",\"-\",\"Q\",\"T\",\"-\",\"-\",\"-\",\"-\",\"-\",\"-\",\"S\",\"A\",\"-\",\"-\",\"-\",\"-\",\"-\",\"-\",\"V\",\"Q\",\"-\",\"Q\",\"-\",\"-\",\"-\",\"-\",\"-\",\"-\",\"K\",\"L\",\"A\",\"A\",\"L\",\"E\",\"K\",\"S\",\"S\",\"G\",\"G\",\"R\",\"L\",\"G\",\"V\",\"A\",\"L\",\"I\",\"D\",\"T\",\"K\",\"D\",\"N\",\"T\",\"Q\",\"V\",\"L\",\"Y\",\"R\",\"G\",\"D\",\"E\",\"R\",\"F\",\"P\",\"M\",\"C\",\"-\",\"S\",\"T\",\"S\",\"K\",\"V\",\"M\",\"A\",\"A\",\"A\",\"A\",\"V\",\"L\",\"K\",\"Q\",\"S\",\"E\",\"T\",\"Q\",\"K\",\"Q\",\"L\",\"L\",\"N\",\"Q\",\"P\",\"V\",\"E\",\"I\",\"K\",\"P\",\"A\",\"D\",\"L\",\"-\",\"-\",\"V\",\"N\",\"Y\",\"N\",\"P\",\"I\",\"A\",\"E\",\"K\",\"H\",\"V\",\"N\",\"G\",\"T\",\"M\",\"T\",\"L\",\"A\",\"E\",\"L\",\"S\",\"A\",\"A\",\"A\",\"L\",\"Q\",\"Y\",\"S\",\"D\",\"N\",\"T\",\"A\",\"M\",\"N\",\"K\",\"L\",\"I\",\"A\",\"Q\",\"L\",\"G\",\"G\",\"P\",\"G\",\"G\",\"V\",\"T\",\"A\",\"F\",\"A\",\"R\",\"E\",\"I\",\"G\",\"D\",\"E\",\"T\",\"F\",\"R\",\"L\",\"D\",\"R\",\"T\",\"E\",\"P\",\"T\",\"L\",\"N\",\"T\",\"A\",\"I\",\"P\",\"G\",\"-\",\"D\",\"P\",\"R\",\"D\",\"T\",\"T\",\"T\",\"P\",\"R\",\"A\",\"M\",\"A\",\"Q\",\"T\",\"L\",\"R\",\"Q\",\"L\",\"T\",\"L\",\"G\",\"H\",\"A\",\"-\",\"L\",\"G\",\"E\",\"T\",\"Q\",\"R\",\"A\",\"Q\",\"L\",\"V\",\"T\",\"W\",\"L\",\"K\",\"G\",\"N\",\"T\",\"T\",\"G\",\"A\",\"A\",\"S\",\"I\",\"R\",\"A\",\"G\",\"L\",\"P\",\"T\",\"S\",\"W\",\"T\",\"V\",\"G\",\"D\",\"K\",\"T\",\"G\",\"S\",\"G\",\"D\",\"Y\",\"G\",\"T\",\"T\",\"N\",\"D\",\"I\",\"A\",\"V\",\"I\",\"W\",\"-\",\"P\",\"Q\",\"G\",\"R\",\"A\",\"P\",\"L\",\"V\",\"L\",\"V\",\"T\",\"Y\",\"F\",\"-\",\"-\",\"-\",\"-\",\"T\",\"Q\",\"-\",\"-\",\"-\",\"-\",\"-\",\"-\",\"P\",\"Q\",\"Q\",\"N\",\"A\",\"-\",\"-\",\"-\",\"-\",\"-\",\"-\",\"-\",\"-\",\"-\",\"-\",\"-\",\"-\",\"-\",\"-\",\"-\",\"-\",\"-\",\"-\",\"-\",\"-\",\"-\",\"-\",\"-\",\"-\",\"-\",\"-\",\"-\",\"-\",\"-\",\"-\",\"-\",\"-\",\"-\",\"-\",\"-\",\"S\",\"G\",\"S\",\"L\",\"W\",\"A\",\"-\",\"-\",\"-\",\"S\",\"A\",\"-\",\"-\",\"-\",\"-\",\"-\",\"-\",\"D\",\"A\",\"-\",\"-\",\"-\",\"-\",\"-\",\"-\",\"I\",\"Q\",\"-\",\"Q\",\"-\",\"-\",\"-\",\"-\",\"-\",\"-\",\"K\",\"L\",\"A\",\"D\",\"L\",\"E\",\"K\",\"R\",\"S\",\"G\",\"G\",\"R\",\"L\",\"G\",\"V\",\"A\",\"L\",\"I\",\"N\",\"T\",\"A\",\"D\",\"D\",\"S\",\"Q\",\"T\",\"L\",\"Y\",\"R\",\"G\",\"D\",\"E\",\"R\",\"F\",\"A\",\"M\",\"C\",\"-\",\"S\",\"T\",\"G\",\"K\",\"V\",\"M\",\"A\",\"A\",\"A\",\"A\",\"V\",\"L\",\"K\",\"Q\",\"S\",\"E\",\"S\",\"H\",\"P\",\"D\",\"V\",\"V\",\"N\",\"K\",\"R\",\"L\",\"E\",\"I\",\"K\",\"K\",\"S\",\"D\",\"L\",\"-\",\"-\",\"V\",\"V\",\"W\",\"S\",\"P\",\"I\",\"T\",\"E\",\"K\",\"H\",\"L\",\"Q\",\"S\",\"G\",\"M\",\"T\",\"L\",\"A\",\"E\",\"L\",\"S\",\"A\",\"A\",\"A\",\"L\",\"Q\",\"Y\",\"S\",\"D\",\"N\",\"T\",\"A\",\"M\",\"N\",\"K\",\"M\",\"I\",\"S\",\"Y\",\"L\",\"G\",\"G\",\"P\",\"E\",\"K\",\"V\",\"T\",\"A\",\"F\",\"A\",\"Q\",\"S\",\"I\",\"G\",\"D\",\"V\",\"T\",\"F\",\"R\",\"L\",\"D\",\"R\",\"T\",\"E\",\"P\",\"A\",\"L\",\"N\",\"S\",\"A\",\"I\",\"P\",\"G\",\"-\",\"D\",\"K\",\"R\",\"D\",\"T\",\"T\",\"T\",\"P\",\"L\",\"A\",\"M\",\"A\",\"E\",\"S\",\"L\",\"R\",\"K\",\"L\",\"T\",\"L\",\"G\",\"N\",\"A\",\"-\",\"L\",\"G\",\"E\",\"Q\",\"Q\",\"R\",\"A\",\"Q\",\"L\",\"V\",\"T\",\"W\",\"L\",\"K\",\"G\",\"N\",\"T\",\"T\",\"G\",\"G\",\"Q\",\"S\",\"I\",\"R\",\"A\",\"G\",\"L\",\"P\",\"A\",\"S\",\"W\",\"A\",\"V\",\"G\",\"D\",\"K\",\"T\",\"G\",\"A\",\"G\",\"D\",\"Y\",\"G\",\"T\",\"T\",\"N\",\"D\",\"I\",\"A\",\"V\",\"I\",\"W\",\"-\",\"P\",\"E\",\"N\",\"H\",\"A\",\"P\",\"L\",\"V\",\"L\",\"V\",\"T\",\"Y\",\"F\",\"-\",\"-\",\"-\",\"-\",\"T\",\"Q\",\"-\",\"-\",\"-\",\"-\",\"-\",\"-\",\"P\",\"Q\",\"Q\",\"D\",\"A\",\"K\",\"S\",\"R\",\"K\",\"E\",\"V\",\"L\",\"A\",\"A\",\"A\",\"A\",\"K\",\"I\",\"V\",\"T\",\"E\",\"G\",\"L\",\"-\",\"-\",\"-\",\"-\",\"-\",\"-\",\"-\",\"-\",\"-\",\"-\",\"-\",\"-\",\"-\",\"-\",\"-\",\"-\",\"-\",\"-\",\"-\",\"-\",\"-\",\"-\",\"-\",\"-\",\"-\",\"-\",\"-\",\"-\",\"-\",\"-\",\"-\",\"-\",\"-\",\"-\",\"-\",\"-\",\"-\",\"-\",\"-\",\"-\",\"-\",\"-\",\"-\",\"-\",\"-\",\"-\",\"-\",\"-\",\"-\",\"-\",\"-\",\"-\",\"-\",\"L\",\"A\",\"A\",\"L\",\"E\",\"R\",\"S\",\"V\",\"G\",\"G\",\"R\",\"L\",\"G\",\"V\",\"C\",\"A\",\"I\",\"D\",\"I\",\"A\",\"S\",\"G\",\"R\",\"R\",\"V\",\"E\",\"H\",\"R\",\"Q\",\"N\",\"E\",\"R\",\"F\",\"P\",\"F\",\"C\",\"-\",\"S\",\"T\",\"F\",\"K\",\"A\",\"M\",\"L\",\"S\",\"A\",\"A\",\"V\",\"L\",\"A\",\"Q\",\"S\",\"V\",\"A\",\"R\",\"P\",\"A\",\"L\",\"L\",\"Q\",\"Q\",\"R\",\"V\",\"T\",\"Y\",\"T\",\"K\",\"A\",\"D\",\"L\",\"-\",\"-\",\"V\",\"N\",\"Y\",\"S\",\"P\",\"V\",\"T\",\"G\",\"K\",\"H\",\"V\",\"D\",\"D\",\"G\",\"M\",\"T\",\"V\",\"A\",\"A\",\"L\",\"C\",\"E\",\"A\",\"A\",\"I\",\"Q\",\"Y\",\"S\",\"D\",\"N\",\"S\",\"A\",\"A\",\"N\",\"L\",\"L\",\"I\",\"K\",\"L\",\"L\",\"G\",\"G\",\"P\",\"S\",\"A\",\"V\",\"T\",\"A\",\"Y\",\"A\",\"R\",\"S\",\"I\",\"G\",\"D\",\"D\",\"A\",\"F\",\"R\",\"L\",\"D\",\"R\",\"W\",\"E\",\"T\",\"E\",\"L\",\"N\",\"D\",\"A\",\"V\",\"P\",\"G\",\"-\",\"D\",\"L\",\"R\",\"D\",\"T\",\"T\",\"T\",\"P\",\"A\",\"A\",\"M\",\"A\",\"A\",\"S\",\"M\",\"N\",\"A\",\"V\",\"M\",\"L\",\"G\",\"E\",\"A\",\"-\",\"L\",\"P\",\"A\",\"A\",\"Q\",\"R\",\"A\",\"Q\",\"L\",\"V\",\"A\",\"W\",\"M\",\"R\",\"G\",\"N\",\"K\",\"V\",\"G\",\"D\",\"K\",\"R\",\"I\",\"R\",\"A\",\"G\",\"V\",\"P\",\"A\",\"G\",\"W\",\"T\",\"V\",\"A\",\"D\",\"K\",\"T\",\"G\",\"T\",\"G\",\"D\",\"Y\",\"G\",\"T\",\"T\",\"N\",\"D\",\"A\",\"G\",\"V\",\"V\",\"W\",\"-\",\"S\",\"P\",\"S\",\"G\",\"A\",\"P\",\"I\",\"A\",\"L\",\"V\",\"V\",\"Y\",\"Y\",\"-\",\"-\",\"-\",\"-\",\"T\",\"Q\",\"-\",\"-\",\"-\",\"-\",\"-\",\"-\",\"A\",\"S\",\"A\",\"D\",\"A\",\"R\",\"A\",\"K\",\"E\",\"D\",\"V\",\"I\",\"A\",\"S\",\"V\",\"A\",\"R\",\"I\",\"V\",\"V\",\"R\",\"A\",\"F\"]],[\"colors\",[\"#FFFFFF\",\"#FFFFFF\",\"#FFFFFF\",\"#FFFFFF\",\"#FFFFFF\",\"#FFFFFF\",\"#FFFFFF\",\"#FFFFFF\",\"#000000\",\"#008000\",\"#000000\",\"#FFFFFF\",\"#008000\",\"#000000\",\"#000000\",\"#000000\",\"#008000\",\"#008000\",\"#000000\",\"#000000\",\"#000000\",\"#008000\",\"#000000\",\"#FFFFFF\",\"#FFFFFF\",\"#FFFFFF\",\"#008000\",\"#008000\",\"#FFFFFF\",\"#FFFFFF\",\"#FFFFFF\",\"#FFFFFF\",\"#FFFFFF\",\"#FFFFFF\",\"#000000\",\"#FF0000\",\"#FFFFFF\",\"#FFFFFF\",\"#FFFFFF\",\"#FFFFFF\",\"#FFFFFF\",\"#FFFFFF\",\"#000000\",\"#008000\",\"#FFFFFF\",\"#008000\",\"#FFFFFF\",\"#FFFFFF\",\"#FFFFFF\",\"#FFFFFF\",\"#FFFFFF\",\"#FFFFFF\",\"#0000FF\",\"#000000\",\"#000000\",\"#FF0000\",\"#000000\",\"#FF0000\",\"#0000FF\",\"#008000\",\"#008000\",\"#008000\",\"#008000\",\"#0000FF\",\"#000000\",\"#008000\",\"#000000\",\"#000000\",\"#000000\",\"#000000\",\"#008000\",\"#008000\",\"#000000\",\"#FF0000\",\"#008000\",\"#008000\",\"#008000\",\"#000000\",\"#000000\",\"#008000\",\"#0000FF\",\"#000000\",\"#FF0000\",\"#FF0000\",\"#0000FF\",\"#000000\",\"#000000\",\"#000000\",\"#008000\",\"#FFFFFF\",\"#008000\",\"#008000\",\"#008000\",\"#0000FF\",\"#000000\",\"#000000\",\"#000000\",\"#000000\",\"#000000\",\"#000000\",\"#000000\",\"#000000\",\"#0000FF\",\"#0000FF\",\"#008000\",\"#FF0000\",\"#008000\",\"#FF0000\",\"#000000\",\"#008000\",\"#000000\",\"#000000\",\"#008000\",\"#008000\",\"#0000FF\",\"#000000\",\"#FF0000\",\"#000000\",\"#0000FF\",\"#0000FF\",\"#008000\",\"#FF0000\",\"#000000\",\"#FFFFFF\",\"#FFFFFF\",\"#000000\",\"#008000\",\"#008000\",\"#008000\",\"#000000\",\"#000000\",\"#000000\",\"#FF0000\",\"#0000FF\",\"#0000FF\",\"#000000\",\"#FF0000\",\"#008000\",\"#008000\",\"#000000\",\"#008000\",\"#000000\",\"#000000\",\"#FF0000\",\"#000000\",\"#008000\",\"#000000\",\"#000000\",\"#000000\",\"#000000\",\"#008000\",\"#008000\",\"#008000\",\"#FF0000\",\"#008000\",\"#000000\",\"#000000\",\"#000000\",\"#008000\",\"#0000FF\",\"#000000\",\"#000000\",\"#008000\",\"#0000FF\",\"#000000\",\"#008000\",\"#008000\",\"#000000\",\"#000000\",\"#008000\",\"#000000\",\"#008000\",\"#000000\",\"#000000\",\"#000000\",\"#0000FF\",\"#008000\",\"#000000\",\"#008000\",\"#FF0000\",\"#FF0000\",\"#008000\",\"#000000\",\"#0000FF\",\"#000000\",\"#FF0000\",\"#0000FF\",\"#008000\",\"#FF0000\",\"#000000\",\"#008000\",\"#000000\",\"#008000\",\"#008000\",\"#000000\",\"#000000\",\"#000000\",\"#008000\",\"#FFFFFF\",\"#FF0000\",\"#000000\",\"#0000FF\",\"#FF0000\",\"#008000\",\"#008000\",\"#008000\",\"#000000\",\"#0000FF\",\"#000000\",\"#000000\",\"#000000\",\"#008000\",\"#008000\",\"#000000\",\"#0000FF\",\"#008000\",\"#000000\",\"#008000\",\"#000000\",\"#008000\",\"#0000FF\",\"#000000\",\"#FFFFFF\",\"#000000\",\"#008000\",\"#FF0000\",\"#008000\",\"#008000\",\"#0000FF\",\"#000000\",\"#008000\",\"#000000\",\"#000000\",\"#008000\",\"#000000\",\"#000000\",\"#0000FF\",\"#008000\",\"#008000\",\"#008000\",\"#008000\",\"#008000\",\"#000000\",\"#000000\",\"#008000\",\"#000000\",\"#008000\",\"#000000\",\"#008000\",\"#000000\",\"#000000\",\"#000000\",\"#008000\",\"#000000\",\"#000000\",\"#000000\",\"#008000\",\"#FF0000\",\"#0000FF\",\"#008000\",\"#008000\",\"#008000\",\"#008000\",\"#FF0000\",\"#008000\",\"#008000\",\"#008000\",\"#008000\",\"#008000\",\"#FF0000\",\"#000000\",\"#000000\",\"#000000\",\"#000000\",\"#000000\",\"#FFFFFF\",\"#000000\",\"#0000FF\",\"#FF0000\",\"#0000FF\",\"#000000\",\"#000000\",\"#000000\",\"#000000\",\"#000000\",\"#000000\",\"#008000\",\"#008000\",\"#000000\",\"#FFFFFF\",\"#FFFFFF\",\"#FFFFFF\",\"#FFFFFF\",\"#008000\",\"#008000\",\"#FFFFFF\",\"#FFFFFF\",\"#FFFFFF\",\"#FFFFFF\",\"#FFFFFF\",\"#FFFFFF\",\"#000000\",\"#008000\",\"#000000\",\"#0000FF\",\"#000000\",\"#FF0000\",\"#008000\",\"#0000FF\",\"#0000FF\",\"#FF0000\",\"#000000\",\"#000000\",\"#000000\",\"#008000\",\"#000000\",\"#000000\",\"#0000FF\",\"#000000\",\"#000000\",\"#008000\",\"#008000\",\"#008000\",\"#000000\",\"#FFFFFF\",\"#FFFFFF\",\"#FFFFFF\",\"#FFFFFF\",\"#FFFFFF\",\"#FFFFFF\",\"#FFFFFF\",\"#FFFFFF\",\"#FFFFFF\",\"#FFFFFF\",\"#FFFFFF\",\"#FFFFFF\",\"#FFFFFF\",\"#FFFFFF\",\"#FFFFFF\",\"#FFFFFF\",\"#FFFFFF\",\"#FFFFFF\",\"#FFFFFF\",\"#FFFFFF\",\"#FFFFFF\",\"#FFFFFF\",\"#000000\",\"#FFFFFF\",\"#FFFFFF\",\"#FFFFFF\",\"#0000FF\",\"#008000\",\"#FFFFFF\",\"#FFFFFF\",\"#FFFFFF\",\"#FFFFFF\",\"#FFFFFF\",\"#FFFFFF\",\"#0000FF\",\"#FF0000\",\"#FFFFFF\",\"#FFFFFF\",\"#FFFFFF\",\"#FFFFFF\",\"#FFFFFF\",\"#FFFFFF\",\"#000000\",\"#000000\",\"#FFFFFF\",\"#0000FF\",\"#FFFFFF\",\"#FFFFFF\",\"#FFFFFF\",\"#FFFFFF\",\"#FFFFFF\",\"#FFFFFF\",\"#008000\",\"#000000\",\"#000000\",\"#000000\",\"#000000\",\"#FF0000\",\"#008000\",\"#008000\",\"#000000\",\"#008000\",\"#008000\",\"#0000FF\",\"#000000\",\"#008000\",\"#000000\",\"#008000\",\"#000000\",\"#000000\",\"#FF0000\",\"#008000\",\"#008000\",\"#008000\",\"#008000\",\"#0000FF\",\"#0000FF\",\"#000000\",\"#000000\",\"#0000FF\",\"#0000FF\",\"#000000\",\"#FF0000\",\"#FF0000\",\"#0000FF\",\"#000000\",\"#000000\",\"#000000\",\"#008000\",\"#FFFFFF\",\"#008000\",\"#008000\",\"#000000\",\"#0000FF\",\"#000000\",\"#000000\",\"#000000\",\"#000000\",\"#008000\",\"#000000\",\"#000000\",\"#000000\",\"#000000\",\"#0000FF\",\"#000000\",\"#000000\",\"#008000\",\"#FF0000\",\"#000000\",\"#0000FF\",\"#000000\",\"#000000\",\"#008000\",\"#008000\",\"#000000\",\"#000000\",\"#0000FF\",\"#008000\",\"#008000\",\"#0000FF\",\"#0000FF\",\"#FF0000\",\"#000000\",\"#FFFFFF\",\"#FFFFFF\",\"#000000\",\"#008000\",\"#008000\",\"#008000\",\"#000000\",\"#000000\",\"#008000\",\"#FF0000\",\"#0000FF\",\"#008000\",\"#000000\",\"#000000\",\"#008000\",\"#008000\",\"#000000\",\"#008000\",\"#000000\",\"#000000\",\"#000000\",\"#000000\",\"#008000\",\"#000000\",\"#000000\",\"#000000\",\"#000000\",\"#008000\",\"#008000\",\"#008000\",\"#FF0000\",\"#008000\",\"#008000\",\"#000000\",\"#000000\",\"#008000\",\"#000000\",\"#000000\",\"#000000\",\"#0000FF\",\"#000000\",\"#000000\",\"#008000\",\"#FF0000\",\"#000000\",\"#000000\",\"#000000\",\"#000000\",\"#008000\",\"#000000\",\"#008000\",\"#000000\",\"#0000FF\",\"#008000\",\"#000000\",\"#008000\",\"#FF0000\",\"#000000\",\"#008000\",\"#000000\",\"#0000FF\",\"#000000\",\"#FF0000\",\"#0000FF\",\"#000000\",\"#FF0000\",\"#008000\",\"#FF0000\",\"#000000\",\"#008000\",\"#FF0000\",\"#000000\",\"#000000\",\"#000000\",\"#008000\",\"#FFFFFF\",\"#FF0000\",\"#FF0000\",\"#0000FF\",\"#FF0000\",\"#008000\",\"#008000\",\"#008000\",\"#000000\",\"#000000\",\"#000000\",\"#000000\",\"#008000\",\"#FF0000\",\"#008000\",\"#000000\",\"#0000FF\",\"#0000FF\",\"#000000\",\"#008000\",\"#000000\",\"#008000\",\"#FF0000\",\"#008000\",\"#FFFFFF\",\"#000000\",\"#FF0000\",\"#000000\",\"#008000\",\"#008000\",\"#0000FF\",\"#000000\",\"#008000\",\"#000000\",\"#000000\",\"#008000\",\"#000000\",\"#000000\",\"#000000\",\"#008000\",\"#008000\",\"#008000\",\"#008000\",\"#008000\",\"#FF0000\",\"#008000\",\"#0000FF\",\"#000000\",\"#0000FF\",\"#000000\",\"#008000\",\"#000000\",\"#000000\",\"#000000\",\"#008000\",\"#000000\",\"#0000FF\",\"#000000\",\"#000000\",\"#FF0000\",\"#0000FF\",\"#008000\",\"#008000\",\"#008000\",\"#008000\",\"#FF0000\",\"#008000\",\"#008000\",\"#008000\",\"#000000\",\"#008000\",\"#FF0000\",\"#000000\",\"#000000\",\"#000000\",\"#000000\",\"#008000\",\"#FFFFFF\",\"#008000\",\"#000000\",\"#008000\",\"#0000FF\",\"#008000\",\"#000000\",\"#000000\",\"#000000\",\"#000000\",\"#008000\",\"#000000\",\"#008000\",\"#008000\",\"#FFFFFF\",\"#FFFFFF\",\"#FFFFFF\",\"#FFFFFF\",\"#008000\",\"#0000FF\",\"#FFFFFF\",\"#FFFFFF\",\"#FFFFFF\",\"#FFFFFF\",\"#FFFFFF\",\"#FFFFFF\",\"#000000\",\"#008000\",\"#0000FF\",\"#FF0000\",\"#000000\",\"#0000FF\",\"#008000\",\"#FF0000\",\"#008000\",\"#000000\",\"#008000\",\"#000000\",\"#000000\",\"#000000\",\"#000000\",\"#000000\",\"#0000FF\",\"#000000\",\"#000000\",\"#FFFFFF\",\"#FFFFFF\",\"#FFFFFF\",\"#FFFFFF\",\"#FFFFFF\",\"#FFFFFF\",\"#FFFFFF\",\"#FFFFFF\",\"#FFFFFF\",\"#FFFFFF\",\"#FFFFFF\",\"#FFFFFF\",\"#FFFFFF\",\"#FFFFFF\",\"#FFFFFF\",\"#FFFFFF\",\"#FFFFFF\",\"#FFFFFF\",\"#FFFFFF\",\"#FFFFFF\",\"#FFFFFF\",\"#FFFFFF\",\"#FFFFFF\",\"#FFFFFF\",\"#FFFFFF\",\"#FFFFFF\",\"#FFFFFF\",\"#FFFFFF\",\"#FFFFFF\",\"#FFFFFF\",\"#008000\",\"#000000\",\"#FFFFFF\",\"#FFFFFF\",\"#FFFFFF\",\"#FFFFFF\",\"#FFFFFF\",\"#FFFFFF\",\"#000000\",\"#000000\",\"#FFFFFF\",\"#FFFFFF\",\"#FFFFFF\",\"#FFFFFF\",\"#FFFFFF\",\"#FFFFFF\",\"#000000\",\"#FF0000\",\"#FFFFFF\",\"#0000FF\",\"#FFFFFF\",\"#FFFFFF\",\"#FFFFFF\",\"#FFFFFF\",\"#FFFFFF\",\"#FFFFFF\",\"#008000\",\"#000000\",\"#0000FF\",\"#FF0000\",\"#000000\",\"#FF0000\",\"#008000\",\"#008000\",\"#000000\",\"#FF0000\",\"#008000\",\"#0000FF\",\"#000000\",\"#008000\",\"#000000\",\"#000000\",\"#000000\",\"#000000\",\"#FF0000\",\"#008000\",\"#000000\",\"#008000\",\"#008000\",\"#000000\",\"#0000FF\",\"#000000\",\"#000000\",\"#0000FF\",\"#0000FF\",\"#008000\",\"#FF0000\",\"#FF0000\",\"#0000FF\",\"#000000\",\"#000000\",\"#000000\",\"#008000\",\"#FFFFFF\",\"#008000\",\"#008000\",\"#008000\",\"#0000FF\",\"#000000\",\"#000000\",\"#000000\",\"#008000\",\"#000000\",\"#000000\",\"#000000\",\"#000000\",\"#000000\",\"#0000FF\",\"#008000\",\"#000000\",\"#008000\",\"#FF0000\",\"#000000\",\"#000000\",\"#000000\",\"#000000\",\"#008000\",\"#0000FF\",\"#0000FF\",\"#000000\",\"#000000\",\"#008000\",\"#000000\",\"#0000FF\",\"#008000\",\"#FF0000\",\"#000000\",\"#FFFFFF\",\"#FFFFFF\",\"#000000\",\"#0000FF\",\"#008000\",\"#008000\",\"#000000\",\"#000000\",\"#008000\",\"#FF0000\",\"#008000\",\"#0000FF\",\"#000000\",\"#008000\",\"#000000\",\"#008000\",\"#000000\",\"#008000\",\"#000000\",\"#000000\",\"#FF0000\",\"#000000\",\"#008000\",\"#000000\",\"#000000\",\"#008000\",\"#000000\",\"#008000\",\"#008000\",\"#008000\",\"#FF0000\",\"#008000\",\"#008000\",\"#000000\",\"#000000\",\"#008000\",\"#000000\",\"#000000\",\"#000000\",\"#000000\",\"#000000\",\"#000000\",\"#008000\",\"#008000\",\"#000000\",\"#008000\",\"#008000\",\"#000000\",\"#008000\",\"#000000\",\"#008000\",\"#000000\",\"#0000FF\",\"#008000\",\"#000000\",\"#008000\",\"#FF0000\",\"#000000\",\"#008000\",\"#000000\",\"#0000FF\",\"#000000\",\"#FF0000\",\"#0000FF\",\"#0000FF\",\"#FF0000\",\"#000000\",\"#FF0000\",\"#000000\",\"#008000\",\"#008000\",\"#000000\",\"#000000\",\"#000000\",\"#008000\",\"#FFFFFF\",\"#FF0000\",\"#FF0000\",\"#0000FF\",\"#FF0000\",\"#008000\",\"#008000\",\"#008000\",\"#000000\",\"#000000\",\"#000000\",\"#000000\",\"#000000\",\"#000000\",\"#008000\",\"#000000\",\"#0000FF\",\"#0000FF\",\"#000000\",\"#000000\",\"#000000\",\"#008000\",\"#FF0000\",\"#000000\",\"#FFFFFF\",\"#000000\",\"#008000\",\"#000000\",\"#000000\",\"#008000\",\"#0000FF\",\"#000000\",\"#008000\",\"#000000\",\"#008000\",\"#000000\",\"#000000\",\"#000000\",\"#000000\",\"#008000\",\"#008000\",\"#0000FF\",\"#008000\",\"#008000\",\"#FF0000\",\"#000000\",\"#0000FF\",\"#000000\",\"#0000FF\",\"#000000\",\"#008000\",\"#000000\",\"#000000\",\"#000000\",\"#FF0000\",\"#000000\",\"#0000FF\",\"#000000\",\"#000000\",\"#FF0000\",\"#0000FF\",\"#008000\",\"#008000\",\"#008000\",\"#008000\",\"#FF0000\",\"#008000\",\"#008000\",\"#008000\",\"#000000\",\"#008000\",\"#FF0000\",\"#000000\",\"#008000\",\"#000000\",\"#000000\",\"#008000\",\"#FFFFFF\",\"#000000\",\"#000000\",\"#008000\",\"#0000FF\",\"#000000\",\"#000000\",\"#000000\",\"#000000\",\"#000000\",\"#000000\",\"#000000\",\"#008000\",\"#008000\",\"#FFFFFF\",\"#FFFFFF\",\"#FFFFFF\",\"#FFFFFF\",\"#008000\",\"#000000\",\"#FFFFFF\",\"#FFFFFF\",\"#FFFFFF\",\"#FFFFFF\",\"#FFFFFF\",\"#FFFFFF\",\"#0000FF\",\"#008000\",\"#000000\",\"#008000\",\"#000000\",\"#008000\",\"#000000\",\"#0000FF\",\"#FF0000\",\"#FF0000\",\"#000000\",\"#000000\",\"#000000\",\"#008000\",\"#000000\",\"#008000\",\"#0000FF\",\"#000000\",\"#000000\",\"#000000\",\"#0000FF\",\"#000000\",\"#000000\",\"#FFFFFF\",\"#FFFFFF\",\"#FFFFFF\",\"#FFFFFF\",\"#FFFFFF\",\"#FFFFFF\",\"#FFFFFF\",\"#FFFFFF\",\"#FFFFFF\",\"#FFFFFF\",\"#FFFFFF\",\"#FFFFFF\",\"#FFFFFF\",\"#FFFFFF\",\"#FFFFFF\",\"#FFFFFF\",\"#FFFFFF\",\"#FFFFFF\",\"#FFFFFF\",\"#FFFFFF\",\"#FFFFFF\",\"#FFFFFF\",\"#FFFFFF\",\"#FFFFFF\",\"#FFFFFF\",\"#FFFFFF\",\"#FFFFFF\",\"#FFFFFF\",\"#FFFFFF\",\"#FFFFFF\",\"#FFFFFF\",\"#FFFFFF\",\"#FFFFFF\",\"#FFFFFF\",\"#FFFFFF\",\"#FFFFFF\",\"#FFFFFF\",\"#FFFFFF\",\"#FFFFFF\",\"#FFFFFF\",\"#FFFFFF\",\"#FFFFFF\",\"#FFFFFF\",\"#FFFFFF\",\"#FFFFFF\",\"#FFFFFF\",\"#FFFFFF\",\"#FFFFFF\",\"#FFFFFF\",\"#FFFFFF\",\"#FFFFFF\",\"#FFFFFF\",\"#FFFFFF\",\"#FFFFFF\",\"#FFFFFF\",\"#FFFFFF\",\"#FFFFFF\",\"#FFFFFF\",\"#FFFFFF\",\"#FFFFFF\",\"#FFFFFF\",\"#FFFFFF\",\"#FFFFFF\",\"#FFFFFF\",\"#FFFFFF\",\"#FFFFFF\",\"#FFFFFF\",\"#FFFFFF\",\"#FFFFFF\",\"#FFFFFF\",\"#FFFFFF\",\"#FFFFFF\",\"#FFFFFF\",\"#FFFFFF\",\"#FFFFFF\",\"#FFFFFF\",\"#FFFFFF\",\"#FFFFFF\",\"#000000\",\"#008000\",\"#0000FF\",\"#000000\",\"#FF0000\",\"#FF0000\",\"#0000FF\",\"#000000\",\"#000000\",\"#000000\",\"#008000\",\"#FFFFFF\",\"#008000\",\"#008000\",\"#008000\",\"#0000FF\",\"#000000\",\"#000000\",\"#000000\",\"#000000\",\"#000000\",\"#000000\",\"#000000\",\"#000000\",\"#0000FF\",\"#008000\",\"#008000\",\"#FF0000\",\"#008000\",\"#008000\",\"#0000FF\",\"#0000FF\",\"#000000\",\"#000000\",\"#008000\",\"#008000\",\"#0000FF\",\"#000000\",\"#FF0000\",\"#000000\",\"#0000FF\",\"#008000\",\"#008000\",\"#FF0000\",\"#000000\",\"#FFFFFF\",\"#FFFFFF\",\"#000000\",\"#008000\",\"#008000\",\"#008000\",\"#000000\",\"#000000\",\"#008000\",\"#FF0000\",\"#0000FF\",\"#0000FF\",\"#000000\",\"#008000\",\"#008000\",\"#008000\",\"#000000\",\"#008000\",\"#000000\",\"#000000\",\"#FF0000\",\"#000000\",\"#008000\",\"#000000\",\"#000000\",\"#000000\",\"#000000\",\"#008000\",\"#008000\",\"#008000\",\"#FF0000\",\"#008000\",\"#008000\",\"#000000\",\"#000000\",\"#008000\",\"#0000FF\",\"#000000\",\"#000000\",\"#000000\",\"#0000FF\",\"#000000\",\"#008000\",\"#008000\",\"#000000\",\"#FF0000\",\"#0000FF\",\"#000000\",\"#008000\",\"#000000\",\"#000000\",\"#000000\",\"#0000FF\",\"#000000\",\"#000000\",\"#008000\",\"#FF0000\",\"#008000\",\"#008000\",\"#000000\",\"#0000FF\",\"#000000\",\"#FF0000\",\"#0000FF\",\"#008000\",\"#FF0000\",\"#000000\",\"#008000\",\"#000000\",\"#008000\",\"#008000\",\"#000000\",\"#000000\",\"#000000\",\"#008000\",\"#FFFFFF\",\"#FF0000\",\"#000000\",\"#0000FF\",\"#FF0000\",\"#008000\",\"#008000\",\"#008000\",\"#000000\",\"#000000\",\"#000000\",\"#000000\",\"#000000\",\"#008000\",\"#008000\",\"#000000\",\"#0000FF\",\"#008000\",\"#000000\",\"#008000\",\"#000000\",\"#008000\",\"#008000\",\"#000000\",\"#FFFFFF\",\"#000000\",\"#008000\",\"#FF0000\",\"#008000\",\"#008000\",\"#0000FF\",\"#000000\",\"#008000\",\"#000000\",\"#000000\",\"#008000\",\"#000000\",\"#000000\",\"#0000FF\",\"#008000\",\"#008000\",\"#008000\",\"#008000\",\"#008000\",\"#000000\",\"#000000\",\"#008000\",\"#000000\",\"#008000\",\"#000000\",\"#008000\",\"#000000\",\"#000000\",\"#008000\",\"#008000\",\"#000000\",\"#000000\",\"#000000\",\"#008000\",\"#FF0000\",\"#0000FF\",\"#008000\",\"#008000\",\"#008000\",\"#008000\",\"#FF0000\",\"#008000\",\"#008000\",\"#008000\",\"#008000\",\"#008000\",\"#FF0000\",\"#000000\",\"#000000\",\"#000000\",\"#000000\",\"#000000\",\"#FFFFFF\",\"#000000\",\"#FF0000\",\"#008000\",\"#0000FF\",\"#000000\",\"#000000\",\"#000000\",\"#000000\",\"#000000\",\"#000000\",\"#008000\",\"#008000\",\"#000000\",\"#FFFFFF\",\"#FFFFFF\",\"#FFFFFF\",\"#FFFFFF\",\"#008000\",\"#008000\",\"#FFFFFF\",\"#FFFFFF\",\"#FFFFFF\",\"#FFFFFF\",\"#FFFFFF\",\"#FFFFFF\",\"#000000\",\"#FF0000\",\"#008000\",\"#0000FF\",\"#000000\",\"#FF0000\",\"#008000\",\"#0000FF\",\"#0000FF\",\"#FF0000\",\"#000000\",\"#000000\",\"#000000\",\"#000000\",\"#000000\",\"#000000\",\"#0000FF\",\"#000000\",\"#000000\",\"#008000\",\"#FF0000\",\"#008000\",\"#FFFFFF\",\"#FFFFFF\",\"#FFFFFF\",\"#FFFFFF\",\"#FFFFFF\",\"#FFFFFF\",\"#FFFFFF\",\"#FFFFFF\",\"#FFFFFF\",\"#FFFFFF\",\"#FFFFFF\",\"#FFFFFF\",\"#FFFFFF\",\"#FFFFFF\",\"#FFFFFF\",\"#FFFFFF\",\"#FFFFFF\",\"#FFFFFF\",\"#FFFFFF\",\"#FFFFFF\",\"#FFFFFF\",\"#FFFFFF\",\"#FFFFFF\",\"#FFFFFF\",\"#FFFFFF\",\"#FFFFFF\",\"#FFFFFF\",\"#FFFFFF\",\"#FFFFFF\",\"#FFFFFF\",\"#FFFFFF\",\"#FFFFFF\",\"#FFFFFF\",\"#FFFFFF\",\"#FFFFFF\",\"#FFFFFF\",\"#FFFFFF\",\"#FFFFFF\",\"#FFFFFF\",\"#FFFFFF\",\"#FFFFFF\",\"#FFFFFF\",\"#FFFFFF\",\"#FFFFFF\",\"#FFFFFF\",\"#FFFFFF\",\"#FFFFFF\",\"#FFFFFF\",\"#FFFFFF\",\"#FFFFFF\",\"#FFFFFF\",\"#FFFFFF\",\"#FFFFFF\",\"#FFFFFF\",\"#000000\",\"#000000\",\"#FF0000\",\"#000000\",\"#FF0000\",\"#0000FF\",\"#008000\",\"#000000\",\"#008000\",\"#008000\",\"#0000FF\",\"#000000\",\"#008000\",\"#000000\",\"#008000\",\"#000000\",\"#000000\",\"#FF0000\",\"#000000\",\"#000000\",\"#008000\",\"#008000\",\"#0000FF\",\"#0000FF\",\"#000000\",\"#FF0000\",\"#0000FF\",\"#0000FF\",\"#008000\",\"#008000\",\"#FF0000\",\"#0000FF\",\"#000000\",\"#000000\",\"#000000\",\"#008000\",\"#FFFFFF\",\"#008000\",\"#008000\",\"#000000\",\"#0000FF\",\"#000000\",\"#000000\",\"#000000\",\"#008000\",\"#000000\",\"#000000\",\"#000000\",\"#000000\",\"#000000\",\"#008000\",\"#008000\",\"#000000\",\"#FF0000\",\"#0000FF\",\"#000000\",\"#000000\",\"#000000\",\"#000000\",\"#008000\",\"#0000FF\",\"#0000FF\",\"#000000\",\"#0000FF\",\"#008000\",\"#008000\",\"#0000FF\",\"#000000\",\"#FF0000\",\"#000000\",\"#FFFFFF\",\"#FFFFFF\",\"#000000\",\"#008000\",\"#008000\",\"#008000\",\"#000000\",\"#000000\",\"#008000\",\"#008000\",\"#0000FF\",\"#0000FF\",\"#000000\",\"#FF0000\",\"#FF0000\",\"#008000\",\"#000000\",\"#008000\",\"#000000\",\"#000000\",\"#000000\",\"#000000\",\"#008000\",\"#FF0000\",\"#000000\",\"#008000\",\"#000000\",\"#008000\",\"#008000\",\"#008000\",\"#FF0000\",\"#008000\",\"#008000\",\"#000000\",\"#000000\",\"#008000\",\"#000000\",\"#000000\",\"#000000\",\"#0000FF\",\"#000000\",\"#000000\",\"#008000\",\"#008000\",\"#000000\",\"#008000\",\"#000000\",\"#000000\",\"#008000\",\"#000000\",\"#008000\",\"#000000\",\"#0000FF\",\"#008000\",\"#000000\",\"#008000\",\"#FF0000\",\"#FF0000\",\"#008000\",\"#000000\",\"#0000FF\",\"#000000\",\"#FF0000\",\"#0000FF\",\"#000000\",\"#FF0000\",\"#008000\",\"#FF0000\",\"#000000\",\"#008000\",\"#008000\",\"#000000\",\"#000000\",\"#000000\",\"#008000\",\"#FFFFFF\",\"#FF0000\",\"#000000\",\"#0000FF\",\"#FF0000\",\"#008000\",\"#008000\",\"#008000\",\"#000000\",\"#000000\",\"#000000\",\"#000000\",\"#000000\",\"#000000\",\"#008000\",\"#000000\",\"#0000FF\",\"#000000\",\"#000000\",\"#000000\",\"#000000\",\"#008000\",\"#FF0000\",\"#000000\",\"#FFFFFF\",\"#000000\",\"#000000\",\"#000000\",\"#000000\",\"#008000\",\"#0000FF\",\"#000000\",\"#008000\",\"#000000\",\"#000000\",\"#000000\",\"#000000\",\"#000000\",\"#0000FF\",\"#008000\",\"#008000\",\"#0000FF\",\"#000000\",\"#008000\",\"#FF0000\",\"#0000FF\",\"#0000FF\",\"#000000\",\"#0000FF\",\"#000000\",\"#008000\",\"#000000\",\"#000000\",\"#000000\",\"#008000\",\"#000000\",\"#008000\",\"#000000\",\"#008000\",\"#FF0000\",\"#0000FF\",\"#008000\",\"#008000\",\"#008000\",\"#008000\",\"#FF0000\",\"#008000\",\"#008000\",\"#008000\",\"#008000\",\"#008000\",\"#FF0000\",\"#000000\",\"#008000\",\"#000000\",\"#000000\",\"#000000\",\"#FFFFFF\",\"#008000\",\"#000000\",\"#008000\",\"#008000\",\"#000000\",\"#000000\",\"#000000\",\"#000000\",\"#000000\",\"#000000\",\"#000000\",\"#008000\",\"#008000\",\"#FFFFFF\",\"#FFFFFF\",\"#FFFFFF\",\"#FFFFFF\",\"#008000\",\"#008000\",\"#FFFFFF\",\"#FFFFFF\",\"#FFFFFF\",\"#FFFFFF\",\"#FFFFFF\",\"#FFFFFF\",\"#000000\",\"#0000FF\",\"#000000\",\"#FF0000\",\"#000000\",\"#0000FF\",\"#000000\",\"#0000FF\",\"#FF0000\",\"#FF0000\",\"#000000\",\"#000000\",\"#000000\",\"#008000\",\"#000000\",\"#000000\",\"#0000FF\",\"#000000\",\"#000000\",\"#000000\",\"#0000FF\",\"#000000\",\"#000000\",\"#FFFFFF\",\"#FFFFFF\",\"#FFFFFF\",\"#FFFFFF\",\"#FFFFFF\",\"#FFFFFF\",\"#FFFFFF\",\"#FFFFFF\",\"#FFFFFF\",\"#FFFFFF\",\"#FFFFFF\",\"#FFFFFF\",\"#FFFFFF\",\"#FFFFFF\",\"#FFFFFF\",\"#FFFFFF\",\"#FFFFFF\",\"#FFFFFF\",\"#FFFFFF\",\"#FFFFFF\",\"#FFFFFF\",\"#FFFFFF\",\"#FFFFFF\",\"#FFFFFF\",\"#FFFFFF\",\"#FFFFFF\",\"#FFFFFF\",\"#FFFFFF\",\"#FFFFFF\",\"#FFFFFF\",\"#FFFFFF\",\"#FFFFFF\",\"#FFFFFF\",\"#FFFFFF\",\"#FFFFFF\",\"#FFFFFF\",\"#FFFFFF\",\"#FFFFFF\",\"#FFFFFF\",\"#FFFFFF\",\"#FFFFFF\",\"#FFFFFF\",\"#FFFFFF\",\"#FFFFFF\",\"#FFFFFF\",\"#FFFFFF\",\"#FFFFFF\",\"#FFFFFF\",\"#FFFFFF\",\"#FFFFFF\",\"#FFFFFF\",\"#FFFFFF\",\"#FFFFFF\",\"#FFFFFF\",\"#FFFFFF\",\"#FFFFFF\",\"#FFFFFF\",\"#FFFFFF\",\"#FFFFFF\",\"#FFFFFF\",\"#FFFFFF\",\"#FFFFFF\",\"#FFFFFF\",\"#FFFFFF\",\"#FFFFFF\",\"#FFFFFF\",\"#FFFFFF\",\"#FFFFFF\",\"#FFFFFF\",\"#FFFFFF\",\"#FFFFFF\",\"#FFFFFF\",\"#FFFFFF\",\"#FFFFFF\",\"#FFFFFF\",\"#FFFFFF\",\"#FFFFFF\",\"#FFFFFF\",\"#FFFFFF\",\"#FFFFFF\",\"#FFFFFF\",\"#FFFFFF\",\"#FFFFFF\",\"#FFFFFF\",\"#FFFFFF\",\"#FFFFFF\",\"#FFFFFF\",\"#FFFFFF\",\"#FFFFFF\",\"#FFFFFF\",\"#FFFFFF\",\"#FFFFFF\",\"#FFFFFF\",\"#FFFFFF\",\"#FFFFFF\",\"#FFFFFF\",\"#FFFFFF\",\"#FFFFFF\",\"#FFFFFF\",\"#000000\",\"#000000\",\"#000000\",\"#0000FF\",\"#0000FF\",\"#008000\",\"#FF0000\",\"#008000\",\"#FF0000\",\"#000000\",\"#008000\",\"#000000\",\"#000000\",\"#008000\",\"#008000\",\"#0000FF\",\"#000000\",\"#FF0000\",\"#000000\",\"#0000FF\",\"#0000FF\",\"#008000\",\"#FF0000\",\"#000000\",\"#FFFFFF\",\"#FFFFFF\",\"#000000\",\"#008000\",\"#008000\",\"#008000\",\"#000000\",\"#000000\",\"#000000\",\"#FF0000\",\"#0000FF\",\"#0000FF\",\"#000000\",\"#008000\",\"#008000\",\"#008000\",\"#000000\",\"#008000\",\"#000000\",\"#000000\",\"#FF0000\",\"#000000\",\"#008000\",\"#000000\",\"#000000\",\"#000000\",\"#000000\",\"#008000\",\"#008000\",\"#008000\",\"#FF0000\",\"#008000\",\"#000000\",\"#000000\",\"#000000\",\"#008000\",\"#0000FF\",\"#000000\",\"#000000\",\"#000000\",\"#0000FF\",\"#000000\",\"#008000\",\"#008000\",\"#000000\",\"#000000\",\"#008000\",\"#000000\",\"#008000\",\"#000000\",\"#000000\",\"#000000\",\"#0000FF\",\"#008000\",\"#000000\",\"#008000\",\"#FF0000\",\"#FF0000\",\"#008000\",\"#000000\",\"#0000FF\",\"#000000\",\"#FF0000\",\"#0000FF\",\"#008000\",\"#FF0000\",\"#000000\",\"#008000\",\"#000000\",\"#008000\",\"#008000\",\"#000000\",\"#000000\",\"#000000\",\"#008000\",\"#FFFFFF\",\"#FF0000\",\"#000000\",\"#0000FF\",\"#FF0000\",\"#008000\",\"#008000\",\"#008000\",\"#000000\",\"#0000FF\",\"#000000\",\"#000000\",\"#000000\",\"#008000\",\"#008000\",\"#000000\",\"#0000FF\",\"#008000\",\"#000000\",\"#008000\",\"#000000\",\"#008000\",\"#0000FF\",\"#000000\",\"#FFFFFF\",\"#000000\",\"#008000\",\"#FF0000\",\"#008000\",\"#008000\",\"#0000FF\",\"#000000\",\"#008000\",\"#000000\",\"#000000\",\"#008000\",\"#000000\",\"#000000\",\"#0000FF\",\"#008000\",\"#008000\",\"#008000\",\"#008000\",\"#008000\",\"#000000\",\"#000000\",\"#008000\",\"#000000\",\"#008000\",\"#000000\",\"#008000\",\"#000000\",\"#000000\",\"#000000\",\"#008000\",\"#000000\",\"#000000\",\"#000000\",\"#008000\",\"#FF0000\",\"#0000FF\",\"#008000\",\"#008000\",\"#008000\",\"#008000\",\"#008000\",\"#008000\",\"#008000\",\"#008000\",\"#008000\",\"#008000\",\"#FF0000\",\"#000000\",\"#000000\",\"#000000\",\"#000000\",\"#000000\",\"#FFFFFF\",\"#000000\",\"#0000FF\",\"#FF0000\",\"#0000FF\",\"#000000\",\"#000000\",\"#000000\",\"#000000\",\"#000000\",\"#000000\",\"#008000\",\"#008000\",\"#000000\",\"#FFFFFF\",\"#FFFFFF\",\"#FFFFFF\",\"#FFFFFF\",\"#008000\",\"#008000\",\"#FFFFFF\",\"#FFFFFF\",\"#FFFFFF\",\"#FFFFFF\",\"#FFFFFF\",\"#FFFFFF\",\"#000000\",\"#008000\",\"#000000\",\"#0000FF\",\"#000000\",\"#FF0000\",\"#008000\",\"#0000FF\",\"#0000FF\",\"#FF0000\",\"#000000\",\"#000000\",\"#000000\",\"#008000\",\"#000000\",\"#000000\",\"#0000FF\",\"#000000\",\"#000000\",\"#008000\",\"#FF0000\",\"#008000\",\"#000000\",\"#FFFFFF\",\"#FFFFFF\",\"#FFFFFF\",\"#FFFFFF\",\"#FFFFFF\",\"#FFFFFF\",\"#FFFFFF\",\"#FFFFFF\",\"#FFFFFF\",\"#008000\",\"#008000\",\"#FFFFFF\",\"#000000\",\"#000000\",\"#000000\",\"#FFFFFF\",\"#FFFFFF\",\"#FFFFFF\",\"#FFFFFF\",\"#FFFFFF\",\"#FFFFFF\",\"#FFFFFF\",\"#008000\",\"#FFFFFF\",\"#FFFFFF\",\"#FFFFFF\",\"#008000\",\"#FF0000\",\"#FFFFFF\",\"#FFFFFF\",\"#FFFFFF\",\"#FFFFFF\",\"#FFFFFF\",\"#FFFFFF\",\"#000000\",\"#008000\",\"#FFFFFF\",\"#FFFFFF\",\"#FFFFFF\",\"#FFFFFF\",\"#FFFFFF\",\"#FFFFFF\",\"#008000\",\"#000000\",\"#FFFFFF\",\"#008000\",\"#FFFFFF\",\"#FFFFFF\",\"#FFFFFF\",\"#FFFFFF\",\"#FFFFFF\",\"#FFFFFF\",\"#008000\",\"#000000\",\"#000000\",\"#000000\",\"#000000\",\"#FF0000\",\"#0000FF\",\"#000000\",\"#000000\",\"#008000\",\"#008000\",\"#0000FF\",\"#000000\",\"#008000\",\"#000000\",\"#008000\",\"#000000\",\"#000000\",\"#FF0000\",\"#008000\",\"#000000\",\"#008000\",\"#008000\",\"#0000FF\",\"#0000FF\",\"#000000\",\"#008000\",\"#0000FF\",\"#0000FF\",\"#000000\",\"#FF0000\",\"#FF0000\",\"#0000FF\",\"#000000\",\"#000000\",\"#000000\",\"#008000\",\"#FFFFFF\",\"#008000\",\"#008000\",\"#000000\",\"#0000FF\",\"#000000\",\"#000000\",\"#000000\",\"#008000\",\"#000000\",\"#000000\",\"#000000\",\"#000000\",\"#000000\",\"#0000FF\",\"#008000\",\"#000000\",\"#FF0000\",\"#0000FF\",\"#000000\",\"#008000\",\"#000000\",\"#000000\",\"#008000\",\"#008000\",\"#0000FF\",\"#000000\",\"#008000\",\"#008000\",\"#008000\",\"#000000\",\"#000000\",\"#FF0000\",\"#000000\",\"#FFFFFF\",\"#FFFFFF\",\"#000000\",\"#008000\",\"#008000\",\"#008000\",\"#000000\",\"#000000\",\"#008000\",\"#008000\",\"#0000FF\",\"#0000FF\",\"#000000\",\"#008000\",\"#008000\",\"#008000\",\"#000000\",\"#008000\",\"#000000\",\"#000000\",\"#FF0000\",\"#000000\",\"#008000\",\"#FF0000\",\"#000000\",\"#000000\",\"#000000\",\"#008000\",\"#008000\",\"#008000\",\"#FF0000\",\"#008000\",\"#008000\",\"#000000\",\"#000000\",\"#008000\",\"#000000\",\"#000000\",\"#000000\",\"#0000FF\",\"#000000\",\"#000000\",\"#008000\",\"#008000\",\"#000000\",\"#008000\",\"#000000\",\"#000000\",\"#008000\",\"#000000\",\"#008000\",\"#000000\",\"#0000FF\",\"#008000\",\"#000000\",\"#008000\",\"#FF0000\",\"#FF0000\",\"#000000\",\"#000000\",\"#0000FF\",\"#000000\",\"#FF0000\",\"#0000FF\",\"#000000\",\"#FF0000\",\"#008000\",\"#FF0000\",\"#000000\",\"#008000\",\"#008000\",\"#000000\",\"#000000\",\"#000000\",\"#008000\",\"#FFFFFF\",\"#FF0000\",\"#000000\",\"#0000FF\",\"#FF0000\",\"#008000\",\"#008000\",\"#008000\",\"#000000\",\"#000000\",\"#000000\",\"#000000\",\"#000000\",\"#000000\",\"#008000\",\"#000000\",\"#0000FF\",\"#000000\",\"#000000\",\"#000000\",\"#000000\",\"#008000\",\"#FF0000\",\"#000000\",\"#FFFFFF\",\"#000000\",\"#000000\",\"#000000\",\"#000000\",\"#008000\",\"#0000FF\",\"#000000\",\"#008000\",\"#000000\",\"#000000\",\"#000000\",\"#000000\",\"#000000\",\"#0000FF\",\"#008000\",\"#008000\",\"#0000FF\",\"#000000\",\"#008000\",\"#FF0000\",\"#0000FF\",\"#0000FF\",\"#000000\",\"#0000FF\",\"#000000\",\"#008000\",\"#000000\",\"#000000\",\"#000000\",\"#008000\",\"#008000\",\"#008000\",\"#000000\",\"#008000\",\"#FF0000\",\"#0000FF\",\"#008000\",\"#008000\",\"#008000\",\"#008000\",\"#FF0000\",\"#008000\",\"#008000\",\"#008000\",\"#008000\",\"#008000\",\"#FF0000\",\"#000000\",\"#008000\",\"#000000\",\"#000000\",\"#000000\",\"#FFFFFF\",\"#000000\",\"#000000\",\"#008000\",\"#0000FF\",\"#000000\",\"#000000\",\"#000000\",\"#000000\",\"#000000\",\"#000000\",\"#000000\",\"#008000\",\"#008000\",\"#FFFFFF\",\"#FFFFFF\",\"#FFFFFF\",\"#FFFFFF\",\"#008000\",\"#008000\",\"#FFFFFF\",\"#FFFFFF\",\"#FFFFFF\",\"#FFFFFF\",\"#FFFFFF\",\"#FFFFFF\",\"#000000\",\"#0000FF\",\"#000000\",\"#FF0000\",\"#000000\",\"#0000FF\",\"#000000\",\"#0000FF\",\"#FF0000\",\"#FF0000\",\"#FFFFFF\",\"#FFFFFF\",\"#FFFFFF\",\"#FFFFFF\",\"#FFFFFF\",\"#FFFFFF\",\"#FFFFFF\",\"#FFFFFF\",\"#FFFFFF\",\"#FFFFFF\",\"#FFFFFF\",\"#FFFFFF\",\"#FFFFFF\",\"#FFFFFF\",\"#FFFFFF\",\"#FFFFFF\",\"#FFFFFF\",\"#FFFFFF\",\"#FFFFFF\",\"#FFFFFF\",\"#FFFFFF\",\"#FFFFFF\",\"#FFFFFF\",\"#FFFFFF\",\"#FFFFFF\",\"#FFFFFF\",\"#FFFFFF\",\"#FFFFFF\",\"#FFFFFF\",\"#FFFFFF\",\"#008000\",\"#000000\",\"#000000\",\"#000000\",\"#008000\",\"#000000\",\"#FFFFFF\",\"#FFFFFF\",\"#FFFFFF\",\"#008000\",\"#008000\",\"#FFFFFF\",\"#FFFFFF\",\"#FFFFFF\",\"#FFFFFF\",\"#FFFFFF\",\"#FFFFFF\",\"#008000\",\"#000000\",\"#FFFFFF\",\"#FFFFFF\",\"#FFFFFF\",\"#FFFFFF\",\"#FFFFFF\",\"#FFFFFF\",\"#000000\",\"#008000\",\"#FFFFFF\",\"#008000\",\"#FFFFFF\",\"#FFFFFF\",\"#FFFFFF\",\"#FFFFFF\",\"#FFFFFF\",\"#FFFFFF\",\"#0000FF\",\"#000000\",\"#000000\",\"#000000\",\"#000000\",\"#FF0000\",\"#0000FF\",\"#008000\",\"#008000\",\"#008000\",\"#008000\",\"#0000FF\",\"#000000\",\"#008000\",\"#000000\",\"#000000\",\"#000000\",\"#000000\",\"#FF0000\",\"#008000\",\"#0000FF\",\"#FF0000\",\"#008000\",\"#008000\",\"#008000\",\"#000000\",\"#000000\",\"#008000\",\"#0000FF\",\"#008000\",\"#FF0000\",\"#FF0000\",\"#0000FF\",\"#000000\",\"#000000\",\"#000000\",\"#008000\",\"#FFFFFF\",\"#008000\",\"#008000\",\"#008000\",\"#0000FF\",\"#000000\",\"#000000\",\"#000000\",\"#000000\",\"#000000\",\"#000000\",\"#000000\",\"#000000\",\"#0000FF\",\"#008000\",\"#008000\",\"#FF0000\",\"#008000\",\"#008000\",\"#0000FF\",\"#008000\",\"#000000\",\"#000000\",\"#008000\",\"#008000\",\"#000000\",\"#000000\",\"#FF0000\",\"#000000\",\"#0000FF\",\"#000000\",\"#000000\",\"#FF0000\",\"#000000\",\"#FFFFFF\",\"#FFFFFF\",\"#000000\",\"#008000\",\"#008000\",\"#008000\",\"#000000\",\"#000000\",\"#000000\",\"#FF0000\",\"#0000FF\",\"#0000FF\",\"#000000\",\"#008000\",\"#008000\",\"#008000\",\"#000000\",\"#008000\",\"#000000\",\"#000000\",\"#FF0000\",\"#000000\",\"#008000\",\"#000000\",\"#000000\",\"#000000\",\"#000000\",\"#008000\",\"#008000\",\"#008000\",\"#FF0000\",\"#008000\",\"#008000\",\"#000000\",\"#000000\",\"#008000\",\"#0000FF\",\"#000000\",\"#000000\",\"#000000\",\"#008000\",\"#000000\",\"#008000\",\"#008000\",\"#000000\",\"#008000\",\"#008000\",\"#000000\",\"#008000\",\"#000000\",\"#000000\",\"#000000\",\"#0000FF\",\"#FF0000\",\"#000000\",\"#008000\",\"#FF0000\",\"#FF0000\",\"#008000\",\"#000000\",\"#0000FF\",\"#000000\",\"#FF0000\",\"#0000FF\",\"#008000\",\"#FF0000\",\"#000000\",\"#008000\",\"#000000\",\"#008000\",\"#008000\",\"#000000\",\"#000000\",\"#000000\",\"#008000\",\"#FFFFFF\",\"#FF0000\",\"#000000\",\"#0000FF\",\"#FF0000\",\"#008000\",\"#008000\",\"#008000\",\"#000000\",\"#0000FF\",\"#000000\",\"#000000\",\"#000000\",\"#008000\",\"#008000\",\"#000000\",\"#0000FF\",\"#008000\",\"#000000\",\"#008000\",\"#000000\",\"#008000\",\"#0000FF\",\"#000000\",\"#FFFFFF\",\"#000000\",\"#008000\",\"#FF0000\",\"#008000\",\"#008000\",\"#0000FF\",\"#000000\",\"#008000\",\"#000000\",\"#000000\",\"#008000\",\"#000000\",\"#000000\",\"#0000FF\",\"#008000\",\"#008000\",\"#008000\",\"#008000\",\"#008000\",\"#000000\",\"#000000\",\"#008000\",\"#000000\",\"#0000FF\",\"#000000\",\"#008000\",\"#000000\",\"#000000\",\"#008000\",\"#008000\",\"#000000\",\"#008000\",\"#000000\",\"#008000\",\"#FF0000\",\"#0000FF\",\"#008000\",\"#008000\",\"#008000\",\"#008000\",\"#FF0000\",\"#008000\",\"#008000\",\"#008000\",\"#008000\",\"#008000\",\"#FF0000\",\"#000000\",\"#000000\",\"#000000\",\"#000000\",\"#000000\",\"#FFFFFF\",\"#000000\",\"#008000\",\"#008000\",\"#0000FF\",\"#000000\",\"#000000\",\"#000000\",\"#000000\",\"#000000\",\"#000000\",\"#008000\",\"#008000\",\"#000000\",\"#FFFFFF\",\"#FFFFFF\",\"#FFFFFF\",\"#FFFFFF\",\"#008000\",\"#008000\",\"#FFFFFF\",\"#FFFFFF\",\"#FFFFFF\",\"#FFFFFF\",\"#FFFFFF\",\"#FFFFFF\",\"#000000\",\"#008000\",\"#008000\",\"#008000\",\"#000000\",\"#FFFFFF\",\"#FFFFFF\",\"#FFFFFF\",\"#FFFFFF\",\"#FFFFFF\",\"#FFFFFF\",\"#FFFFFF\",\"#FFFFFF\",\"#FFFFFF\",\"#FFFFFF\",\"#FFFFFF\",\"#FFFFFF\",\"#FFFFFF\",\"#FFFFFF\",\"#FFFFFF\",\"#FFFFFF\",\"#FFFFFF\",\"#FFFFFF\",\"#FFFFFF\",\"#FFFFFF\",\"#FFFFFF\",\"#FFFFFF\",\"#FFFFFF\",\"#FFFFFF\",\"#FFFFFF\",\"#FFFFFF\",\"#FFFFFF\",\"#FFFFFF\",\"#FFFFFF\",\"#FFFFFF\",\"#FFFFFF\",\"#FFFFFF\",\"#FFFFFF\",\"#FFFFFF\",\"#FFFFFF\",\"#008000\",\"#008000\",\"#008000\",\"#000000\",\"#000000\",\"#000000\",\"#FFFFFF\",\"#FFFFFF\",\"#FFFFFF\",\"#008000\",\"#000000\",\"#FFFFFF\",\"#FFFFFF\",\"#FFFFFF\",\"#FFFFFF\",\"#FFFFFF\",\"#FFFFFF\",\"#FF0000\",\"#000000\",\"#FFFFFF\",\"#FFFFFF\",\"#FFFFFF\",\"#FFFFFF\",\"#FFFFFF\",\"#FFFFFF\",\"#000000\",\"#008000\",\"#FFFFFF\",\"#008000\",\"#FFFFFF\",\"#FFFFFF\",\"#FFFFFF\",\"#FFFFFF\",\"#FFFFFF\",\"#FFFFFF\",\"#0000FF\",\"#000000\",\"#000000\",\"#FF0000\",\"#000000\",\"#FF0000\",\"#0000FF\",\"#0000FF\",\"#008000\",\"#008000\",\"#008000\",\"#0000FF\",\"#000000\",\"#008000\",\"#000000\",\"#000000\",\"#000000\",\"#000000\",\"#008000\",\"#008000\",\"#000000\",\"#FF0000\",\"#FF0000\",\"#008000\",\"#008000\",\"#008000\",\"#000000\",\"#008000\",\"#0000FF\",\"#008000\",\"#FF0000\",\"#FF0000\",\"#0000FF\",\"#000000\",\"#000000\",\"#000000\",\"#008000\",\"#FFFFFF\",\"#008000\",\"#008000\",\"#008000\",\"#0000FF\",\"#000000\",\"#000000\",\"#000000\",\"#000000\",\"#000000\",\"#000000\",\"#000000\",\"#000000\",\"#0000FF\",\"#008000\",\"#008000\",\"#FF0000\",\"#008000\",\"#0000FF\",\"#000000\",\"#FF0000\",\"#000000\",\"#000000\",\"#008000\",\"#0000FF\",\"#0000FF\",\"#000000\",\"#FF0000\",\"#000000\",\"#0000FF\",\"#0000FF\",\"#008000\",\"#FF0000\",\"#000000\",\"#FFFFFF\",\"#FFFFFF\",\"#000000\",\"#000000\",\"#000000\",\"#008000\",\"#000000\",\"#000000\",\"#008000\",\"#FF0000\",\"#0000FF\",\"#0000FF\",\"#000000\",\"#008000\",\"#008000\",\"#008000\",\"#000000\",\"#008000\",\"#000000\",\"#000000\",\"#FF0000\",\"#000000\",\"#008000\",\"#000000\",\"#000000\",\"#000000\",\"#000000\",\"#008000\",\"#008000\",\"#008000\",\"#FF0000\",\"#008000\",\"#008000\",\"#000000\",\"#000000\",\"#008000\",\"#0000FF\",\"#000000\",\"#000000\",\"#008000\",\"#008000\",\"#000000\",\"#008000\",\"#008000\",\"#000000\",\"#FF0000\",\"#0000FF\",\"#000000\",\"#008000\",\"#000000\",\"#000000\",\"#000000\",\"#008000\",\"#008000\",\"#000000\",\"#008000\",\"#FF0000\",\"#000000\",\"#008000\",\"#000000\",\"#0000FF\",\"#000000\",\"#FF0000\",\"#0000FF\",\"#008000\",\"#FF0000\",\"#000000\",\"#000000\",\"#000000\",\"#008000\",\"#008000\",\"#000000\",\"#000000\",\"#000000\",\"#008000\",\"#FFFFFF\",\"#FF0000\",\"#0000FF\",\"#0000FF\",\"#FF0000\",\"#008000\",\"#008000\",\"#008000\",\"#000000\",\"#000000\",\"#000000\",\"#000000\",\"#000000\",\"#FF0000\",\"#008000\",\"#000000\",\"#0000FF\",\"#0000FF\",\"#000000\",\"#008000\",\"#000000\",\"#008000\",\"#008000\",\"#000000\",\"#FFFFFF\",\"#000000\",\"#008000\",\"#FF0000\",\"#008000\",\"#008000\",\"#0000FF\",\"#000000\",\"#008000\",\"#000000\",\"#000000\",\"#008000\",\"#000000\",\"#000000\",\"#0000FF\",\"#008000\",\"#008000\",\"#008000\",\"#008000\",\"#008000\",\"#008000\",\"#008000\",\"#008000\",\"#000000\",\"#0000FF\",\"#000000\",\"#008000\",\"#000000\",\"#000000\",\"#000000\",\"#008000\",\"#000000\",\"#000000\",\"#000000\",\"#008000\",\"#FF0000\",\"#0000FF\",\"#008000\",\"#008000\",\"#000000\",\"#008000\",\"#FF0000\",\"#008000\",\"#008000\",\"#008000\",\"#008000\",\"#008000\",\"#FF0000\",\"#000000\",\"#000000\",\"#000000\",\"#000000\",\"#000000\",\"#FFFFFF\",\"#000000\",\"#FF0000\",\"#008000\",\"#0000FF\",\"#000000\",\"#000000\",\"#000000\",\"#000000\",\"#000000\",\"#000000\",\"#008000\",\"#008000\",\"#000000\",\"#FFFFFF\",\"#FFFFFF\",\"#FFFFFF\",\"#FFFFFF\",\"#008000\",\"#008000\",\"#FFFFFF\",\"#FFFFFF\",\"#FFFFFF\",\"#FFFFFF\",\"#FFFFFF\",\"#FFFFFF\",\"#000000\",\"#008000\",\"#008000\",\"#FF0000\",\"#000000\",\"#0000FF\",\"#008000\",\"#0000FF\",\"#0000FF\",\"#FF0000\",\"#000000\",\"#000000\",\"#000000\",\"#000000\",\"#000000\",\"#000000\",\"#0000FF\",\"#000000\",\"#000000\",\"#008000\",\"#FF0000\",\"#008000\",\"#000000\",\"#FFFFFF\",\"#FFFFFF\",\"#FFFFFF\",\"#FFFFFF\",\"#FFFFFF\",\"#FFFFFF\",\"#FFFFFF\",\"#FFFFFF\",\"#FFFFFF\",\"#FFFFFF\",\"#FFFFFF\",\"#FFFFFF\",\"#FFFFFF\",\"#FFFFFF\",\"#FFFFFF\",\"#FFFFFF\",\"#FFFFFF\",\"#FFFFFF\",\"#FFFFFF\",\"#FFFFFF\",\"#FFFFFF\",\"#FFFFFF\",\"#FFFFFF\",\"#FFFFFF\",\"#FFFFFF\",\"#FFFFFF\",\"#FFFFFF\",\"#FFFFFF\",\"#FFFFFF\",\"#FFFFFF\",\"#FFFFFF\",\"#FFFFFF\",\"#FFFFFF\",\"#FFFFFF\",\"#FFFFFF\",\"#FFFFFF\",\"#FFFFFF\",\"#FFFFFF\",\"#FFFFFF\",\"#FFFFFF\",\"#FFFFFF\",\"#FFFFFF\",\"#FFFFFF\",\"#FFFFFF\",\"#FFFFFF\",\"#FFFFFF\",\"#FFFFFF\",\"#FFFFFF\",\"#FFFFFF\",\"#FFFFFF\",\"#FFFFFF\",\"#FFFFFF\",\"#FFFFFF\",\"#000000\",\"#000000\",\"#000000\",\"#000000\",\"#FF0000\",\"#0000FF\",\"#008000\",\"#000000\",\"#008000\",\"#008000\",\"#0000FF\",\"#000000\",\"#008000\",\"#000000\",\"#008000\",\"#000000\",\"#000000\",\"#FF0000\",\"#000000\",\"#000000\",\"#008000\",\"#008000\",\"#0000FF\",\"#0000FF\",\"#000000\",\"#FF0000\",\"#0000FF\",\"#0000FF\",\"#008000\",\"#008000\",\"#FF0000\",\"#0000FF\",\"#000000\",\"#000000\",\"#000000\",\"#008000\",\"#FFFFFF\",\"#008000\",\"#008000\",\"#000000\",\"#0000FF\",\"#000000\",\"#000000\",\"#000000\",\"#008000\",\"#000000\",\"#000000\",\"#000000\",\"#000000\",\"#000000\",\"#008000\",\"#008000\",\"#000000\",\"#000000\",\"#0000FF\",\"#000000\",\"#000000\",\"#000000\",\"#000000\",\"#008000\",\"#008000\",\"#0000FF\",\"#000000\",\"#008000\",\"#008000\",\"#008000\",\"#0000FF\",\"#000000\",\"#FF0000\",\"#000000\",\"#FFFFFF\",\"#FFFFFF\",\"#000000\",\"#008000\",\"#008000\",\"#008000\",\"#000000\",\"#000000\",\"#008000\",\"#008000\",\"#0000FF\",\"#0000FF\",\"#000000\",\"#FF0000\",\"#FF0000\",\"#008000\",\"#000000\",\"#008000\",\"#000000\",\"#000000\",\"#000000\",\"#000000\",\"#008000\",\"#FF0000\",\"#000000\",\"#000000\",\"#000000\",\"#008000\",\"#008000\",\"#008000\",\"#FF0000\",\"#008000\",\"#008000\",\"#000000\",\"#000000\",\"#008000\",\"#000000\",\"#000000\",\"#000000\",\"#0000FF\",\"#000000\",\"#000000\",\"#008000\",\"#008000\",\"#000000\",\"#008000\",\"#000000\",\"#000000\",\"#008000\",\"#000000\",\"#008000\",\"#000000\",\"#0000FF\",\"#008000\",\"#000000\",\"#008000\",\"#FF0000\",\"#FF0000\",\"#000000\",\"#000000\",\"#0000FF\",\"#000000\",\"#FF0000\",\"#0000FF\",\"#000000\",\"#FF0000\",\"#008000\",\"#FF0000\",\"#000000\",\"#008000\",\"#FF0000\",\"#000000\",\"#000000\",\"#000000\",\"#008000\",\"#FFFFFF\",\"#FF0000\",\"#000000\",\"#0000FF\",\"#FF0000\",\"#008000\",\"#008000\",\"#008000\",\"#000000\",\"#000000\",\"#000000\",\"#000000\",\"#000000\",\"#000000\",\"#008000\",\"#000000\",\"#008000\",\"#000000\",\"#000000\",\"#000000\",\"#000000\",\"#008000\",\"#FF0000\",\"#000000\",\"#FFFFFF\",\"#000000\",\"#000000\",\"#000000\",\"#000000\",\"#008000\",\"#0000FF\",\"#000000\",\"#008000\",\"#000000\",\"#000000\",\"#000000\",\"#000000\",\"#000000\",\"#0000FF\",\"#008000\",\"#008000\",\"#0000FF\",\"#000000\",\"#008000\",\"#FF0000\",\"#0000FF\",\"#0000FF\",\"#000000\",\"#0000FF\",\"#000000\",\"#008000\",\"#000000\",\"#000000\",\"#000000\",\"#008000\",\"#000000\",\"#008000\",\"#000000\",\"#000000\",\"#FF0000\",\"#0000FF\",\"#008000\",\"#008000\",\"#008000\",\"#008000\",\"#FF0000\",\"#008000\",\"#008000\",\"#008000\",\"#008000\",\"#008000\",\"#FF0000\",\"#000000\",\"#008000\",\"#000000\",\"#000000\",\"#000000\",\"#FFFFFF\",\"#008000\",\"#000000\",\"#008000\",\"#008000\",\"#000000\",\"#000000\",\"#000000\",\"#000000\",\"#000000\",\"#000000\",\"#000000\",\"#008000\",\"#008000\",\"#FFFFFF\",\"#FFFFFF\",\"#FFFFFF\",\"#FFFFFF\",\"#008000\",\"#008000\",\"#FFFFFF\",\"#FFFFFF\",\"#FFFFFF\",\"#FFFFFF\",\"#FFFFFF\",\"#FFFFFF\",\"#000000\",\"#008000\",\"#000000\",\"#FF0000\",\"#000000\",\"#0000FF\",\"#000000\",\"#0000FF\",\"#FF0000\",\"#FF0000\",\"#000000\",\"#000000\",\"#000000\",\"#008000\",\"#000000\",\"#000000\",\"#0000FF\",\"#000000\",\"#000000\",\"#000000\",\"#0000FF\",\"#000000\",\"#000000\"]]]}}},\"view\":{\"type\":\"object\",\"name\":\"CDSView\",\"id\":\"p1033\",\"attributes\":{\"filter\":{\"type\":\"object\",\"name\":\"AllIndices\",\"id\":\"p1034\"}}},\"glyph\":{\"type\":\"object\",\"name\":\"Rect\",\"id\":\"p1031\",\"attributes\":{\"x\":{\"type\":\"field\",\"field\":\"x\"},\"y\":{\"type\":\"field\",\"field\":\"recty\"},\"width\":{\"type\":\"value\",\"value\":1},\"height\":{\"type\":\"value\",\"value\":1},\"line_color\":{\"type\":\"value\",\"value\":null},\"fill_color\":{\"type\":\"field\",\"field\":\"colors\"},\"fill_alpha\":{\"type\":\"value\",\"value\":0.6}}}}}],\"toolbar\":{\"type\":\"object\",\"name\":\"Toolbar\",\"id\":\"p1013\",\"attributes\":{\"tools\":[{\"id\":\"p1027\"},{\"id\":\"p1028\"},{\"id\":\"p1029\"},{\"type\":\"object\",\"name\":\"SaveTool\",\"id\":\"p1030\"}]}},\"toolbar_location\":null,\"left\":[{\"type\":\"object\",\"name\":\"LinearAxis\",\"id\":\"p1022\",\"attributes\":{\"visible\":false,\"ticker\":{\"type\":\"object\",\"name\":\"BasicTicker\",\"id\":\"p1023\",\"attributes\":{\"mantissas\":[1,2,5]}},\"formatter\":{\"type\":\"object\",\"name\":\"BasicTickFormatter\",\"id\":\"p1024\"},\"major_label_policy\":{\"type\":\"object\",\"name\":\"AllLabels\",\"id\":\"p1025\"}}}],\"below\":[{\"type\":\"object\",\"name\":\"LinearAxis\",\"id\":\"p1017\",\"attributes\":{\"ticker\":{\"type\":\"object\",\"name\":\"BasicTicker\",\"id\":\"p1018\",\"attributes\":{\"mantissas\":[1,2,5]}},\"formatter\":{\"type\":\"object\",\"name\":\"BasicTickFormatter\",\"id\":\"p1019\"},\"major_label_policy\":{\"type\":\"object\",\"name\":\"AllLabels\",\"id\":\"p1020\"}}}],\"center\":[{\"type\":\"object\",\"name\":\"Grid\",\"id\":\"p1021\",\"attributes\":{\"visible\":false,\"axis\":{\"id\":\"p1017\"}}},{\"type\":\"object\",\"name\":\"Grid\",\"id\":\"p1026\",\"attributes\":{\"visible\":false,\"dimension\":1,\"axis\":{\"id\":\"p1022\"}}}],\"min_border\":0}},0,0],[{\"type\":\"object\",\"name\":\"Figure\",\"id\":\"p1035\",\"attributes\":{\"width\":1055,\"height\":200,\"x_range\":{\"type\":\"object\",\"name\":\"Range1d\",\"id\":\"p1044\",\"attributes\":{\"end\":100}},\"y_range\":{\"type\":\"object\",\"name\":\"FactorRange\",\"id\":\"p1045\",\"attributes\":{\"factors\":[\"9 - ref|WP_175034668.1|\",\"8 - gb|AMJ36613.1|\",\"7 - gb|ABF29660.1|\",\"6 - gb|UEP24444.1|\",\"5 - ref|WP_160517496.1|\",\"4 - ref|WP_069252193.1|\",\"3 - gb|QCP70786.1|\",\"2 - pdb|3W4O|A\",\"1 - ref|WP_186289055.1|\",\"0 - tpg|HAN6459298.1|\"]}},\"x_scale\":{\"type\":\"object\",\"name\":\"LinearScale\",\"id\":\"p1046\"},\"y_scale\":{\"type\":\"object\",\"name\":\"CategoricalScale\",\"id\":\"p1047\"},\"title\":null,\"renderers\":[{\"type\":\"object\",\"name\":\"GlyphRenderer\",\"id\":\"p1063\",\"attributes\":{\"data_source\":{\"id\":\"p1001\"},\"view\":{\"type\":\"object\",\"name\":\"CDSView\",\"id\":\"p1064\",\"attributes\":{\"filter\":{\"type\":\"object\",\"name\":\"AllIndices\",\"id\":\"p1065\"}}},\"glyph\":{\"type\":\"object\",\"name\":\"Text\",\"id\":\"p1061\",\"attributes\":{\"x\":{\"type\":\"field\",\"field\":\"x\"},\"y\":{\"type\":\"field\",\"field\":\"y\"},\"text\":{\"type\":\"field\",\"field\":\"text\"},\"text_color\":{\"type\":\"value\",\"value\":\"black\"},\"text_font\":{\"type\":\"value\",\"value\":\"monospace\"},\"text_font_size\":{\"type\":\"value\",\"value\":\"9pt\"},\"text_align\":{\"type\":\"value\",\"value\":\"center\"}}}}},{\"type\":\"object\",\"name\":\"GlyphRenderer\",\"id\":\"p1066\",\"attributes\":{\"data_source\":{\"id\":\"p1001\"},\"view\":{\"type\":\"object\",\"name\":\"CDSView\",\"id\":\"p1067\",\"attributes\":{\"filter\":{\"type\":\"object\",\"name\":\"AllIndices\",\"id\":\"p1068\"}}},\"glyph\":{\"type\":\"object\",\"name\":\"Rect\",\"id\":\"p1062\",\"attributes\":{\"x\":{\"type\":\"field\",\"field\":\"x\"},\"y\":{\"type\":\"field\",\"field\":\"recty\"},\"width\":{\"type\":\"value\",\"value\":1},\"height\":{\"type\":\"value\",\"value\":1},\"line_color\":{\"type\":\"value\",\"value\":null},\"fill_color\":{\"type\":\"field\",\"field\":\"colors\"},\"fill_alpha\":{\"type\":\"value\",\"value\":0.4}}}}}],\"toolbar\":{\"type\":\"object\",\"name\":\"Toolbar\",\"id\":\"p1043\",\"attributes\":{\"tools\":[{\"id\":\"p1058\"},{\"id\":\"p1059\"},{\"type\":\"object\",\"name\":\"SaveTool\",\"id\":\"p1060\"}]}},\"toolbar_location\":null,\"left\":[{\"type\":\"object\",\"name\":\"CategoricalAxis\",\"id\":\"p1053\",\"attributes\":{\"ticker\":{\"type\":\"object\",\"name\":\"CategoricalTicker\",\"id\":\"p1054\"},\"formatter\":{\"type\":\"object\",\"name\":\"CategoricalTickFormatter\",\"id\":\"p1055\"},\"major_label_policy\":{\"type\":\"object\",\"name\":\"AllLabels\",\"id\":\"p1056\"},\"major_tick_line_width\":0,\"minor_tick_line_width\":0}}],\"below\":[{\"type\":\"object\",\"name\":\"LinearAxis\",\"id\":\"p1048\",\"attributes\":{\"ticker\":{\"type\":\"object\",\"name\":\"BasicTicker\",\"id\":\"p1049\",\"attributes\":{\"mantissas\":[1,2,5]}},\"formatter\":{\"type\":\"object\",\"name\":\"BasicTickFormatter\",\"id\":\"p1050\"},\"major_label_policy\":{\"type\":\"object\",\"name\":\"AllLabels\",\"id\":\"p1051\"},\"major_label_text_font_style\":\"bold\"}}],\"center\":[{\"type\":\"object\",\"name\":\"Grid\",\"id\":\"p1052\",\"attributes\":{\"visible\":false,\"axis\":{\"id\":\"p1048\"}}},{\"type\":\"object\",\"name\":\"Grid\",\"id\":\"p1057\",\"attributes\":{\"visible\":false,\"dimension\":1,\"axis\":{\"id\":\"p1053\"}}}],\"min_border\":0}},1,0]]}}]}};\n",
              "  const render_items = [{\"docid\":\"87736545-3284-4c45-861a-9be1d39d43eb\",\"roots\":{\"p1073\":\"e7d4aac3-7ca1-4b8d-b497-967271559777\"},\"root_ids\":[\"p1073\"]}];\n",
              "  root.Bokeh.embed.embed_items_notebook(docs_json, render_items);\n",
              "  }\n",
              "  if (root.Bokeh !== undefined) {\n",
              "    embed_document(root);\n",
              "  } else {\n",
              "    let attempts = 0;\n",
              "    const timer = setInterval(function(root) {\n",
              "      if (root.Bokeh !== undefined) {\n",
              "        clearInterval(timer);\n",
              "        embed_document(root);\n",
              "      } else {\n",
              "        attempts++;\n",
              "        if (attempts > 100) {\n",
              "          clearInterval(timer);\n",
              "          console.log(\"Bokeh: ERROR: Unable to run BokehJS code because BokehJS library is missing\");\n",
              "        }\n",
              "      }\n",
              "    }, 10, root)\n",
              "  }\n",
              "})(window);"
            ],
            "application/vnd.bokehjs_exec.v0+json": ""
          },
          "metadata": {
            "application/vnd.bokehjs_exec.v0+json": {
              "id": "p1073"
            }
          }
        },
        {
          "output_type": "execute_result",
          "data": {
            "text/plain": [
              "GridPlot(id='p1073', ...)"
            ],
            "text/html": [
              "<div style=\"display: table;\"><div style=\"display: table-row;\"><div style=\"display: table-cell;\"><b title=\"bokeh.models.plots.GridPlot\">GridPlot</b>(</div><div style=\"display: table-cell;\">id&nbsp;=&nbsp;'p1073', <span id=\"p1079\" style=\"cursor: pointer;\">&hellip;)</span></div></div><div class=\"p1078\" style=\"display: none;\"><div style=\"display: table-cell;\"></div><div style=\"display: table-cell;\">align&nbsp;=&nbsp;'auto',</div></div><div class=\"p1078\" style=\"display: none;\"><div style=\"display: table-cell;\"></div><div style=\"display: table-cell;\">aspect_ratio&nbsp;=&nbsp;None,</div></div><div class=\"p1078\" style=\"display: none;\"><div style=\"display: table-cell;\"></div><div style=\"display: table-cell;\">children&nbsp;=&nbsp;[(figure(id='p1005', ...), 0, 0), (figure(id='p1035', ...), 1, 0)],</div></div><div class=\"p1078\" style=\"display: none;\"><div style=\"display: table-cell;\"></div><div style=\"display: table-cell;\">cols&nbsp;=&nbsp;None,</div></div><div class=\"p1078\" style=\"display: none;\"><div style=\"display: table-cell;\"></div><div style=\"display: table-cell;\">context_menu&nbsp;=&nbsp;None,</div></div><div class=\"p1078\" style=\"display: none;\"><div style=\"display: table-cell;\"></div><div style=\"display: table-cell;\">css_classes&nbsp;=&nbsp;[],</div></div><div class=\"p1078\" style=\"display: none;\"><div style=\"display: table-cell;\"></div><div style=\"display: table-cell;\">disabled&nbsp;=&nbsp;False,</div></div><div class=\"p1078\" style=\"display: none;\"><div style=\"display: table-cell;\"></div><div style=\"display: table-cell;\">flow_mode&nbsp;=&nbsp;'block',</div></div><div class=\"p1078\" style=\"display: none;\"><div style=\"display: table-cell;\"></div><div style=\"display: table-cell;\">height&nbsp;=&nbsp;None,</div></div><div class=\"p1078\" style=\"display: none;\"><div style=\"display: table-cell;\"></div><div style=\"display: table-cell;\">height_policy&nbsp;=&nbsp;'auto',</div></div><div class=\"p1078\" style=\"display: none;\"><div style=\"display: table-cell;\"></div><div style=\"display: table-cell;\">js_event_callbacks&nbsp;=&nbsp;{},</div></div><div class=\"p1078\" style=\"display: none;\"><div style=\"display: table-cell;\"></div><div style=\"display: table-cell;\">js_property_callbacks&nbsp;=&nbsp;{},</div></div><div class=\"p1078\" style=\"display: none;\"><div style=\"display: table-cell;\"></div><div style=\"display: table-cell;\">margin&nbsp;=&nbsp;None,</div></div><div class=\"p1078\" style=\"display: none;\"><div style=\"display: table-cell;\"></div><div style=\"display: table-cell;\">max_height&nbsp;=&nbsp;None,</div></div><div class=\"p1078\" style=\"display: none;\"><div style=\"display: table-cell;\"></div><div style=\"display: table-cell;\">max_width&nbsp;=&nbsp;None,</div></div><div class=\"p1078\" style=\"display: none;\"><div style=\"display: table-cell;\"></div><div style=\"display: table-cell;\">min_height&nbsp;=&nbsp;None,</div></div><div class=\"p1078\" style=\"display: none;\"><div style=\"display: table-cell;\"></div><div style=\"display: table-cell;\">min_width&nbsp;=&nbsp;None,</div></div><div class=\"p1078\" style=\"display: none;\"><div style=\"display: table-cell;\"></div><div style=\"display: table-cell;\">name&nbsp;=&nbsp;None,</div></div><div class=\"p1078\" style=\"display: none;\"><div style=\"display: table-cell;\"></div><div style=\"display: table-cell;\">resizable&nbsp;=&nbsp;False,</div></div><div class=\"p1078\" style=\"display: none;\"><div style=\"display: table-cell;\"></div><div style=\"display: table-cell;\">rows&nbsp;=&nbsp;None,</div></div><div class=\"p1078\" style=\"display: none;\"><div style=\"display: table-cell;\"></div><div style=\"display: table-cell;\">sizing_mode&nbsp;=&nbsp;None,</div></div><div class=\"p1078\" style=\"display: none;\"><div style=\"display: table-cell;\"></div><div style=\"display: table-cell;\">spacing&nbsp;=&nbsp;0,</div></div><div class=\"p1078\" style=\"display: none;\"><div style=\"display: table-cell;\"></div><div style=\"display: table-cell;\">styles&nbsp;=&nbsp;{},</div></div><div class=\"p1078\" style=\"display: none;\"><div style=\"display: table-cell;\"></div><div style=\"display: table-cell;\">stylesheets&nbsp;=&nbsp;[],</div></div><div class=\"p1078\" style=\"display: none;\"><div style=\"display: table-cell;\"></div><div style=\"display: table-cell;\">subscribed_events&nbsp;=&nbsp;PropertyValueSet(),</div></div><div class=\"p1078\" style=\"display: none;\"><div style=\"display: table-cell;\"></div><div style=\"display: table-cell;\">syncable&nbsp;=&nbsp;True,</div></div><div class=\"p1078\" style=\"display: none;\"><div style=\"display: table-cell;\"></div><div style=\"display: table-cell;\">tags&nbsp;=&nbsp;[],</div></div><div class=\"p1078\" style=\"display: none;\"><div style=\"display: table-cell;\"></div><div style=\"display: table-cell;\">toolbar&nbsp;=&nbsp;Toolbar(id='p1072', ...),</div></div><div class=\"p1078\" style=\"display: none;\"><div style=\"display: table-cell;\"></div><div style=\"display: table-cell;\">toolbar_location&nbsp;=&nbsp;'below',</div></div><div class=\"p1078\" style=\"display: none;\"><div style=\"display: table-cell;\"></div><div style=\"display: table-cell;\">visible&nbsp;=&nbsp;True,</div></div><div class=\"p1078\" style=\"display: none;\"><div style=\"display: table-cell;\"></div><div style=\"display: table-cell;\">width&nbsp;=&nbsp;None,</div></div><div class=\"p1078\" style=\"display: none;\"><div style=\"display: table-cell;\"></div><div style=\"display: table-cell;\">width_policy&nbsp;=&nbsp;'auto')</div></div></div>\n",
              "<script>\n",
              "(function() {\n",
              "  let expanded = false;\n",
              "  const ellipsis = document.getElementById(\"p1079\");\n",
              "  ellipsis.addEventListener(\"click\", function() {\n",
              "    const rows = document.getElementsByClassName(\"p1078\");\n",
              "    for (let i = 0; i < rows.length; i++) {\n",
              "      const el = rows[i];\n",
              "      el.style.display = expanded ? \"none\" : \"table-row\";\n",
              "    }\n",
              "    ellipsis.innerHTML = expanded ? \"&hellip;)\" : \"&lsaquo;&lsaquo;&lsaquo;\";\n",
              "    expanded = !expanded;\n",
              "  });\n",
              "})();\n",
              "</script>\n"
            ]
          },
          "metadata": {},
          "execution_count": 8
        }
      ]
    },
    {
      "cell_type": "markdown",
      "source": [
        "We are starting from a set of meaningful protein sequences from multiple sequence alignment, and we hope to train a model to reproduce them with some novelty. Leveraging Multiple Sequence Alignments (MSAs) for generative model training offers advantages:\n",
        "\n",
        "1. **Handling Sequence Length Variation:** MSAs effectively address the challenge of **sequences with different lengths**. Gap characters within the alignment accommodate variations, allowing the model to learn from sequences of varying sizes.\n",
        "\n",
        "2. **Capturing Evolutionary Relationships:** MSAs go beyond simply aligning sequences. They capture the **evolutionary relationships** between a group of protein sequences. This is achieved by:\n",
        "\n",
        "    - **Explicit Information:** MSAs explicitly capture **position-wise amino acid frequencies**. This reveals how **conserved** (important) each residue appears to be at a specific position in the protein.\n",
        "\n",
        "    - **Implicit Information:** While not directly encoded, MSAs also implicitly capture **correlations between positions**. These correlations represent the interdependence of amino acids at different locations within the protein structure, a key aspect not captured by models that solely rely on position-wise frequencies.\n",
        "\n",
        "By incorporating both explicit and implicit information from MSAs, generative models can learn more nuanced relationships between protein sequences and generate novel sequences that are not only structurally feasible but also potentially retain important functional features."
      ],
      "metadata": {
        "id": "MuMu9_cd8cqL"
      }
    },
    {
      "cell_type": "markdown",
      "source": [
        "## Datasets and Dataloaders"
      ],
      "metadata": {
        "id": "4pqcua8K8hgP"
      }
    },
    {
      "cell_type": "code",
      "source": [
        "class ProteinDataset(Dataset):\n",
        "    \"\"\"Creates a custom dataset to handle protein sequences represented as SeqLikes.\"\"\"\n",
        "\n",
        "    def __init__(self, seq_series):\n",
        "        self.seq_series = seq_series\n",
        "        self.xl = torch.tensor(seq_series.seq.to_onehot()).float().unsqueeze(1)\n",
        "        self.yl = self.xl.clone()\n",
        "\n",
        "    def __len__(self):\n",
        "        \"\"\"Returns the number of sequences in the dataset.\"\"\"\n",
        "        return len(self.seq_series)\n",
        "\n",
        "    def __getitem__(self, index):\n",
        "        \"\"\"Returns the sequence at the specified index.\"\"\"\n",
        "        return self.xl[index, :], self.yl[index, :]"
      ],
      "metadata": {
        "id": "AQ1AP9zozHX-"
      },
      "execution_count": 9,
      "outputs": []
    },
    {
      "cell_type": "code",
      "source": [
        "ds= ProteinDataset(seqs)\n",
        "print(len(ds))"
      ],
      "metadata": {
        "colab": {
          "base_uri": "https://localhost:8080/"
        },
        "id": "H6m7yQJozNJK",
        "outputId": "2b530191-aaad-4449-821e-39f2d5587115"
      },
      "execution_count": 10,
      "outputs": [
        {
          "output_type": "stream",
          "name": "stdout",
          "text": [
            "4987\n"
          ]
        }
      ]
    },
    {
      "cell_type": "markdown",
      "source": [
        "Notice that `class ProteinDataset(Dataset)` utilizes the input protein sequence as both the input and target during training."
      ],
      "metadata": {
        "id": "sQA1JHCv8lVP"
      }
    },
    {
      "cell_type": "code",
      "source": [
        "train_size = int(len(ds) * 0.8)\n",
        "val_size = len(ds) - train_size\n",
        "train_ds, val_ds = random_split(ds, [train_size, val_size])\n",
        "\n",
        "bs = 128\n",
        "train_dl, val_dl = get_dls(train_ds, val_ds, bs=bs)\n",
        "\n",
        "# Turn it into dls\n",
        "dls = DataLoaders(train_dl, val_dl)"
      ],
      "metadata": {
        "id": "EDxsF2J6zQzg"
      },
      "execution_count": 11,
      "outputs": []
    },
    {
      "cell_type": "code",
      "source": [
        "# Look at the data\n",
        "xb, yb = next(iter(dls.train))\n",
        "print(xb.shape)\n",
        "print(yb.shape)\n",
        "print(yb[0])"
      ],
      "metadata": {
        "colab": {
          "base_uri": "https://localhost:8080/"
        },
        "id": "yzFkOuS0zVGW",
        "outputId": "ffdf5bd8-6f36-404c-d91b-7317d5151edf"
      },
      "execution_count": 12,
      "outputs": [
        {
          "output_type": "stream",
          "name": "stdout",
          "text": [
            "torch.Size([128, 1, 324, 28])\n",
            "torch.Size([128, 1, 324, 28])\n",
            "tensor([[[0., 1., 0.,  ..., 0., 0., 0.],\n",
            "         [0., 1., 0.,  ..., 0., 0., 0.],\n",
            "         [0., 1., 0.,  ..., 0., 0., 0.],\n",
            "         ...,\n",
            "         [0., 0., 0.,  ..., 0., 0., 0.],\n",
            "         [0., 1., 0.,  ..., 0., 0., 0.],\n",
            "         [0., 1., 0.,  ..., 0., 0., 0.]]])\n"
          ]
        }
      ]
    },
    {
      "cell_type": "markdown",
      "source": [
        "## Model"
      ],
      "metadata": {
        "id": "XT4BBdYk8toE"
      }
    },
    {
      "cell_type": "markdown",
      "source": [
        "Our model is a Variational Autoencoder (VAE) designed for protein sequence design. The VAE operates by first encoding an input protein sequence into a lower-dimensional latent representation, denoted as 'z'. This 'z' is not a single value, but rather a pair of vectors: the mean and standard deviation of a normal distribution. This approach allows the model to capture the essential features of the protein sequence in a compressed format while also accounting for the inherent variability observed in protein sequences. Subsequently, the VAE can sample from this learned distribution to generate new protein sequences. This sampling process enables the model to create novel protein sequences that share similar characteristics with the training data. For a tutorial on VAE see [this video](https://www.youtube.com/watch?v=9zKuYvjFFS8)."
      ],
      "metadata": {
        "id": "dP8zfm-d8wK-"
      }
    },
    {
      "cell_type": "markdown",
      "source": [
        "**Walks through different steps as I prototype the code, rather than final consolidated implementation.**"
      ],
      "metadata": {
        "id": "0lcBPNVp8xwh"
      }
    },
    {
      "cell_type": "code",
      "source": [
        "seq_len = len(seqs[0])\n",
        "alphabet_sz = len(AA)\n",
        "ni,nh1,nh2,nh3,nl = 1, 128, 64, 32, 64"
      ],
      "metadata": {
        "id": "VGJHvB9m2dNH"
      },
      "execution_count": 13,
      "outputs": []
    },
    {
      "cell_type": "code",
      "source": [
        "def enc_conv(ni, nf, norm=nn.BatchNorm2d, act=nn.SiLU):\n",
        "    layers = nn.Sequential(nn.Conv2d(ni, nf, kernel_size=(3, 3),\n",
        "                                     stride=(2, 1),\n",
        "                                     padding=1,\n",
        "                                     dilation=1))\n",
        "    if norm: layers.append(norm(nf))\n",
        "    if act : layers.append(act())\n",
        "    return layers"
      ],
      "metadata": {
        "id": "uBalqJlJ3qIS"
      },
      "execution_count": 14,
      "outputs": []
    },
    {
      "cell_type": "code",
      "source": [
        "out1 = enc_conv(1, 128)(xb)\n",
        "print(out1.shape)\n",
        "out2 = enc_conv(128, 64)(out1)\n",
        "print(out2.shape)\n",
        "out3 = enc_conv(64, 32)(out2)\n",
        "print(out3.shape)\n",
        "out4 = nn.Flatten()(out3)\n",
        "print(out4.shape)"
      ],
      "metadata": {
        "colab": {
          "base_uri": "https://localhost:8080/"
        },
        "id": "rvnZMIJ7A71i",
        "outputId": "c763e9a3-9654-4327-95ba-be6af6265058"
      },
      "execution_count": 15,
      "outputs": [
        {
          "output_type": "stream",
          "name": "stdout",
          "text": [
            "torch.Size([128, 128, 162, 28])\n",
            "torch.Size([128, 64, 81, 28])\n",
            "torch.Size([128, 32, 41, 28])\n",
            "torch.Size([128, 36736])\n"
          ]
        }
      ]
    },
    {
      "cell_type": "code",
      "source": [
        "def eff_seq_len(ht_in, n, kernel_size, stride, padding, dilation):\n",
        "    \"\"\"\n",
        "    Calculate the effective sequence length after convolution.\n",
        "    \"\"\"\n",
        "\n",
        "    hts = []  # Store heights after each convolution\n",
        "    ht_curr = ht_in\n",
        "\n",
        "    for _ in range(n):\n",
        "        ht_curr = ((ht_curr + 2*padding - dilation*(kernel_size - 1) - 1) // stride) + 1\n",
        "        hts.append(ht_curr)\n",
        "\n",
        "    return hts"
      ],
      "metadata": {
        "id": "Zr9rsUt6Ym8X"
      },
      "execution_count": 16,
      "outputs": []
    },
    {
      "cell_type": "code",
      "source": [
        "eff_seq_lens = eff_seq_len(324, 3, 3, 2, 1, 1)"
      ],
      "metadata": {
        "id": "nxDPCgn-a1lM"
      },
      "execution_count": 17,
      "outputs": []
    },
    {
      "cell_type": "code",
      "source": [
        "def lin(ni, nf, act=nn.SiLU, bias=True):\n",
        "    layers = nn.Sequential(nn.Linear(ni, nf, bias=bias))\n",
        "    if act : layers.append(act())\n",
        "    return layers"
      ],
      "metadata": {
        "id": "CuVkCI3FesZQ"
      },
      "execution_count": 18,
      "outputs": []
    },
    {
      "cell_type": "code",
      "source": [
        "class VAEEncoder(nn.Module):\n",
        "\n",
        "    def __init__(self):\n",
        "        super().__init__()\n",
        "\n",
        "        self.convs = nn.Sequential(\n",
        "            enc_conv(ni , nh1),\n",
        "            enc_conv(nh1, nh2),\n",
        "            enc_conv(nh2, nh3),\n",
        "            nn.Flatten())\n",
        "\n",
        "        encoded_sz = nh3 * eff_seq_lens[-1] * alphabet_sz\n",
        "        self.fc_mu = lin(encoded_sz, nl, act=None)\n",
        "        self.fc_logvar = lin(encoded_sz, nl, act=None)\n",
        "\n",
        "    def forward(self, x):\n",
        "        x = self.convs(x)\n",
        "        mu = self.fc_mu(x)\n",
        "        logvar = self.fc_logvar(x)\n",
        "        return mu, logvar"
      ],
      "metadata": {
        "id": "ey3I2P-9EVff"
      },
      "execution_count": 19,
      "outputs": []
    },
    {
      "cell_type": "code",
      "source": [
        "encoder = VAEEncoder()\n",
        "mu, logvar = encoder(xb)\n",
        "mu.shape, logvar.shape"
      ],
      "metadata": {
        "colab": {
          "base_uri": "https://localhost:8080/"
        },
        "id": "E1XJyegQI909",
        "outputId": "662601eb-6a55-48ad-83fe-c43dd811b55f"
      },
      "execution_count": 20,
      "outputs": [
        {
          "output_type": "execute_result",
          "data": {
            "text/plain": [
              "(torch.Size([128, 64]), torch.Size([128, 64]))"
            ]
          },
          "metadata": {},
          "execution_count": 20
        }
      ]
    },
    {
      "cell_type": "code",
      "source": [
        "def decode_conv(ni, nf, ht_pad=0, norm=nn.BatchNorm2d, act=nn.SiLU):\n",
        "    layers = nn.Sequential(nn.ConvTranspose2d(ni, nf, kernel_size=(3, 3),\n",
        "                                              stride = (2, 1),\n",
        "                                              padding=1,\n",
        "                                              output_padding=(ht_pad,0),\n",
        "                                              dilation=1))\n",
        "    if norm: layers.append(norm(nf))\n",
        "    if act : layers.append(act())\n",
        "    return layers"
      ],
      "metadata": {
        "id": "lZLKI-wTHH_8"
      },
      "execution_count": 21,
      "outputs": []
    },
    {
      "cell_type": "code",
      "source": [
        "out1 = lin(64, 32*41*28)(mu)\n",
        "print(out1.shape)\n",
        "out2 = nn.Unflatten(1, (32, 41, 28))(out1)\n",
        "print(out2.shape)\n",
        "out3 = decode_conv(nh3, nh2)(out2)\n",
        "print(out3.shape)\n",
        "out4 = decode_conv(nh2, nh1)(out3)\n",
        "print(out4.shape)\n",
        "out5 = decode_conv(nh1, ni, norm=None, act=None)(out4)\n",
        "print(out5.shape)\n",
        "out = nn.Softmax(dim=3)(out5)\n",
        "print(out5.shape)"
      ],
      "metadata": {
        "colab": {
          "base_uri": "https://localhost:8080/"
        },
        "id": "xDWrpbFJloSm",
        "outputId": "59490364-9b5c-461e-97e1-a08f25b812e9"
      },
      "execution_count": 22,
      "outputs": [
        {
          "output_type": "stream",
          "name": "stdout",
          "text": [
            "torch.Size([128, 36736])\n",
            "torch.Size([128, 32, 41, 28])\n",
            "torch.Size([128, 64, 81, 28])\n",
            "torch.Size([128, 128, 161, 28])\n",
            "torch.Size([128, 1, 321, 28])\n",
            "torch.Size([128, 1, 321, 28])\n"
          ]
        }
      ]
    },
    {
      "cell_type": "code",
      "source": [
        "expected_seq_lens = list(reversed(eff_seq_lens[:-1])) + [seq_len]\n",
        "expected_seq_lens"
      ],
      "metadata": {
        "colab": {
          "base_uri": "https://localhost:8080/"
        },
        "id": "7o4YlRFHfV2H",
        "outputId": "31db3e77-b241-42af-fd67-fbbf21c94be6"
      },
      "execution_count": 23,
      "outputs": [
        {
          "output_type": "execute_result",
          "data": {
            "text/plain": [
              "[81, 162, 324]"
            ]
          },
          "metadata": {},
          "execution_count": 23
        }
      ]
    },
    {
      "cell_type": "code",
      "source": [
        "def cal_out_pad(inp_szs, out_szs, kernel_size, stride, padding, dilation):\n",
        "    \"\"\"\n",
        "    Calculate the required output padding for a series of layers to achieve specific target output sizes.\n",
        "\n",
        "    Parameters:\n",
        "    - inp_szs: List of input sizes for each layer.\n",
        "    - out_szs: List of target output sizes for each layer.\n",
        "\n",
        "    Returns:\n",
        "    - List of output paddings required for each layer.\n",
        "    \"\"\"\n",
        "    out_pads = []\n",
        "\n",
        "    for inp_sz, out_sz in zip(inp_szs, out_szs):\n",
        "        output_padding = out_sz - ((stride * (inp_sz - 1) + dilation * (kernel_size - 1) + 1 - 2 * padding))\n",
        "        out_pads.append(output_padding)\n",
        "\n",
        "    return out_pads"
      ],
      "metadata": {
        "id": "jaTuqKZ8g3x0"
      },
      "execution_count": 24,
      "outputs": []
    },
    {
      "cell_type": "code",
      "source": [
        "out_pads = cal_out_pad(list(reversed(eff_seq_lens)), expected_seq_lens, 3, 2, 1, 1)\n",
        "out_pads"
      ],
      "metadata": {
        "colab": {
          "base_uri": "https://localhost:8080/"
        },
        "id": "5RHqZajGjWn6",
        "outputId": "eeb018b6-29ae-4c79-ff9f-111c0cbe5798"
      },
      "execution_count": 25,
      "outputs": [
        {
          "output_type": "execute_result",
          "data": {
            "text/plain": [
              "[0, 1, 1]"
            ]
          },
          "metadata": {},
          "execution_count": 25
        }
      ]
    },
    {
      "cell_type": "code",
      "source": [
        "out1 = lin(64, 32*41*28)(mu)\n",
        "print(out1.shape)\n",
        "out2 = nn.Unflatten(1, (32, 41, 28))(out1)\n",
        "print(out2.shape)\n",
        "out3 = decode_conv(nh3, nh2, ht_pad=out_pads[0])(out2)\n",
        "print(out3.shape)\n",
        "out4 = decode_conv(nh2, nh1, ht_pad=out_pads[1])(out3)\n",
        "print(out4.shape)\n",
        "out5 = decode_conv(nh1, ni, ht_pad=out_pads[2], norm=None, act=None)(out4)\n",
        "print(out5.shape)\n",
        "out = nn.Softmax(dim=3)(out5)\n",
        "print(out5.shape)"
      ],
      "metadata": {
        "colab": {
          "base_uri": "https://localhost:8080/"
        },
        "id": "LL4GlduZm-M-",
        "outputId": "d8972841-ed20-4065-8c77-957adf9c88c8"
      },
      "execution_count": 26,
      "outputs": [
        {
          "output_type": "stream",
          "name": "stdout",
          "text": [
            "torch.Size([128, 36736])\n",
            "torch.Size([128, 32, 41, 28])\n",
            "torch.Size([128, 64, 81, 28])\n",
            "torch.Size([128, 128, 162, 28])\n",
            "torch.Size([128, 1, 324, 28])\n",
            "torch.Size([128, 1, 324, 28])\n"
          ]
        }
      ]
    },
    {
      "cell_type": "code",
      "source": [
        "class VAEDecoder(nn.Module):\n",
        "    \"\"\"Decoder network for VAE protein sequence design.\"\"\"\n",
        "\n",
        "    def __init__(self):\n",
        "        super().__init__()\n",
        "\n",
        "        encoded_sz = nh3 * eff_seq_lens[-1] * alphabet_sz\n",
        "\n",
        "        self.layers = nn.Sequential(\n",
        "            lin(nl, encoded_sz),\n",
        "            nn.Unflatten(1, (nh3, eff_seq_lens[-1], alphabet_sz)),\n",
        "            decode_conv(nh3, nh2, ht_pad=out_pads[0]),\n",
        "            decode_conv(nh2, nh1, ht_pad=out_pads[1]),\n",
        "            decode_conv(nh1, ni, ht_pad=out_pads[2], norm=None, act=None),\n",
        "            nn.Softmax(dim=3)\n",
        "            )\n",
        "\n",
        "    def forward(self, z):\n",
        "        x = self.layers(z)\n",
        "        return x"
      ],
      "metadata": {
        "id": "rJsTE0K_lQ0V"
      },
      "execution_count": 27,
      "outputs": []
    },
    {
      "cell_type": "code",
      "source": [
        "decoder = VAEDecoder()\n",
        "decoder(mu).shape"
      ],
      "metadata": {
        "colab": {
          "base_uri": "https://localhost:8080/"
        },
        "id": "TtTeaMxgMwWh",
        "outputId": "e7087498-d728-419a-d87f-b5a386d98a74"
      },
      "execution_count": 28,
      "outputs": [
        {
          "output_type": "execute_result",
          "data": {
            "text/plain": [
              "torch.Size([128, 1, 324, 28])"
            ]
          },
          "metadata": {},
          "execution_count": 28
        }
      ]
    },
    {
      "cell_type": "code",
      "source": [
        "def init_weights(m, leaky=0.):\n",
        "    \"\"\"\n",
        "    Initializes weights of convolutional and linear layers using Kaiming/He normalization.\n",
        "\n",
        "    Parameters:\n",
        "    - m: A module or layer of a PyTorch model.\n",
        "    - leaky: The negative slope of the leaky ReLU activation applied after the layer.\n",
        "             This parameter is used to adjust the Kaiming initialization accordingly.\n",
        "             For regular ReLU, keep it at 0. For leaky ReLU, set it to the value of the negative slope.\n",
        "    \"\"\"\n",
        "    if isinstance(m, (nn.Conv2d, nn.ConvTranspose2d, nn.Linear)):\n",
        "        init.kaiming_normal_(m.weight, a=leaky)"
      ],
      "metadata": {
        "id": "WZXNGkjHNwCZ"
      },
      "execution_count": 29,
      "outputs": []
    },
    {
      "cell_type": "markdown",
      "source": [
        "Kaiming (He) initialization strategy designed to **preserve the variance of the inputs** through the layers of the network,\n",
        "a property that is beneficial for maintaining effective gradient flow during training."
      ],
      "metadata": {
        "id": "So3ku96E9aBZ"
      }
    },
    {
      "cell_type": "code",
      "source": [
        "iw = partial(init_weights, leaky=0.2)"
      ],
      "metadata": {
        "id": "SwnvuZypOPgm"
      },
      "execution_count": 30,
      "outputs": []
    },
    {
      "cell_type": "code",
      "source": [
        "class VAE(nn.Module):\n",
        "    def __init__(self):\n",
        "        super().__init__()\n",
        "        self.encoder = VAEEncoder()\n",
        "        self.decoder = VAEDecoder()\n",
        "        iw(self)\n",
        "\n",
        "    def reparameterize(self, mu, logvar):\n",
        "        std = torch.exp(0.5 * logvar)\n",
        "        eps = torch.randn_like(std)\n",
        "        return mu + eps * std\n",
        "\n",
        "    def forward(self, x):\n",
        "        mu, logvar = self.encoder(x)\n",
        "        z = self.reparameterize(mu, logvar)\n",
        "        return self.decoder(z), mu, logvar"
      ],
      "metadata": {
        "id": "SUQxt-2OORXu"
      },
      "execution_count": 31,
      "outputs": []
    },
    {
      "cell_type": "markdown",
      "source": [
        "The VAE's `forward` method encodes an input protein, samples a latent representation ('z'), and decodes it back to a new protein. During training, we return both the reconstructed protein and the latent distribution's mean and standard deviation for loss calculation."
      ],
      "metadata": {
        "id": "gGM6umOT9ky9"
      }
    },
    {
      "cell_type": "code",
      "source": [
        "m = VAE()\n",
        "m"
      ],
      "metadata": {
        "colab": {
          "base_uri": "https://localhost:8080/"
        },
        "id": "3Uoyr7IHPsAC",
        "outputId": "a494a631-935d-46a1-ca99-fc4d0fdbde57"
      },
      "execution_count": 32,
      "outputs": [
        {
          "output_type": "execute_result",
          "data": {
            "text/plain": [
              "VAE(\n",
              "  (encoder): VAEEncoder(\n",
              "    (convs): Sequential(\n",
              "      (0): Sequential(\n",
              "        (0): Conv2d(1, 128, kernel_size=(3, 3), stride=(2, 1), padding=(1, 1))\n",
              "        (1): BatchNorm2d(128, eps=1e-05, momentum=0.1, affine=True, track_running_stats=True)\n",
              "        (2): SiLU()\n",
              "      )\n",
              "      (1): Sequential(\n",
              "        (0): Conv2d(128, 64, kernel_size=(3, 3), stride=(2, 1), padding=(1, 1))\n",
              "        (1): BatchNorm2d(64, eps=1e-05, momentum=0.1, affine=True, track_running_stats=True)\n",
              "        (2): SiLU()\n",
              "      )\n",
              "      (2): Sequential(\n",
              "        (0): Conv2d(64, 32, kernel_size=(3, 3), stride=(2, 1), padding=(1, 1))\n",
              "        (1): BatchNorm2d(32, eps=1e-05, momentum=0.1, affine=True, track_running_stats=True)\n",
              "        (2): SiLU()\n",
              "      )\n",
              "      (3): Flatten(start_dim=1, end_dim=-1)\n",
              "    )\n",
              "    (fc_mu): Sequential(\n",
              "      (0): Linear(in_features=36736, out_features=64, bias=True)\n",
              "    )\n",
              "    (fc_logvar): Sequential(\n",
              "      (0): Linear(in_features=36736, out_features=64, bias=True)\n",
              "    )\n",
              "  )\n",
              "  (decoder): VAEDecoder(\n",
              "    (layers): Sequential(\n",
              "      (0): Sequential(\n",
              "        (0): Linear(in_features=64, out_features=36736, bias=True)\n",
              "        (1): SiLU()\n",
              "      )\n",
              "      (1): Unflatten(dim=1, unflattened_size=(32, 41, 28))\n",
              "      (2): Sequential(\n",
              "        (0): ConvTranspose2d(32, 64, kernel_size=(3, 3), stride=(2, 1), padding=(1, 1))\n",
              "        (1): BatchNorm2d(64, eps=1e-05, momentum=0.1, affine=True, track_running_stats=True)\n",
              "        (2): SiLU()\n",
              "      )\n",
              "      (3): Sequential(\n",
              "        (0): ConvTranspose2d(64, 128, kernel_size=(3, 3), stride=(2, 1), padding=(1, 1), output_padding=(1, 0))\n",
              "        (1): BatchNorm2d(128, eps=1e-05, momentum=0.1, affine=True, track_running_stats=True)\n",
              "        (2): SiLU()\n",
              "      )\n",
              "      (4): Sequential(\n",
              "        (0): ConvTranspose2d(128, 1, kernel_size=(3, 3), stride=(2, 1), padding=(1, 1), output_padding=(1, 0))\n",
              "      )\n",
              "      (5): Softmax(dim=3)\n",
              "    )\n",
              "  )\n",
              ")"
            ]
          },
          "metadata": {},
          "execution_count": 32
        }
      ]
    },
    {
      "cell_type": "code",
      "source": [
        "result = m(xb)\n",
        "\n",
        "reconstruction, mean, logvar = result\n",
        "\n",
        "reconstruction.shape, mean.shape, logvar.shape"
      ],
      "metadata": {
        "colab": {
          "base_uri": "https://localhost:8080/"
        },
        "id": "BeLrGsu1P07q",
        "outputId": "5480a6d5-bbc9-47a8-8bb8-e8822cf3c196"
      },
      "execution_count": 33,
      "outputs": [
        {
          "output_type": "execute_result",
          "data": {
            "text/plain": [
              "(torch.Size([128, 1, 324, 28]), torch.Size([128, 64]), torch.Size([128, 64]))"
            ]
          },
          "metadata": {},
          "execution_count": 33
        }
      ]
    },
    {
      "cell_type": "markdown",
      "source": [
        "## The Learner"
      ],
      "metadata": {
        "id": "nymOWSjq9rcX"
      }
    },
    {
      "cell_type": "markdown",
      "source": [
        "`Learner` class from super-duper awesome [fastai](https://github.com/fastai/course22p2/blob/master/nbs/29_vae.ipynb)."
      ],
      "metadata": {
        "id": "ifxbpNPl9t4c"
      }
    },
    {
      "cell_type": "code",
      "source": [
        "def kld_loss(inp, x):  # KL Divergence\n",
        "    x_hat, mu, logvar = inp\n",
        "    return -0.5 * (1 + logvar - mu.pow(2) - logvar.exp()).mean()\n",
        "\n",
        "def bce_loss(inp, x):  # Reconstruction loss\n",
        "    return F.binary_cross_entropy_with_logits(inp[0], x)\n",
        "\n",
        "def vae_loss(inp, x): return kld_loss(inp, x) + bce_loss(inp, x)"
      ],
      "metadata": {
        "id": "q7QBeGGpP9iQ"
      },
      "execution_count": 34,
      "outputs": []
    },
    {
      "cell_type": "markdown",
      "source": [
        "We have two terms in our VAE loss function. Reconstruction loss measures how well the model has reconstructed the protein from 'z', and the KL Divergence is there to force the VAE to learn a distribution that is close to a standard normal distribution. This is a regularizer that helps the model to learn meaningful representations, so that (if all goes well) we can later use it to generate new proteins."
      ],
      "metadata": {
        "id": "aem6p7yX91ME"
      }
    },
    {
      "cell_type": "code",
      "source": [
        "vae_loss(result, xb)"
      ],
      "metadata": {
        "colab": {
          "base_uri": "https://localhost:8080/"
        },
        "id": "-VRZ61ixQAQ8",
        "outputId": "800181c2-98dd-49e9-8db9-0de6704d5b11"
      },
      "execution_count": 35,
      "outputs": [
        {
          "output_type": "execute_result",
          "data": {
            "text/plain": [
              "tensor(0.8223, grad_fn=<AddBackward0>)"
            ]
          },
          "metadata": {},
          "execution_count": 35
        }
      ]
    },
    {
      "cell_type": "code",
      "source": [
        "class FuncMetric(Mean):\n",
        "    \"\"\"Compute the mean of any function (`fn`) applied to inputs and targets over all updates\"\"\"\n",
        "    def __init__(self, fn, device=None):\n",
        "        super().__init__(device=device)\n",
        "        self.fn = fn\n",
        "\n",
        "    def update(self, inp, targets):\n",
        "        self.weighted_sum += self.fn(inp, targets)\n",
        "        self.weights += 1"
      ],
      "metadata": {
        "id": "AI-M4WmsqjBt"
      },
      "execution_count": 36,
      "outputs": []
    },
    {
      "cell_type": "code",
      "source": [
        "metrics = MetricsCB(kld=FuncMetric(kld_loss), bce=FuncMetric(bce_loss))\n",
        "\n",
        "# Define the optimizer\n",
        "opt_func = partial(optim.Adam, eps=1e-5, amsgrad=True)"
      ],
      "metadata": {
        "id": "-ZZj0HqRqrV7"
      },
      "execution_count": 37,
      "outputs": []
    },
    {
      "cell_type": "code",
      "source": [
        "torch.cuda.is_available()"
      ],
      "metadata": {
        "colab": {
          "base_uri": "https://localhost:8080/"
        },
        "id": "8zaiobhZqteW",
        "outputId": "42a8d406-95b1-42cb-f43a-c730ac44c50b"
      },
      "execution_count": 38,
      "outputs": [
        {
          "output_type": "execute_result",
          "data": {
            "text/plain": [
              "True"
            ]
          },
          "metadata": {},
          "execution_count": 38
        }
      ]
    },
    {
      "cell_type": "code",
      "source": [
        "torch.backends.cudnn.enabled"
      ],
      "metadata": {
        "colab": {
          "base_uri": "https://localhost:8080/"
        },
        "id": "KF2UrgWqqvGy",
        "outputId": "15ff6506-fc8b-4e23-fdd2-0bf188fea020"
      },
      "execution_count": 39,
      "outputs": [
        {
          "output_type": "execute_result",
          "data": {
            "text/plain": [
              "True"
            ]
          },
          "metadata": {},
          "execution_count": 39
        }
      ]
    },
    {
      "cell_type": "code",
      "source": [
        "lr = 1e-3\n",
        "epochs = 30\n",
        "tmax = epochs * len(dls.train)\n",
        "sched = partial(lr_scheduler.OneCycleLR, max_lr=lr, total_steps=tmax)\n",
        "cbs = [DeviceCB(), # Handles making sure data and model are on the right device\n",
        "       ProgressCB(plot=True), # Displays metrics and loss during training\n",
        "       metrics, # Keep track of any relevant metrics\n",
        "       BatchSchedCB(sched),\n",
        "       GradientClip, # Prevents exploding gradients\n",
        "       MixedPrecision()]\n",
        "\n",
        "# Define the model\n",
        "model = VAE()\n",
        "learn = Learner(model, dls, vae_loss, lr=lr, cbs=cbs, opt_func=opt_func)"
      ],
      "metadata": {
        "id": "SeRu0QlrqxP5"
      },
      "execution_count": 40,
      "outputs": []
    },
    {
      "cell_type": "code",
      "source": [
        "learn.fit(epochs)"
      ],
      "metadata": {
        "colab": {
          "base_uri": "https://localhost:8080/",
          "height": 1000
        },
        "id": "9mDS51Yoq6uU",
        "outputId": "4951e2aa-66c4-4d41-f66f-e7110ffc1a96"
      },
      "execution_count": 41,
      "outputs": [
        {
          "output_type": "display_data",
          "data": {
            "text/plain": [
              "<IPython.core.display.HTML object>"
            ],
            "text/html": [
              "\n",
              "<style>\n",
              "    /* Turns off some styling */\n",
              "    progress {\n",
              "        /* gets rid of default border in Firefox and Opera. */\n",
              "        border: none;\n",
              "        /* Needs to be in here for Safari polyfill so background images work as expected. */\n",
              "        background-size: auto;\n",
              "    }\n",
              "    progress:not([value]), progress:not([value])::-webkit-progress-bar {\n",
              "        background: repeating-linear-gradient(45deg, #7e7e7e, #7e7e7e 10px, #5c5c5c 10px, #5c5c5c 20px);\n",
              "    }\n",
              "    .progress-bar-interrupted, .progress-bar-interrupted::-webkit-progress-bar {\n",
              "        background: #F44336;\n",
              "    }\n",
              "</style>\n"
            ]
          },
          "metadata": {}
        },
        {
          "output_type": "display_data",
          "data": {
            "text/plain": [
              "<IPython.core.display.HTML object>"
            ],
            "text/html": [
              "<table border=\"1\" class=\"dataframe\">\n",
              "  <thead>\n",
              "    <tr style=\"text-align: left;\">\n",
              "      <th>kld</th>\n",
              "      <th>bce</th>\n",
              "      <th>loss</th>\n",
              "      <th>epoch</th>\n",
              "      <th>train</th>\n",
              "    </tr>\n",
              "  </thead>\n",
              "  <tbody>\n",
              "    <tr>\n",
              "      <td>0.026</td>\n",
              "      <td>0.711</td>\n",
              "      <td>0.737</td>\n",
              "      <td>0</td>\n",
              "      <td>train</td>\n",
              "    </tr>\n",
              "    <tr>\n",
              "      <td>0.005</td>\n",
              "      <td>0.710</td>\n",
              "      <td>0.715</td>\n",
              "      <td>0</td>\n",
              "      <td>eval</td>\n",
              "    </tr>\n",
              "    <tr>\n",
              "      <td>0.007</td>\n",
              "      <td>0.709</td>\n",
              "      <td>0.716</td>\n",
              "      <td>1</td>\n",
              "      <td>train</td>\n",
              "    </tr>\n",
              "    <tr>\n",
              "      <td>0.004</td>\n",
              "      <td>0.708</td>\n",
              "      <td>0.712</td>\n",
              "      <td>1</td>\n",
              "      <td>eval</td>\n",
              "    </tr>\n",
              "    <tr>\n",
              "      <td>0.003</td>\n",
              "      <td>0.707</td>\n",
              "      <td>0.710</td>\n",
              "      <td>2</td>\n",
              "      <td>train</td>\n",
              "    </tr>\n",
              "    <tr>\n",
              "      <td>0.004</td>\n",
              "      <td>0.707</td>\n",
              "      <td>0.710</td>\n",
              "      <td>2</td>\n",
              "      <td>eval</td>\n",
              "    </tr>\n",
              "    <tr>\n",
              "      <td>0.004</td>\n",
              "      <td>0.706</td>\n",
              "      <td>0.710</td>\n",
              "      <td>3</td>\n",
              "      <td>train</td>\n",
              "    </tr>\n",
              "    <tr>\n",
              "      <td>0.009</td>\n",
              "      <td>0.706</td>\n",
              "      <td>0.715</td>\n",
              "      <td>3</td>\n",
              "      <td>eval</td>\n",
              "    </tr>\n",
              "    <tr>\n",
              "      <td>0.008</td>\n",
              "      <td>0.706</td>\n",
              "      <td>0.714</td>\n",
              "      <td>4</td>\n",
              "      <td>train</td>\n",
              "    </tr>\n",
              "    <tr>\n",
              "      <td>0.004</td>\n",
              "      <td>0.705</td>\n",
              "      <td>0.709</td>\n",
              "      <td>4</td>\n",
              "      <td>eval</td>\n",
              "    </tr>\n",
              "    <tr>\n",
              "      <td>0.001</td>\n",
              "      <td>0.705</td>\n",
              "      <td>0.706</td>\n",
              "      <td>5</td>\n",
              "      <td>train</td>\n",
              "    </tr>\n",
              "    <tr>\n",
              "      <td>0.001</td>\n",
              "      <td>0.704</td>\n",
              "      <td>0.705</td>\n",
              "      <td>5</td>\n",
              "      <td>eval</td>\n",
              "    </tr>\n",
              "    <tr>\n",
              "      <td>0.001</td>\n",
              "      <td>0.704</td>\n",
              "      <td>0.705</td>\n",
              "      <td>6</td>\n",
              "      <td>train</td>\n",
              "    </tr>\n",
              "    <tr>\n",
              "      <td>0.001</td>\n",
              "      <td>0.704</td>\n",
              "      <td>0.705</td>\n",
              "      <td>6</td>\n",
              "      <td>eval</td>\n",
              "    </tr>\n",
              "    <tr>\n",
              "      <td>0.001</td>\n",
              "      <td>0.703</td>\n",
              "      <td>0.704</td>\n",
              "      <td>7</td>\n",
              "      <td>train</td>\n",
              "    </tr>\n",
              "    <tr>\n",
              "      <td>0.000</td>\n",
              "      <td>0.703</td>\n",
              "      <td>0.703</td>\n",
              "      <td>7</td>\n",
              "      <td>eval</td>\n",
              "    </tr>\n",
              "    <tr>\n",
              "      <td>0.000</td>\n",
              "      <td>0.702</td>\n",
              "      <td>0.702</td>\n",
              "      <td>8</td>\n",
              "      <td>train</td>\n",
              "    </tr>\n",
              "    <tr>\n",
              "      <td>0.001</td>\n",
              "      <td>0.702</td>\n",
              "      <td>0.702</td>\n",
              "      <td>8</td>\n",
              "      <td>eval</td>\n",
              "    </tr>\n",
              "    <tr>\n",
              "      <td>0.000</td>\n",
              "      <td>0.701</td>\n",
              "      <td>0.701</td>\n",
              "      <td>9</td>\n",
              "      <td>train</td>\n",
              "    </tr>\n",
              "    <tr>\n",
              "      <td>0.000</td>\n",
              "      <td>0.700</td>\n",
              "      <td>0.701</td>\n",
              "      <td>9</td>\n",
              "      <td>eval</td>\n",
              "    </tr>\n",
              "    <tr>\n",
              "      <td>0.000</td>\n",
              "      <td>0.700</td>\n",
              "      <td>0.700</td>\n",
              "      <td>10</td>\n",
              "      <td>train</td>\n",
              "    </tr>\n",
              "    <tr>\n",
              "      <td>0.000</td>\n",
              "      <td>0.699</td>\n",
              "      <td>0.699</td>\n",
              "      <td>10</td>\n",
              "      <td>eval</td>\n",
              "    </tr>\n",
              "    <tr>\n",
              "      <td>0.000</td>\n",
              "      <td>0.698</td>\n",
              "      <td>0.699</td>\n",
              "      <td>11</td>\n",
              "      <td>train</td>\n",
              "    </tr>\n",
              "    <tr>\n",
              "      <td>0.000</td>\n",
              "      <td>0.698</td>\n",
              "      <td>0.698</td>\n",
              "      <td>11</td>\n",
              "      <td>eval</td>\n",
              "    </tr>\n",
              "    <tr>\n",
              "      <td>0.000</td>\n",
              "      <td>0.697</td>\n",
              "      <td>0.697</td>\n",
              "      <td>12</td>\n",
              "      <td>train</td>\n",
              "    </tr>\n",
              "    <tr>\n",
              "      <td>0.000</td>\n",
              "      <td>0.697</td>\n",
              "      <td>0.697</td>\n",
              "      <td>12</td>\n",
              "      <td>eval</td>\n",
              "    </tr>\n",
              "    <tr>\n",
              "      <td>0.000</td>\n",
              "      <td>0.696</td>\n",
              "      <td>0.697</td>\n",
              "      <td>13</td>\n",
              "      <td>train</td>\n",
              "    </tr>\n",
              "    <tr>\n",
              "      <td>0.000</td>\n",
              "      <td>0.696</td>\n",
              "      <td>0.696</td>\n",
              "      <td>13</td>\n",
              "      <td>eval</td>\n",
              "    </tr>\n",
              "    <tr>\n",
              "      <td>0.000</td>\n",
              "      <td>0.696</td>\n",
              "      <td>0.696</td>\n",
              "      <td>14</td>\n",
              "      <td>train</td>\n",
              "    </tr>\n",
              "    <tr>\n",
              "      <td>0.000</td>\n",
              "      <td>0.695</td>\n",
              "      <td>0.695</td>\n",
              "      <td>14</td>\n",
              "      <td>eval</td>\n",
              "    </tr>\n",
              "    <tr>\n",
              "      <td>0.000</td>\n",
              "      <td>0.695</td>\n",
              "      <td>0.695</td>\n",
              "      <td>15</td>\n",
              "      <td>train</td>\n",
              "    </tr>\n",
              "    <tr>\n",
              "      <td>0.000</td>\n",
              "      <td>0.695</td>\n",
              "      <td>0.695</td>\n",
              "      <td>15</td>\n",
              "      <td>eval</td>\n",
              "    </tr>\n",
              "    <tr>\n",
              "      <td>0.000</td>\n",
              "      <td>0.694</td>\n",
              "      <td>0.694</td>\n",
              "      <td>16</td>\n",
              "      <td>train</td>\n",
              "    </tr>\n",
              "    <tr>\n",
              "      <td>0.000</td>\n",
              "      <td>0.694</td>\n",
              "      <td>0.694</td>\n",
              "      <td>16</td>\n",
              "      <td>eval</td>\n",
              "    </tr>\n",
              "    <tr>\n",
              "      <td>0.000</td>\n",
              "      <td>0.694</td>\n",
              "      <td>0.694</td>\n",
              "      <td>17</td>\n",
              "      <td>train</td>\n",
              "    </tr>\n",
              "    <tr>\n",
              "      <td>0.000</td>\n",
              "      <td>0.694</td>\n",
              "      <td>0.694</td>\n",
              "      <td>17</td>\n",
              "      <td>eval</td>\n",
              "    </tr>\n",
              "    <tr>\n",
              "      <td>0.000</td>\n",
              "      <td>0.694</td>\n",
              "      <td>0.694</td>\n",
              "      <td>18</td>\n",
              "      <td>train</td>\n",
              "    </tr>\n",
              "    <tr>\n",
              "      <td>0.000</td>\n",
              "      <td>0.693</td>\n",
              "      <td>0.693</td>\n",
              "      <td>18</td>\n",
              "      <td>eval</td>\n",
              "    </tr>\n",
              "    <tr>\n",
              "      <td>0.000</td>\n",
              "      <td>0.693</td>\n",
              "      <td>0.693</td>\n",
              "      <td>19</td>\n",
              "      <td>train</td>\n",
              "    </tr>\n",
              "    <tr>\n",
              "      <td>0.000</td>\n",
              "      <td>0.693</td>\n",
              "      <td>0.693</td>\n",
              "      <td>19</td>\n",
              "      <td>eval</td>\n",
              "    </tr>\n",
              "    <tr>\n",
              "      <td>0.000</td>\n",
              "      <td>0.693</td>\n",
              "      <td>0.693</td>\n",
              "      <td>20</td>\n",
              "      <td>train</td>\n",
              "    </tr>\n",
              "    <tr>\n",
              "      <td>0.000</td>\n",
              "      <td>0.693</td>\n",
              "      <td>0.693</td>\n",
              "      <td>20</td>\n",
              "      <td>eval</td>\n",
              "    </tr>\n",
              "    <tr>\n",
              "      <td>0.000</td>\n",
              "      <td>0.693</td>\n",
              "      <td>0.693</td>\n",
              "      <td>21</td>\n",
              "      <td>train</td>\n",
              "    </tr>\n",
              "    <tr>\n",
              "      <td>0.000</td>\n",
              "      <td>0.693</td>\n",
              "      <td>0.693</td>\n",
              "      <td>21</td>\n",
              "      <td>eval</td>\n",
              "    </tr>\n",
              "    <tr>\n",
              "      <td>0.000</td>\n",
              "      <td>0.693</td>\n",
              "      <td>0.693</td>\n",
              "      <td>22</td>\n",
              "      <td>train</td>\n",
              "    </tr>\n",
              "    <tr>\n",
              "      <td>0.000</td>\n",
              "      <td>0.693</td>\n",
              "      <td>0.693</td>\n",
              "      <td>22</td>\n",
              "      <td>eval</td>\n",
              "    </tr>\n",
              "    <tr>\n",
              "      <td>0.000</td>\n",
              "      <td>0.693</td>\n",
              "      <td>0.693</td>\n",
              "      <td>23</td>\n",
              "      <td>train</td>\n",
              "    </tr>\n",
              "    <tr>\n",
              "      <td>0.000</td>\n",
              "      <td>0.692</td>\n",
              "      <td>0.693</td>\n",
              "      <td>23</td>\n",
              "      <td>eval</td>\n",
              "    </tr>\n",
              "    <tr>\n",
              "      <td>0.000</td>\n",
              "      <td>0.692</td>\n",
              "      <td>0.692</td>\n",
              "      <td>24</td>\n",
              "      <td>train</td>\n",
              "    </tr>\n",
              "    <tr>\n",
              "      <td>0.000</td>\n",
              "      <td>0.692</td>\n",
              "      <td>0.692</td>\n",
              "      <td>24</td>\n",
              "      <td>eval</td>\n",
              "    </tr>\n",
              "    <tr>\n",
              "      <td>0.000</td>\n",
              "      <td>0.692</td>\n",
              "      <td>0.692</td>\n",
              "      <td>25</td>\n",
              "      <td>train</td>\n",
              "    </tr>\n",
              "    <tr>\n",
              "      <td>0.000</td>\n",
              "      <td>0.692</td>\n",
              "      <td>0.692</td>\n",
              "      <td>25</td>\n",
              "      <td>eval</td>\n",
              "    </tr>\n",
              "    <tr>\n",
              "      <td>0.000</td>\n",
              "      <td>0.692</td>\n",
              "      <td>0.692</td>\n",
              "      <td>26</td>\n",
              "      <td>train</td>\n",
              "    </tr>\n",
              "    <tr>\n",
              "      <td>0.000</td>\n",
              "      <td>0.692</td>\n",
              "      <td>0.692</td>\n",
              "      <td>26</td>\n",
              "      <td>eval</td>\n",
              "    </tr>\n",
              "    <tr>\n",
              "      <td>0.000</td>\n",
              "      <td>0.692</td>\n",
              "      <td>0.692</td>\n",
              "      <td>27</td>\n",
              "      <td>train</td>\n",
              "    </tr>\n",
              "    <tr>\n",
              "      <td>0.000</td>\n",
              "      <td>0.692</td>\n",
              "      <td>0.692</td>\n",
              "      <td>27</td>\n",
              "      <td>eval</td>\n",
              "    </tr>\n",
              "    <tr>\n",
              "      <td>0.000</td>\n",
              "      <td>0.692</td>\n",
              "      <td>0.692</td>\n",
              "      <td>28</td>\n",
              "      <td>train</td>\n",
              "    </tr>\n",
              "    <tr>\n",
              "      <td>0.000</td>\n",
              "      <td>0.692</td>\n",
              "      <td>0.692</td>\n",
              "      <td>28</td>\n",
              "      <td>eval</td>\n",
              "    </tr>\n",
              "    <tr>\n",
              "      <td>0.000</td>\n",
              "      <td>0.692</td>\n",
              "      <td>0.692</td>\n",
              "      <td>29</td>\n",
              "      <td>train</td>\n",
              "    </tr>\n",
              "    <tr>\n",
              "      <td>0.000</td>\n",
              "      <td>0.692</td>\n",
              "      <td>0.692</td>\n",
              "      <td>29</td>\n",
              "      <td>eval</td>\n",
              "    </tr>\n",
              "  </tbody>\n",
              "</table>"
            ]
          },
          "metadata": {}
        },
        {
          "output_type": "display_data",
          "data": {
            "text/plain": [
              "<Figure size 600x400 with 1 Axes>"
            ],
            "image/png": "[encoded data removed]"
          },
          "metadata": {}
        }
      ]
    },
    {
      "cell_type": "markdown",
      "source": [
        "## VAE Sample"
      ],
      "metadata": {
        "id": "FwNiZNjuB--j"
      }
    },
    {
      "cell_type": "code",
      "source": [],
      "metadata": {
        "id": "2BLnjiNWEzQp"
      },
      "execution_count": null,
      "outputs": []
    },
    {
      "cell_type": "code",
      "source": [
        "!mkdir -p models\n",
        "PATH = 'models/vae.pth'"
      ],
      "metadata": {
        "id": "uuDfAKCgAtoE"
      },
      "execution_count": null,
      "outputs": []
    },
    {
      "cell_type": "code",
      "source": [
        "# save model\n",
        "torch.save(model.state_dict(), PATH)"
      ],
      "metadata": {
        "id": "Sd-GaJrQpOJT"
      },
      "execution_count": null,
      "outputs": []
    },
    {
      "cell_type": "code",
      "source": [
        "# load model\n",
        "model = VAE()\n",
        "model.load_state_dict(torch.load(PATH))\n",
        "model.eval()"
      ],
      "metadata": {
        "id": "H9p66Oj7Ajon"
      },
      "execution_count": null,
      "outputs": []
    },
    {
      "cell_type": "markdown",
      "source": [
        "**Evaluation**:\n",
        "\n",
        "Evaluate the performance of my modified architecture by comparing generated sequences to a benchmark dataset in terms of diversity metrics (e.g., Shannon entropy) and functional similarity to known proteins.\n",
        "Visualize the latent space using dimensionality reduction techniques to assess if it captures meaningful relationships between protein sequences."
      ],
      "metadata": {
        "id": "p3U_8eiZ9_ag"
      }
    },
    {
      "cell_type": "code",
      "source": [],
      "metadata": {
        "id": "iv3795hg-Doy"
      },
      "execution_count": null,
      "outputs": []
    }
  ]
}